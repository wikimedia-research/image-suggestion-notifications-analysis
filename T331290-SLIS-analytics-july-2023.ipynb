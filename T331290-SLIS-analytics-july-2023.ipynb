{
 "cells": [
  {
   "cell_type": "markdown",
   "id": "f2f95862-1b5d-4633-97d5-000e7e6e4e26",
   "metadata": {},
   "source": [
    "# Analytics for Section Level Image Suggestions Notifications¶"
   ]
  },
  {
   "cell_type": "markdown",
   "id": "6b438e86-829d-4903-8ecc-be5129ac6e5a",
   "metadata": {},
   "source": [
    "[T331290](https://phabricator.wikimedia.org/T331290)"
   ]
  },
  {
   "cell_type": "markdown",
   "id": "8bae2bf0-642f-46fe-b1e7-0ec87b0a0b0a",
   "metadata": {},
   "source": [
    "# Purpose"
   ]
  },
  {
   "cell_type": "markdown",
   "id": "6dac997c-7185-44b5-bc0c-8c66367abd9d",
   "metadata": {},
   "source": [
    "Section-level image suggestion were sent out on July 5th, 2023. These suggestions are sent weekly as notifications to experienced contributors for pages on their watchlist and are page level, section level or bundled together.\n",
    "\n",
    "In this report, we will take a look at data in July 2023 from Structured Content's pilot wikis: CA, PT, RU, ID, NO, HU, FI wikis and answer the following question:\n",
    "\n",
    "- Number of notifications sent\n",
    "    - Filtered by article vs section-level suggestion\n",
    "- Percentage of notifications read\n",
    "    - Filtered by article vs section-level suggestion\n",
    "- Notificaton opt out rate\n",
    "- Number of images suggested that are added to the matched article within a month of receiving the notification\n",
    "    - Filtered by article vs section-level suggestion\n",
    "- Revert rate for image additions\n",
    "    - Filtered by article vs section-level suggestion"
   ]
  },
  {
   "cell_type": "markdown",
   "id": "bc4094b1-64cd-44ee-8c5f-611aba3552b0",
   "metadata": {},
   "source": [
    "# Data Preparation"
   ]
  },
  {
   "cell_type": "code",
   "execution_count": 1,
   "id": "d471377b-ff7e-4e8f-b68b-4c3843a56dce",
   "metadata": {},
   "outputs": [
    {
     "name": "stdout",
     "output_type": "stream",
     "text": [
      "\n"
     ]
    },
    {
     "name": "stderr",
     "output_type": "stream",
     "text": [
      "The check for a newer release of Wmfdata failed to complete. Consider checking manually.\n"
     ]
    }
   ],
   "source": [
    "import re\n",
    "\n",
    "from wmfdata import hive, mariadb, spark\n",
    "import wmfdata \n",
    "\n",
    "import math\n",
    "import pandas as pd\n",
    "import numpy as np\n",
    "\n",
    "from datetime import datetime, timedelta, date"
   ]
  },
  {
   "cell_type": "code",
   "execution_count": 2,
   "id": "472eab1b-49a6-4113-83ee-fbe4aa64176b",
   "metadata": {},
   "outputs": [
    {
     "name": "stdout",
     "output_type": "stream",
     "text": [
      "SPARK_HOME: /usr/lib/spark3\n",
      "Using Hadoop client lib jars at 3.2.0, provided by Spark.\n",
      "PYSPARK_PYTHON=/opt/conda-analytics/bin/python3\n"
     ]
    },
    {
     "name": "stderr",
     "output_type": "stream",
     "text": [
      "Setting default log level to \"WARN\".\n",
      "To adjust logging level use sc.setLogLevel(newLevel). For SparkR, use setLogLevel(newLevel).\n",
      "23/09/04 18:05:28 WARN SparkConf: Note that spark.local.dir will be overridden by the value set by the cluster manager (via SPARK_LOCAL_DIRS in mesos/standalone/kubernetes and LOCAL_DIRS in YARN).\n",
      "23/09/04 18:05:28 WARN Utils: Service 'sparkDriver' could not bind on port 12000. Attempting port 12001.\n",
      "23/09/04 18:05:28 WARN Utils: Service 'sparkDriver' could not bind on port 12001. Attempting port 12002.\n",
      "23/09/04 18:05:28 WARN Utils: Service 'sparkDriver' could not bind on port 12002. Attempting port 12003.\n",
      "23/09/04 18:05:28 WARN Utils: Service 'SparkUI' could not bind on port 4040. Attempting port 4041.\n",
      "23/09/04 18:05:28 WARN Utils: Service 'SparkUI' could not bind on port 4041. Attempting port 4042.\n",
      "23/09/04 18:05:28 WARN Utils: Service 'SparkUI' could not bind on port 4042. Attempting port 4043.\n",
      "23/09/04 18:05:36 WARN Utils: Service 'org.apache.spark.network.netty.NettyBlockTransferService' could not bind on port 13000. Attempting port 13001.\n",
      "23/09/04 18:05:36 WARN Utils: Service 'org.apache.spark.network.netty.NettyBlockTransferService' could not bind on port 13001. Attempting port 13002.\n",
      "23/09/04 18:05:36 WARN Utils: Service 'org.apache.spark.network.netty.NettyBlockTransferService' could not bind on port 13002. Attempting port 13003.\n",
      "23/09/04 18:05:36 WARN YarnSchedulerBackend$YarnSchedulerEndpoint: Attempted to request executors before the AM has registered!\n"
     ]
    }
   ],
   "source": [
    "spark_session = wmfdata.spark.create_session(app_name='pyspark regular; media-changes',\n",
    "                                  type='yarn-large')  "
   ]
  },
  {
   "cell_type": "markdown",
   "id": "9dc6b532-60a2-43c0-84f5-f0ba016a7a85",
   "metadata": {},
   "source": [
    "## Parameters"
   ]
  },
  {
   "cell_type": "code",
   "execution_count": 28,
   "id": "c9081fb1-5391-44d1-9b7b-a31f97e9e1e0",
   "metadata": {},
   "outputs": [],
   "source": [
    "mw_snapshot = '2023-07'  \n",
    "wiki_dbs = ('ptwiki', 'ruwiki', 'idwiki','fiwiki', 'huwiki','cawiki', 'nowiki')\n",
    "\n",
    "wiki_db_str = \"('\" + \"','\".join(wiki_dbs) + \"')\"  # otherwise single wiki leads to confusing syntax errors\n",
    "wiki_db_list = list(wiki_dbs)\n",
    "\n",
    "notification_timestamp = 20220720000000\n",
    "\n",
    "#notification ts\n",
    "m_start_timestamp = 20230701000000\n",
    "n_start_timestamp = 20230601000000\n",
    "n_end_timestamp = 20230801000000\n",
    "\n",
    "##edits ts\n",
    "start_timestamp = '2023-07-01' \n",
    "end_timestamp = '2023-08-01'\n",
    "\n",
    "media_list_table = 'cchen.media_july_2023'"
   ]
  },
  {
   "cell_type": "markdown",
   "id": "c091cfe4-a82a-4b71-b309-a5909192a6e5",
   "metadata": {},
   "source": [
    "## Notification Data"
   ]
  },
  {
   "cell_type": "code",
   "execution_count": 4,
   "id": "d852bb7c-d292-4ce8-a630-b4f7432feb07",
   "metadata": {},
   "outputs": [],
   "source": [
    "notification_query = \"\"\"\n",
    "\n",
    "SELECT\n",
    "   notification_event,\n",
    "   notification_bundle_hash,\n",
    "   notification_user,\n",
    "   notification_timestamp,\n",
    "   notification_read_timestamp,\n",
    "   event_extra,\n",
    "   event_page_id\n",
    "FROM echo_notification\n",
    "JOIN echo_event on event_id = notification_event\n",
    "WHERE notification_timestamp >= {start_timestamp}\n",
    "  AND notification_timestamp < {end_timestamp}\n",
    "  AND event_type = 'image-suggestions'\n",
    "\n",
    "\"\"\""
   ]
  },
  {
   "cell_type": "code",
   "execution_count": 5,
   "id": "eb1147f0-4fa2-44ed-9865-636e7f542cdb",
   "metadata": {},
   "outputs": [
    {
     "name": "stdout",
     "output_type": "stream",
     "text": [
      "getting data for ptwiki\n"
     ]
    },
    {
     "name": "stderr",
     "output_type": "stream",
     "text": [
      "/home/conniecc1/.conda/envs/2023-03-15T06.34.12_conniecc1/lib/python3.10/site-packages/pandas/io/sql.py:761: UserWarning: pandas only support SQLAlchemy connectable(engine/connection) ordatabase string URI or sqlite3 DBAPI2 connectionother DBAPI2 objects are not tested, please consider using SQLAlchemy\n",
      "  warnings.warn(\n"
     ]
    },
    {
     "name": "stdout",
     "output_type": "stream",
     "text": [
      "getting data for ruwiki\n"
     ]
    },
    {
     "name": "stderr",
     "output_type": "stream",
     "text": [
      "/home/conniecc1/.conda/envs/2023-03-15T06.34.12_conniecc1/lib/python3.10/site-packages/pandas/io/sql.py:761: UserWarning: pandas only support SQLAlchemy connectable(engine/connection) ordatabase string URI or sqlite3 DBAPI2 connectionother DBAPI2 objects are not tested, please consider using SQLAlchemy\n",
      "  warnings.warn(\n"
     ]
    },
    {
     "name": "stdout",
     "output_type": "stream",
     "text": [
      "getting data for idwiki\n"
     ]
    },
    {
     "name": "stderr",
     "output_type": "stream",
     "text": [
      "/home/conniecc1/.conda/envs/2023-03-15T06.34.12_conniecc1/lib/python3.10/site-packages/pandas/io/sql.py:761: UserWarning: pandas only support SQLAlchemy connectable(engine/connection) ordatabase string URI or sqlite3 DBAPI2 connectionother DBAPI2 objects are not tested, please consider using SQLAlchemy\n",
      "  warnings.warn(\n"
     ]
    },
    {
     "name": "stdout",
     "output_type": "stream",
     "text": [
      "getting data for fiwiki\n"
     ]
    },
    {
     "name": "stderr",
     "output_type": "stream",
     "text": [
      "/home/conniecc1/.conda/envs/2023-03-15T06.34.12_conniecc1/lib/python3.10/site-packages/pandas/io/sql.py:761: UserWarning: pandas only support SQLAlchemy connectable(engine/connection) ordatabase string URI or sqlite3 DBAPI2 connectionother DBAPI2 objects are not tested, please consider using SQLAlchemy\n",
      "  warnings.warn(\n"
     ]
    },
    {
     "name": "stdout",
     "output_type": "stream",
     "text": [
      "getting data for huwiki\n"
     ]
    },
    {
     "name": "stderr",
     "output_type": "stream",
     "text": [
      "/home/conniecc1/.conda/envs/2023-03-15T06.34.12_conniecc1/lib/python3.10/site-packages/pandas/io/sql.py:761: UserWarning: pandas only support SQLAlchemy connectable(engine/connection) ordatabase string URI or sqlite3 DBAPI2 connectionother DBAPI2 objects are not tested, please consider using SQLAlchemy\n",
      "  warnings.warn(\n"
     ]
    },
    {
     "name": "stdout",
     "output_type": "stream",
     "text": [
      "getting data for cawiki\n"
     ]
    },
    {
     "name": "stderr",
     "output_type": "stream",
     "text": [
      "/home/conniecc1/.conda/envs/2023-03-15T06.34.12_conniecc1/lib/python3.10/site-packages/pandas/io/sql.py:761: UserWarning: pandas only support SQLAlchemy connectable(engine/connection) ordatabase string URI or sqlite3 DBAPI2 connectionother DBAPI2 objects are not tested, please consider using SQLAlchemy\n",
      "  warnings.warn(\n"
     ]
    },
    {
     "name": "stdout",
     "output_type": "stream",
     "text": [
      "getting data for nowiki\n"
     ]
    },
    {
     "name": "stderr",
     "output_type": "stream",
     "text": [
      "/home/conniecc1/.conda/envs/2023-03-15T06.34.12_conniecc1/lib/python3.10/site-packages/pandas/io/sql.py:761: UserWarning: pandas only support SQLAlchemy connectable(engine/connection) ordatabase string URI or sqlite3 DBAPI2 connectionother DBAPI2 objects are not tested, please consider using SQLAlchemy\n",
      "  warnings.warn(\n"
     ]
    }
   ],
   "source": [
    "notification_data = pd.DataFrame()\n",
    "\n",
    "for i in range(len(wiki_db_list)):\n",
    "        \n",
    "    print('getting data for %s' % wiki_db_list[i])\n",
    "    \n",
    "    \n",
    "    noti_result = mariadb.run( \n",
    "        notification_query.format(\n",
    "            start_timestamp = n_start_timestamp,\n",
    "            end_timestamp = n_end_timestamp\n",
    "        ),wiki_db_list[i],'wikishared','pandas'\n",
    "    )\n",
    "    \n",
    "    noti_result.insert(0, 'wiki_db', wiki_db_list[i])\n",
    "    \n",
    "    notification_data = pd.concat([notification_data, noti_result], sort=False)"
   ]
  },
  {
   "cell_type": "code",
   "execution_count": 6,
   "id": "5078cc33-1d31-4ad3-9f86-f9abbe8d4bb9",
   "metadata": {},
   "outputs": [],
   "source": [
    "notification_data['event_extra'] = notification_data['event_extra'].astype(str)\n",
    "# extract name of suggested images from data\n",
    "notification_data['suggested_image'] = notification_data['event_extra'].str.extract(r'(?<=File:)(.+?)(?=\\\")')\n",
    "# filtering article level image suggestion notifications\n",
    "notification_data['is_article_level'] = notification_data['event_extra'].str.endswith(\";N;}\")"
   ]
  },
  {
   "cell_type": "code",
   "execution_count": 7,
   "id": "060c458f-bf0b-4e5b-819f-6dee42b1d269",
   "metadata": {},
   "outputs": [],
   "source": [
    "# store in global temp view\n",
    "notification_sdf = spark_session.createDataFrame(notification_data)\n",
    "notification_sdf.createGlobalTempView(\"notification_data\")"
   ]
  },
  {
   "cell_type": "markdown",
   "id": "a080ac85-92fc-4dc5-aca9-57a56d9cfd75",
   "metadata": {},
   "source": [
    "## User Pref Data¶"
   ]
  },
  {
   "cell_type": "code",
   "execution_count": 8,
   "id": "3b535d87-c362-4ecc-95a9-4761410ad17f",
   "metadata": {},
   "outputs": [],
   "source": [
    "pref_query = \"\"\"\n",
    "\n",
    "SELECT \n",
    "    up_property,\n",
    "    up_value,\n",
    "    up_user AS local_user_id\n",
    "FROM user_properties\n",
    "WHERE up_property like '%image_suggestions%'\n",
    "\n",
    "\"\"\""
   ]
  },
  {
   "cell_type": "code",
   "execution_count": 9,
   "id": "5c49a32c-ad79-41ee-939b-0416982e55b5",
   "metadata": {},
   "outputs": [
    {
     "name": "stdout",
     "output_type": "stream",
     "text": [
      "getting data for ptwiki\n"
     ]
    },
    {
     "name": "stderr",
     "output_type": "stream",
     "text": [
      "/home/conniecc1/.conda/envs/2023-03-15T06.34.12_conniecc1/lib/python3.10/site-packages/pandas/io/sql.py:761: UserWarning: pandas only support SQLAlchemy connectable(engine/connection) ordatabase string URI or sqlite3 DBAPI2 connectionother DBAPI2 objects are not tested, please consider using SQLAlchemy\n",
      "  warnings.warn(\n"
     ]
    },
    {
     "name": "stdout",
     "output_type": "stream",
     "text": [
      "getting data for ruwiki\n"
     ]
    },
    {
     "name": "stderr",
     "output_type": "stream",
     "text": [
      "/home/conniecc1/.conda/envs/2023-03-15T06.34.12_conniecc1/lib/python3.10/site-packages/pandas/io/sql.py:761: UserWarning: pandas only support SQLAlchemy connectable(engine/connection) ordatabase string URI or sqlite3 DBAPI2 connectionother DBAPI2 objects are not tested, please consider using SQLAlchemy\n",
      "  warnings.warn(\n"
     ]
    },
    {
     "name": "stdout",
     "output_type": "stream",
     "text": [
      "getting data for idwiki\n"
     ]
    },
    {
     "name": "stderr",
     "output_type": "stream",
     "text": [
      "/home/conniecc1/.conda/envs/2023-03-15T06.34.12_conniecc1/lib/python3.10/site-packages/pandas/io/sql.py:761: UserWarning: pandas only support SQLAlchemy connectable(engine/connection) ordatabase string URI or sqlite3 DBAPI2 connectionother DBAPI2 objects are not tested, please consider using SQLAlchemy\n",
      "  warnings.warn(\n"
     ]
    },
    {
     "name": "stdout",
     "output_type": "stream",
     "text": [
      "getting data for fiwiki\n"
     ]
    },
    {
     "name": "stderr",
     "output_type": "stream",
     "text": [
      "/home/conniecc1/.conda/envs/2023-03-15T06.34.12_conniecc1/lib/python3.10/site-packages/pandas/io/sql.py:761: UserWarning: pandas only support SQLAlchemy connectable(engine/connection) ordatabase string URI or sqlite3 DBAPI2 connectionother DBAPI2 objects are not tested, please consider using SQLAlchemy\n",
      "  warnings.warn(\n"
     ]
    },
    {
     "name": "stdout",
     "output_type": "stream",
     "text": [
      "getting data for huwiki\n"
     ]
    },
    {
     "name": "stderr",
     "output_type": "stream",
     "text": [
      "/home/conniecc1/.conda/envs/2023-03-15T06.34.12_conniecc1/lib/python3.10/site-packages/pandas/io/sql.py:761: UserWarning: pandas only support SQLAlchemy connectable(engine/connection) ordatabase string URI or sqlite3 DBAPI2 connectionother DBAPI2 objects are not tested, please consider using SQLAlchemy\n",
      "  warnings.warn(\n"
     ]
    },
    {
     "name": "stdout",
     "output_type": "stream",
     "text": [
      "getting data for cawiki\n"
     ]
    },
    {
     "name": "stderr",
     "output_type": "stream",
     "text": [
      "/home/conniecc1/.conda/envs/2023-03-15T06.34.12_conniecc1/lib/python3.10/site-packages/pandas/io/sql.py:761: UserWarning: pandas only support SQLAlchemy connectable(engine/connection) ordatabase string URI or sqlite3 DBAPI2 connectionother DBAPI2 objects are not tested, please consider using SQLAlchemy\n",
      "  warnings.warn(\n"
     ]
    },
    {
     "name": "stdout",
     "output_type": "stream",
     "text": [
      "getting data for nowiki\n"
     ]
    },
    {
     "name": "stderr",
     "output_type": "stream",
     "text": [
      "/home/conniecc1/.conda/envs/2023-03-15T06.34.12_conniecc1/lib/python3.10/site-packages/pandas/io/sql.py:761: UserWarning: pandas only support SQLAlchemy connectable(engine/connection) ordatabase string URI or sqlite3 DBAPI2 connectionother DBAPI2 objects are not tested, please consider using SQLAlchemy\n",
      "  warnings.warn(\n"
     ]
    }
   ],
   "source": [
    "local_pref_data = pd.DataFrame()\n",
    "\n",
    "for i in range(len(wiki_db_list)):\n",
    "        \n",
    "    print('getting data for %s' % wiki_db_list[i])\n",
    "    \n",
    "    data = pd.DataFrame()\n",
    "    \n",
    "    pref_result = mariadb.run( \n",
    "        pref_query,wiki_db_list[i]\n",
    "    )\n",
    "    \n",
    "    pref_result.insert(0, 'wiki_db', wiki_db_list[i])\n",
    "    \n",
    "    local_pref_data = pd.concat([local_pref_data, pref_result], sort=False)"
   ]
  },
  {
   "cell_type": "code",
   "execution_count": 10,
   "id": "4dc3b79c-d9d0-434b-9958-2c8d85b9700a",
   "metadata": {},
   "outputs": [],
   "source": [
    "## convert up_value to a string in order to store in GlobalTempView\n",
    "local_pref_data['up_value'] = local_pref_data['up_value'].astype(str)"
   ]
  },
  {
   "cell_type": "code",
   "execution_count": 11,
   "id": "f46b5433-d87b-49cf-bb48-f0bcf4810010",
   "metadata": {},
   "outputs": [],
   "source": [
    "# store in global temp view\n",
    "local_pref_sdf = spark_session.createDataFrame(local_pref_data)\n",
    "local_pref_sdf.createGlobalTempView(\"local_pref_temp\")"
   ]
  },
  {
   "cell_type": "code",
   "execution_count": 12,
   "id": "8d2c1e20-ac7c-40f3-bb72-0a246f6210fd",
   "metadata": {},
   "outputs": [],
   "source": [
    "global_pref_query = \"\"\"\n",
    "\n",
    "SELECT\n",
    "    gp_user,\n",
    "    gp_property,\n",
    "    gp_value,\n",
    "    lu_wiki,\n",
    "    lu_local_id\n",
    "FROM global_preferences gp RIGHT JOIN localuser lu ON gp_user = lu_global_id\n",
    "WHERE gp_property LIKE '%image-suggestions%'\n",
    "  AND lu_wiki IN {wiki_db}\n",
    "  \n",
    "\"\"\""
   ]
  },
  {
   "cell_type": "code",
   "execution_count": 13,
   "id": "e6c3b803-5912-4df7-97a7-2cc0b320d9d3",
   "metadata": {},
   "outputs": [
    {
     "name": "stderr",
     "output_type": "stream",
     "text": [
      "/home/conniecc1/.conda/envs/2023-03-15T06.34.12_conniecc1/lib/python3.10/site-packages/pandas/io/sql.py:761: UserWarning: pandas only support SQLAlchemy connectable(engine/connection) ordatabase string URI or sqlite3 DBAPI2 connectionother DBAPI2 objects are not tested, please consider using SQLAlchemy\n",
      "  warnings.warn(\n"
     ]
    }
   ],
   "source": [
    "global_pref_data = mariadb.run( \n",
    "        global_pref_query.format(\n",
    "          wiki_db = wiki_dbs\n",
    "        ),'centralauth','pandas'\n",
    "    )"
   ]
  },
  {
   "cell_type": "code",
   "execution_count": 14,
   "id": "d5f99214-084a-4b04-854f-7bd7355cb9fd",
   "metadata": {},
   "outputs": [],
   "source": [
    "## convert up_value to a string in order to store in GlobalTempView\n",
    "global_pref_data['gp_value'] = global_pref_data['gp_value'].astype(str)"
   ]
  },
  {
   "cell_type": "code",
   "execution_count": 15,
   "id": "d1a5ea02-2d73-4632-8d38-622e1cb3ed63",
   "metadata": {},
   "outputs": [],
   "source": [
    "global_pref_sdf = spark_session.createDataFrame(global_pref_data)\n",
    "global_pref_sdf.createGlobalTempView(\"global_pref_temp\")"
   ]
  },
  {
   "cell_type": "markdown",
   "id": "a615548b-0e6c-49df-ac5b-bc8c2805d04a",
   "metadata": {},
   "source": [
    "## Notification User Data"
   ]
  },
  {
   "cell_type": "code",
   "execution_count": 16,
   "id": "533e2743-b1e4-4e11-9bf8-2fb5f3352a30",
   "metadata": {},
   "outputs": [],
   "source": [
    "notification_user_query = \"\"\"\n",
    "SELECT \n",
    "   notification_event,\n",
    "   notification_user\n",
    "FROM echo_notification\n",
    "JOIN echo_event on event_id = notification_event\n",
    "WHERE notification_timestamp >= {start_timestamp}\n",
    "  AND notification_timestamp < {end_timestamp}\n",
    "  AND event_type = 'image-suggestions'\n",
    "\"\"\""
   ]
  },
  {
   "cell_type": "code",
   "execution_count": 17,
   "id": "40f93681-93b4-459e-9bf3-955c2441eda4",
   "metadata": {},
   "outputs": [
    {
     "name": "stdout",
     "output_type": "stream",
     "text": [
      "getting data for ptwiki\n"
     ]
    },
    {
     "name": "stderr",
     "output_type": "stream",
     "text": [
      "/home/conniecc1/.conda/envs/2023-03-15T06.34.12_conniecc1/lib/python3.10/site-packages/pandas/io/sql.py:761: UserWarning: pandas only support SQLAlchemy connectable(engine/connection) ordatabase string URI or sqlite3 DBAPI2 connectionother DBAPI2 objects are not tested, please consider using SQLAlchemy\n",
      "  warnings.warn(\n"
     ]
    },
    {
     "name": "stdout",
     "output_type": "stream",
     "text": [
      "getting data for ruwiki\n"
     ]
    },
    {
     "name": "stderr",
     "output_type": "stream",
     "text": [
      "/home/conniecc1/.conda/envs/2023-03-15T06.34.12_conniecc1/lib/python3.10/site-packages/pandas/io/sql.py:761: UserWarning: pandas only support SQLAlchemy connectable(engine/connection) ordatabase string URI or sqlite3 DBAPI2 connectionother DBAPI2 objects are not tested, please consider using SQLAlchemy\n",
      "  warnings.warn(\n"
     ]
    },
    {
     "name": "stdout",
     "output_type": "stream",
     "text": [
      "getting data for idwiki\n"
     ]
    },
    {
     "name": "stderr",
     "output_type": "stream",
     "text": [
      "/home/conniecc1/.conda/envs/2023-03-15T06.34.12_conniecc1/lib/python3.10/site-packages/pandas/io/sql.py:761: UserWarning: pandas only support SQLAlchemy connectable(engine/connection) ordatabase string URI or sqlite3 DBAPI2 connectionother DBAPI2 objects are not tested, please consider using SQLAlchemy\n",
      "  warnings.warn(\n"
     ]
    },
    {
     "name": "stdout",
     "output_type": "stream",
     "text": [
      "getting data for fiwiki\n"
     ]
    },
    {
     "name": "stderr",
     "output_type": "stream",
     "text": [
      "/home/conniecc1/.conda/envs/2023-03-15T06.34.12_conniecc1/lib/python3.10/site-packages/pandas/io/sql.py:761: UserWarning: pandas only support SQLAlchemy connectable(engine/connection) ordatabase string URI or sqlite3 DBAPI2 connectionother DBAPI2 objects are not tested, please consider using SQLAlchemy\n",
      "  warnings.warn(\n"
     ]
    },
    {
     "name": "stdout",
     "output_type": "stream",
     "text": [
      "getting data for huwiki\n"
     ]
    },
    {
     "name": "stderr",
     "output_type": "stream",
     "text": [
      "/home/conniecc1/.conda/envs/2023-03-15T06.34.12_conniecc1/lib/python3.10/site-packages/pandas/io/sql.py:761: UserWarning: pandas only support SQLAlchemy connectable(engine/connection) ordatabase string URI or sqlite3 DBAPI2 connectionother DBAPI2 objects are not tested, please consider using SQLAlchemy\n",
      "  warnings.warn(\n"
     ]
    },
    {
     "name": "stdout",
     "output_type": "stream",
     "text": [
      "getting data for cawiki\n"
     ]
    },
    {
     "name": "stderr",
     "output_type": "stream",
     "text": [
      "/home/conniecc1/.conda/envs/2023-03-15T06.34.12_conniecc1/lib/python3.10/site-packages/pandas/io/sql.py:761: UserWarning: pandas only support SQLAlchemy connectable(engine/connection) ordatabase string URI or sqlite3 DBAPI2 connectionother DBAPI2 objects are not tested, please consider using SQLAlchemy\n",
      "  warnings.warn(\n"
     ]
    },
    {
     "name": "stdout",
     "output_type": "stream",
     "text": [
      "getting data for nowiki\n"
     ]
    },
    {
     "name": "stderr",
     "output_type": "stream",
     "text": [
      "/home/conniecc1/.conda/envs/2023-03-15T06.34.12_conniecc1/lib/python3.10/site-packages/pandas/io/sql.py:761: UserWarning: pandas only support SQLAlchemy connectable(engine/connection) ordatabase string URI or sqlite3 DBAPI2 connectionother DBAPI2 objects are not tested, please consider using SQLAlchemy\n",
      "  warnings.warn(\n"
     ]
    }
   ],
   "source": [
    "notification_user_data = pd.DataFrame()\n",
    "\n",
    "for i in range(len(wiki_db_list)):\n",
    "        \n",
    "    print('getting data for %s' % wiki_db_list[i])\n",
    "    \n",
    "    \n",
    "    noti_result = mariadb.run( \n",
    "        notification_user_query.format(\n",
    "            start_timestamp = notification_timestamp,\n",
    "            end_timestamp = n_end_timestamp\n",
    "        ),wiki_db_list[i],'wikishared','pandas'\n",
    "    )\n",
    "    \n",
    "    noti_result.insert(0, 'wiki_db', wiki_db_list[i])\n",
    "    \n",
    "    notification_user_data = pd.concat([notification_user_data, noti_result], sort=False)"
   ]
  },
  {
   "cell_type": "code",
   "execution_count": 18,
   "id": "1f06891f-6bef-4ffb-98fc-e62603c29314",
   "metadata": {},
   "outputs": [],
   "source": [
    "# store in global temp view\n",
    "notification_user_sdf = spark_session.createDataFrame(notification_user_data)\n",
    "notification_user_sdf.createGlobalTempView(\"notification_user_data\")"
   ]
  },
  {
   "cell_type": "markdown",
   "id": "a4d6ea32-98ef-4314-a0f4-cf2193c7978a",
   "metadata": {},
   "source": [
    "## Image Edtis Data"
   ]
  },
  {
   "cell_type": "code",
   "execution_count": 19,
   "id": "0a81fdaf-7693-430b-81a7-c6a0a86b44ff",
   "metadata": {},
   "outputs": [],
   "source": [
    "MEDIA_PREFIXES = ['File', 'Image', 'Media']\n",
    "\n",
    "MEDIA_ALIASES= {\n",
    "    \"ar\": [\"ميديا\", \"صورة\", \"وسائط\", \"ملف\"],\n",
    "    \"bn\": [\"চিত্র\", \"মিডিয়া\"],\n",
    "    \"bpy\": [\"ছবি\", \"মিডিয়া\"],\n",
    "    \"br\": [\"Skeudenn\", \"Restr\"],\n",
    "    \"bs\": [\"Mediji\", \"Slika\", \"Datoteka\", \"Medija\"],\n",
    "    \"bug\": [\"Gambar\", \"Berkas\"],\n",
    "    \"bxr\": [\"Файл\", \"Меди\", \"Изображение\"],\n",
    "    \"ca\": [\"Fitxer\", \"Imatge\"],\n",
    "    \"ce\": [\"Хlум\", \"Медиа\", \"Сурт\", \"Файл\", \"Медйа\", \"Изображение\"],\n",
    "    \"ceb\": [\"Payl\", \"Medya\", \"Imahen\"],\n",
    "    \"ch\": [\"Litratu\"],\n",
    "    \"ckb\": [\"میدیا\", \"پەڕگە\"],\n",
    "    \"co\": [\"Immagine\"],\n",
    "    \"crh\": [\"Медиа\", \"Resim\", \"Файл\", \"Fayl\", \"Ресим\"],\n",
    "    \"cs\": [\"Soubor\", \"Média\", \"Obrázok\"],\n",
    "    \"csb\": [\"Òbrôzk\", \"Grafika\"],\n",
    "    \"cu\": [\"Видъ\", \"Ви́дъ\", \"Дѣло\", \"Срѣдьства\"],\n",
    "    \"cv\": [\"Медиа\", \"Ӳкерчĕк\", \"Изображение\"],\n",
    "    \"cy\": [\"Delwedd\"],\n",
    "    \"da\": [\"Billede\", \"Fil\"],\n",
    "    \"de\": [\"Medium\", \"Datei\", \"Bild\"],\n",
    "    \"din\": [\"Ciɛl\", \"Apamduööt\"],\n",
    "    \"diq\": [\"Medya\", \"Dosya\"],\n",
    "    \"dsb\": [\"Wobraz\", \"Dataja\", \"Bild\", \"Medija\"],\n",
    "    \"dty\": [\"चित्र\", \"मिडिया\"],\n",
    "    \"dv\": [\"ފައިލު\", \"މީޑިއާ\", \"ފައިލް\"],\n",
    "    \"el\": [\"Εικόνα\", \"Αρχείο\", \"Μέσο\", \"Μέσον\"],\n",
    "    \"eml\": [\"Immagine\"],\n",
    "    \"eo\": [\"Dosiero\", \"Aŭdvidaĵo\"],\n",
    "    \"es\": [\"Medio\", \"Archivo\", \"Imagen\"],\n",
    "    \"et\": [\"Pilt\", \"Fail\", \"Meedia\"],\n",
    "    \"eu\": [\"Irudi\", \"Fitxategi\"],\n",
    "    \"ext\": [\"Archivu\", \"Imagen\", \"Mediu\"],\n",
    "    \"fa\": [\"رسانه\", \"تصویر\", \"مدیا\", \"پرونده\", \"رسانه‌ای\"],\n",
    "    \"ff\": [\"Média\", \"Fichier\"],\n",
    "    \"fi\": [\"Kuva\", \"Tiedosto\"],\n",
    "    \"fiu-vro\": [\"Pilt\", \"Meediä\"],\n",
    "    \"fo\": [\"Miðil\", \"Mynd\"],\n",
    "    \"fr\": [\"Média\", \"Fichier\"],\n",
    "    \"frp\": [\"Émâge\", \"Fichiér\", \"Mèdia\"],\n",
    "    \"frr\": [\"Medium\", \"Datei\", \"Bild\"],\n",
    "    \"fur\": [\"Immagine\", \"Figure\"],\n",
    "    \"fy\": [\"Ofbyld\"],\n",
    "    \"hak\": [\"文件\", \"媒體\", \"圖像\", \"檔案\"],\n",
    "    \"haw\": [\"Kiʻi\", \"Waihona\", \"Pāpaho\"],\n",
    "    \"he\": [\"תמונה\", \"קו\", \"מדיה\", \"קובץ\"],\n",
    "    \"hi\": [\"मीडिया\", \"चित्र\"],\n",
    "    \"hif\": [\"file\", \"saadhan\"],\n",
    "    \"hr\": [\"Mediji\", \"DT\", \"Slika\", \"F\", \"Datoteka\"],\n",
    "    \"hsb\": [\"Wobraz\", \"Dataja\", \"Bild\"],\n",
    "    \"ht\": [\"Imaj\", \"Fichye\", \"Medya\"],\n",
    "    \"hu\": [\"Kép\", \"Fájl\", \"Média\"],\n",
    "    \"hy\": [\"Պատկեր\", \"Մեդիա\"],\n",
    "    \"ia\": [\"Imagine\", \"Multimedia\"],\n",
    "    \"id\": [\"Gambar\", \"Berkas\"],\n",
    "    \"ig\": [\"Nká\", \"Midia\", \"Usòrò\", \"Ákwúkwó orünotu\", \"Ákwúkwó_orünotu\"],\n",
    "    \"ii\": [\"媒体文件\", \"文件\", \"档案\", \"图像\", \"媒体\"],\n",
    "    \"ilo\": [\"Midia\", \"Papeles\"],\n",
    "    \"inh\": [\"Медиа\", \"Файл\", \"Изображение\"],\n",
    "    \"io\": [\"Imajo\", \"Arkivo\"],\n",
    "    \"is\": [\"Miðill\", \"Mynd\"],\n",
    "    \"it\": [\"Immagine\"],\n",
    "    \"ja\": [\"メディア\", \"ファイル\", \"画像\"],\n",
    "    \"jbo\": [\"velsku\", \"datnyvei\"],\n",
    "    \"jv\": [\"Barkas\", \"Medhia\", \"Gambar\", \"Médhia\"],\n",
    "    \"ka\": [\"მედია\", \"სურათი\", \"ფაილი\"],\n",
    "    \"kaa\": [\"Swret\", \"Таспа\", \"سۋرەت\", \"Taspa\", \"Su'wret\", \"Сурет\", \"تاسپا\"],\n",
    "    \"kab\": [\"Tugna\"],\n",
    "    \"kbd\": [\"Медиа\", \"Файл\"],\n",
    "    \"kbp\": [\"Média\", \"Fichier\"],\n",
    "    \"kg\": [\"Fisye\"],\n",
    "    \"kk\": [\"Swret\", \"سۋرەت\", \"Таспа\", \"Taspa\", \"Сурет\", \"تاسپا\"],\n",
    "    \"kl\": [\"Billede\", \"Fiileq\", \"Fil\"],\n",
    "    \"km\": [\"ឯកសារ\", \"រូបភាព\", \"មេឌា\", \"មីឌា\"],\n",
    "    \"kn\": [\"ಚಿತ್ರ\", \"ಮೀಡಿಯ\"],\n",
    "    \"ko\": [\"미디어\", \"파일\", \"그림\"],\n",
    "    \"koi\": [\"Медиа\", \"Файл\", \"Изображение\"],\n",
    "    \"krc\": [\"Медиа\", \"Файл\", \"Изображение\"],\n",
    "    \"ks\": [\"میڈیا\", \"فَیِل\"],\n",
    "    \"ksh\": [\"Beld\", \"Meedije\", \"Medie\", \"Belld\", \"Medium\", \"Datei\", \"Meedijum\", \"Bild\"],\n",
    "    \"ku\": [\"میدیا\", \"پەڕگە\", \"Medya\", \"Wêne\"],\n",
    "    \"kv\": [\"Медиа\", \"Файл\", \"Изображение\"],\n",
    "    \"kw\": [\"Restren\"],\n",
    "    \"ky\": [\"Медиа\", \"Файл\"],\n",
    "    \"nah\": [\"Mēdiatl\", \"Īxiptli\", \"Imagen\"],\n",
    "    \"nap\": [\"Fiùra\", \"Immagine\"],\n",
    "    \"nds\": [\"Datei\", \"Bild\"],\n",
    "    \"nds-nl\": [\"Ofbeelding\", \"Afbeelding\", \"Bestaand\"],\n",
    "    \"ne\": [\"मीडिया\", \"चित्र\"],\n",
    "    \"new\": [\"किपा\", \"माध्यम\"],\n",
    "    \"nl\": [\"Bestand\", \"Afbeelding\"],\n",
    "    \"nn\": [\"Fil\", \"Bilde\", \"Filpeikar\"],\n",
    "    \"no\": [\"Fil\", \"Medium\", \"Bilde\"],\n",
    "    \"nov\": [],\n",
    "    \"nrm\": [\"Média\", \"Fichier\"],\n",
    "    \"nso\": [\"Seswantšho\"],\n",
    "    \"nv\": [\"Eʼelyaaígíí\"],\n",
    "    \"oc\": [\"Imatge\", \"Fichièr\", \"Mèdia\"],\n",
    "    \"olo\": [\"Kuva\", \"Medii\", \"Failu\"],\n",
    "    \"or\": [\"ମାଧ୍ୟମ\", \"ଫାଇଲ\"],\n",
    "    \"os\": [\"Ныв\", \"Медиа\", \"Файл\", \"Изображение\"],\n",
    "    \"pa\": [\"ਤਸਵੀਰ\", \"ਮੀਡੀਆ\"],\n",
    "    \"pcd\": [\"Média\", \"Fichier\"],\n",
    "    \"pdc\": [\"Medium\", \"Datei\", \"Bild\", \"Feil\"],\n",
    "    \"pfl\": [\"Dadai\", \"Medium\", \"Datei\", \"Bild\"],\n",
    "    \"pi\": [\"मीडिया\", \"पटिमा\"],\n",
    "    \"pl\": [\"Plik\", \"Grafika\"],\n",
    "    \"pms\": [\"Figura\", \"Immagine\"],\n",
    "    \"pnb\": [\"میڈیا\", \"تصویر\", \"فائل\"],\n",
    "    \"pnt\": [\"Εικόνα\", \"Αρχείον\", \"Εικόναν\", \"Μέσον\"],\n",
    "    \"ps\": [\"انځور\", \"رسنۍ\", \"دوتنه\"],\n",
    "    \"pt\": [\"Multimédia\", \"Ficheiro\", \"Arquivo\", \"Imagem\"],\n",
    "    \"qu\": [\"Midya\", \"Imagen\", \"Rikcha\"],\n",
    "    \"rm\": [\"Multimedia\", \"Datoteca\"],\n",
    "    \"rmy\": [\"Fişier\", \"Mediya\", \"Chitro\", \"Imagine\"],\n",
    "    \"ro\": [\"Fişier\", \"Imagine\", \"Fișier\"],\n",
    "    \"roa-rup\": [\"Fişier\", \"Imagine\", \"Fișier\"],\n",
    "    \"roa-tara\": [\"Immagine\"],\n",
    "    \"ru\": [\"Медиа\", \"Файл\", \"Изображение\"],\n",
    "    \"rue\": [\"Медіа\", \"Медиа\", \"Файл\", \"Изображение\", \"Зображення\"],\n",
    "    \"rw\": [\"Dosiye\", \"Itangazamakuru\"],\n",
    "    \"ta\": [\"படிமம்\", \"ஊடகம்\"],\n",
    "    \"tcy\": [\"ಮಾದ್ಯಮೊ\", \"ಫೈಲ್\"],\n",
    "    \"te\": [\"ఫైలు\", \"దస్త్రం\", \"బొమ్మ\", \"మీడియా\"],\n",
    "    \"tet\": [\"Imajen\", \"Arquivo\", \"Imagem\"],\n",
    "    \"tg\": [\"Акс\", \"Медиа\"],\n",
    "    \"th\": [\"ไฟล์\", \"สื่อ\", \"ภาพ\"],\n",
    "    \"ti\": [\"ፋይል\", \"ሜድያ\"],\n",
    "    \"tk\": [\"Faýl\"],\n",
    "    \"tl\": [\"Midya\", \"Talaksan\"],\n",
    "    \"tpi\": [\"Fail\"],\n",
    "    \"tr\": [\"Medya\", \"Resim\", \"Dosya\", \"Ortam\"],\n",
    "    \"tt\": [\"Медиа\", \"Рәсем\", \"Файл\", \"Räsem\", \"Изображение\"],\n",
    "    \"ty\": [\"Média\", \"Fichier\"],\n",
    "    \"tyv\": [\"Медиа\", \"Файл\", \"Изображение\"],\n",
    "    \"udm\": [\"Медиа\", \"Файл\", \"Суред\", \"Изображение\"],\n",
    "    \"ug\": [\"ۋاسىتە\", \"ھۆججەت\"],\n",
    "\n",
    "}\n",
    "\n",
    "# https://commons.wikimedia.org/wiki/Commons:File_types\n",
    "IMAGE_EXTENSIONS = ['.jpg', '.jpeg', '.png', '.svg', '.gif','.tif', '.bmp', '.webp', '.xcf','.djvu', '.pdf']\n",
    "VIDEO_EXTENSIONS = ['.ogv', '.webm', '.mpg', '.mpeg']\n",
    "AUDIO_EXTENSIONS = ['.ogg', '.mp3', '.mid', '.webm', '.flac', '.wav', '.oga']\n",
    "MEDIA_EXTENSIONS = list(set(IMAGE_EXTENSIONS + VIDEO_EXTENSIONS + AUDIO_EXTENSIONS))"
   ]
  },
  {
   "cell_type": "code",
   "execution_count": 20,
   "id": "0ab74ffc-14d8-40bb-a921-117aad977431",
   "metadata": {},
   "outputs": [
    {
     "data": {
      "text/plain": [
       "<function __main__.getMedia(wikitext, wiki_db='enwiki', max_link_length=240)>"
      ]
     },
     "execution_count": 20,
     "metadata": {},
     "output_type": "execute_result"
    }
   ],
   "source": [
    "exten_regex = ('(' + '|'.join([e + '\\\\b' for e in MEDIA_EXTENSIONS]) + ')').replace('.', '\\.')\n",
    "extension_pattern = re.compile(f'([\\w ,\\(\\)\\.-]+){exten_regex}', flags=re.UNICODE)\n",
    "bracket_pattern = re.compile('(?<=\\[\\[)(.*?)(?=\\]\\])', flags=re.DOTALL)\n",
    "\n",
    "# NOTE: I explored several approaches to this function and how they impacted speed:\n",
    "# * mwparserfromhell parsing substantially increases processing time, even compared to many regexes\n",
    "# * Reducing down the number of extensions considered has a very minimal impact on time\n",
    "# * Removing the first regex that extracts links has a very minimal impact on time. In theory it should be mostly unnecessary but will catch some rare file extensions.\n",
    "# * Ignoring upper-case file extensions (e.g., .JPG) by not lower-casing the wikitext and just doing .findall over the iterative .search has very little impact on time\n",
    "\n",
    "def getMedia(wikitext, wiki_db='enwiki', max_link_length=240):\n",
    "    \"\"\"Gather counts of media files found directly in wikitext.\n",
    "    \n",
    "    See https://phabricator.wikimedia.org/T299712 for more details.\n",
    "    Link length: https://commons.wikimedia.org/wiki/Commons:File_naming#Length\n",
    "    \"\"\"\n",
    "    lang = wiki_db.replace('wiki', '')\n",
    "    try:\n",
    "        # find standard bracket-syntax links -- this likely could be dropped but adds minimal overhead\n",
    "        med_prefixes = MEDIA_PREFIXES + MEDIA_ALIASES.get(lang, [])\n",
    "        links = bracket_pattern.findall(wikitext)\n",
    "        bracket_links = set([l.split(':', maxsplit=1)[1].split('|', maxsplit=1)[0].strip() for l in links if l.split(':', maxsplit=1)[0] in med_prefixes])\n",
    "        \n",
    "        # supplement with links outside brackets as determined via known file extensions\n",
    "        # lower-case to handle e.g., .JPG instead of .jpg when searching for file extensions\n",
    "        lc_wt = wikitext.lower()\n",
    "        exten_links = []\n",
    "        end = 0\n",
    "        while True:\n",
    "            m = extension_pattern.search(lc_wt, pos=end)\n",
    "            if m is None:\n",
    "                break\n",
    "            start, end = m.span()\n",
    "            exten_links.append(wikitext[start:end].strip())\n",
    "        return [l.replace('\\n', ' ') for l in bracket_links.union(exten_links) if len(l) <= max_link_length]\n",
    "    except Exception:\n",
    "        return None\n",
    "    \n",
    "spark_session.udf.register('getMedia', getMedia, 'ARRAY<String>')"
   ]
  },
  {
   "cell_type": "code",
   "execution_count": 21,
   "id": "10efc89a-20a6-48f8-8479-6757ae2800c9",
   "metadata": {},
   "outputs": [
    {
     "data": {
      "text/plain": [
       "<function __main__.compareMediaLists(curr_media, prev_media)>"
      ]
     },
     "execution_count": 21,
     "metadata": {},
     "output_type": "execute_result"
    }
   ],
   "source": [
    "def compareMediaLists(curr_media, prev_media):\n",
    "    \"\"\"Compare two media lists to determine what changed.\"\"\"\n",
    "    try:\n",
    "        changes = []\n",
    "        unaligned = set(curr_media) ^ set(prev_media)\n",
    "        for m in unaligned:\n",
    "            if m in curr_media:\n",
    "                changes.append((m, 1))\n",
    "            elif m in prev_media:\n",
    "                changes.append((m, -1))\n",
    "        return changes\n",
    "    except Exception:\n",
    "        return None\n",
    "    \n",
    "spark_session.udf.register('compareMediaLists', compareMediaLists, 'ARRAY<STRUCT<filename:STRING, action:INT>>')"
   ]
  },
  {
   "cell_type": "code",
   "execution_count": 29,
   "id": "327bd30a-40e5-4539-b59c-93d1be6e5274",
   "metadata": {},
   "outputs": [
    {
     "name": "stderr",
     "output_type": "stream",
     "text": [
      "23/09/04 20:45:33 WARN ResolveSessionCatalog: A Hive serde table will be created as there is no table provider specified. You can set spark.sql.legacy.createHiveTableByDefault to false so that native data source table will be created instead.\n"
     ]
    },
    {
     "data": {
      "text/plain": [
       "DataFrame[]"
      ]
     },
     "execution_count": 29,
     "metadata": {},
     "output_type": "execute_result"
    }
   ],
   "source": [
    "create_table_query = f\"\"\"\n",
    "    CREATE TABLE IF NOT EXISTS {media_list_table} (\n",
    "        wiki_db                         STRING         COMMENT 'Wiki -- e.g., enwiki for English',\n",
    "        event_timestamp                 STRING         COMMENT 'When the edits occurred',\n",
    "        page_id                         INT            COMMENT 'Article page ID',\n",
    "        user_id                         INT         COMMENT 'User id of who made edit',\n",
    "        user_text                       STRING         COMMENT 'User name of who made edit',\n",
    "        revision_id                     BIGINT         COMMENT 'Revision ID',\n",
    "        revision_parent_id              BIGINT         COMMENT 'Revision ID of parent revision',\n",
    "        revision_is_identity_reverted   BOOLEAN        COMMENT 'Was revision reverted?',\n",
    "        revision_is_identity_revert     BOOLEAN        COMMENT 'Did revision restore a previous revision?',\n",
    "        revision_seconds_to_identity_revert    BIGINT        COMMENT 'seconds elapsed between revision posting and its revert',\n",
    "        revision_tags                   ARRAY<STRING>  COMMENT 'Edit tags associated with revision',\n",
    "        cur_rev_media_array             ARRAY<STRING>  COMMENT 'List of images in current revision',\n",
    "        par_rev_media_array             ARRAY<STRING>  COMMENT 'List of images in parent revision'\n",
    "    )\n",
    "    \"\"\"\n",
    "\n",
    "spark_session.sql(create_table_query)"
   ]
  },
  {
   "cell_type": "code",
   "execution_count": 40,
   "id": "ef51e958-d4cd-4be6-be77-52d22fe95614",
   "metadata": {},
   "outputs": [],
   "source": [
    "\"\"\"\n",
    "Explanation of CTEs:\n",
    "* revisions: get all revisions + metadata from desired wikis / timeframe.\n",
    "  * only main articles and filter out bots / anonymous users\n",
    "* all_revision_ids: build deduplicated lists of all revision + parent revision IDs\n",
    "* media_lists: for each revision ID, extract images from associated wikitext\n",
    "* INSERT OVERWRITE...: join back in media lists with revisions + metadata\n",
    "\n",
    "# TODO: are newlines in revision_text causing NULLs?\n",
    "\"\"\"\n",
    "\n",
    "print_for_hive = False\n",
    "do_execute = True\n",
    "\n",
    "query = f\"\"\"\n",
    "WITH revisions AS (\n",
    "    SELECT\n",
    "      wiki_db,\n",
    "      event_timestamp,\n",
    "      page_id,\n",
    "      event_user_id AS user_id,\n",
    "      event_user_text AS user_text,\n",
    "      revision_id,\n",
    "      revision_parent_id,\n",
    "      revision_is_identity_reverted,\n",
    "      revision_is_identity_revert,\n",
    "      revision_seconds_to_identity_revert,\n",
    "      revision_tags\n",
    "    FROM wmf.mediawiki_history\n",
    "    WHERE\n",
    "      snapshot = '{mw_snapshot}'\n",
    "      AND wiki_db IN ('ptwiki', 'idwiki', 'cawiki')\n",
    "      AND page_namespace = 0\n",
    "      AND event_type = 'create'\n",
    "      AND event_entity = 'revision'\n",
    "      AND event_timestamp >= '{start_timestamp}'\n",
    "      AND event_timestamp < '{end_timestamp}'\n",
    "      AND SIZE(event_user_is_bot_by) < 1\n",
    "      AND SIZE(event_user_is_bot_by_historical) < 1\n",
    "      AND NOT event_user_is_anonymous\n",
    "      AND NOT page_is_redirect\n",
    "),\n",
    "all_revision_ids AS (\n",
    "    SELECT DISTINCT\n",
    "      wiki_db,\n",
    "      rev_id\n",
    "    FROM (\n",
    "        SELECT\n",
    "          wiki_db,\n",
    "          revision_id AS rev_id\n",
    "        FROM revisions\n",
    "        UNION ALL\n",
    "        SELECT\n",
    "          wiki_db,\n",
    "          revision_parent_id AS rev_id\n",
    "        FROM revisions\n",
    "    ) r\n",
    "),\n",
    "media_lists AS (\n",
    "    SELECT\n",
    "      r.wiki_db,\n",
    "      r.rev_id,\n",
    "      getMedia(revision_text, wt.wiki_db) AS media_array\n",
    "    FROM wmf.mediawiki_wikitext_history wt\n",
    "    INNER JOIN all_revision_ids r\n",
    "      ON (wt.wiki_db = r.wiki_db\n",
    "          AND wt.revision_id = r.rev_id)\n",
    "    WHERE\n",
    "      snapshot = '{mw_snapshot}'\n",
    "      AND wt.wiki_db IN ('ptwiki', 'idwiki', 'cawiki')\n",
    ")\n",
    "\n",
    "INSERT INTO TABLE {media_list_table}     \n",
    "SELECT\n",
    "  r.wiki_db,\n",
    "  event_timestamp,\n",
    "  page_id,\n",
    "  user_id,\n",
    "  user_text,\n",
    "  revision_id,\n",
    "  revision_parent_id,\n",
    "  revision_is_identity_reverted,\n",
    "  revision_is_identity_revert,\n",
    "  revision_seconds_to_identity_revert,\n",
    "  revision_tags,\n",
    "  c.media_array AS cur_rev_media_array,\n",
    "  p.media_array AS par_rev_media_array\n",
    "FROM revisions r\n",
    "LEFT JOIN media_lists c\n",
    "  ON (r.wiki_db = c.wiki_db AND r.revision_id = c.rev_id)\n",
    "LEFT JOIN media_lists p\n",
    "  ON (r.wiki_db = p.wiki_db AND r.revision_parent_id = p.rev_id)\n",
    "\"\"\"\n",
    "\n",
    "if do_execute:\n",
    "    spark_session.sql(query)"
   ]
  },
  {
   "cell_type": "code",
   "execution_count": 46,
   "id": "b5d2f745-0851-4b44-989c-73bf04f8391a",
   "metadata": {},
   "outputs": [
    {
     "name": "stderr",
     "output_type": "stream",
     "text": [
      "23/09/05 03:56:17 WARN SharedInMemoryCache: Evicting cached table partition metadata from memory due to size constraints (spark.sql.hive.filesourcePartitionFileCacheSize = 262144000 bytes). This may impact query planning performance.\n",
      "                                                                                 / 8192]\r"
     ]
    }
   ],
   "source": [
    "\"\"\"\n",
    "Explanation of CTEs:\n",
    "* revisions: get all revisions + metadata from desired wikis / timeframe.\n",
    "  * only main articles and filter out bots / anonymous users\n",
    "* all_revision_ids: build deduplicated lists of all revision + parent revision IDs\n",
    "* media_lists: for each revision ID, extract images from associated wikitext\n",
    "* INSERT OVERWRITE...: join back in media lists with revisions + metadata\n",
    "\n",
    "# TODO: are newlines in revision_text causing NULLs?\n",
    "\"\"\"\n",
    "\n",
    "print_for_hive = False\n",
    "do_execute = True\n",
    "\n",
    "query = f\"\"\"\n",
    "WITH revisions AS (\n",
    "    SELECT\n",
    "      wiki_db,\n",
    "      event_timestamp,\n",
    "      page_id,\n",
    "      event_user_id AS user_id,\n",
    "      event_user_text AS user_text,\n",
    "      revision_id,\n",
    "      revision_parent_id,\n",
    "      revision_is_identity_reverted,\n",
    "      revision_is_identity_revert,\n",
    "      revision_seconds_to_identity_revert,\n",
    "      revision_tags\n",
    "    FROM wmf.mediawiki_history\n",
    "    WHERE\n",
    "      snapshot = '2023-07'\n",
    "      AND wiki_db IN ('fiwiki', 'huwiki', 'nowiki')\n",
    "      AND page_namespace = 0\n",
    "      AND event_type = 'create'\n",
    "      AND event_entity = 'revision'\n",
    "      AND event_timestamp >= '2023-07-01'\n",
    "      AND event_timestamp < '2023-08-01'\n",
    "      AND SIZE(event_user_is_bot_by) < 1\n",
    "      AND SIZE(event_user_is_bot_by_historical) < 1\n",
    "      AND NOT event_user_is_anonymous\n",
    "      AND NOT page_is_redirect\n",
    "),\n",
    "all_revision_ids AS (\n",
    "    SELECT DISTINCT\n",
    "      wiki_db,\n",
    "      rev_id\n",
    "    FROM (\n",
    "        SELECT\n",
    "          wiki_db,\n",
    "          revision_id AS rev_id\n",
    "        FROM revisions\n",
    "        UNION ALL\n",
    "        SELECT\n",
    "          wiki_db,\n",
    "          revision_parent_id AS rev_id\n",
    "        FROM revisions\n",
    "    ) r\n",
    "),\n",
    "media_lists AS (\n",
    "    SELECT\n",
    "      r.wiki_db,\n",
    "      r.rev_id,\n",
    "      getMedia(revision_text, wt.wiki_db) AS media_array\n",
    "    FROM wmf.mediawiki_wikitext_history wt\n",
    "    INNER JOIN all_revision_ids r\n",
    "      ON (wt.wiki_db = r.wiki_db\n",
    "          AND wt.revision_id = r.rev_id)\n",
    "    WHERE\n",
    "      snapshot = '2023-07'\n",
    "      AND wt.wiki_db IN ('fiwiki', 'huwiki', 'nowiki')\n",
    ")\n",
    "\n",
    "INSERT INTO TABLE cchen.media_july_2023 \n",
    "SELECT\n",
    "  r.wiki_db,\n",
    "  event_timestamp,\n",
    "  page_id,\n",
    "  user_id,\n",
    "  user_text,\n",
    "  revision_id,\n",
    "  revision_parent_id,\n",
    "  revision_is_identity_reverted,\n",
    "  revision_is_identity_revert,\n",
    "  revision_seconds_to_identity_revert,\n",
    "  revision_tags,\n",
    "  c.media_array AS cur_rev_media_array,\n",
    "  p.media_array AS par_rev_media_array\n",
    "FROM revisions r\n",
    "LEFT JOIN media_lists c\n",
    "  ON (r.wiki_db = c.wiki_db AND r.revision_id = c.rev_id)\n",
    "LEFT JOIN media_lists p\n",
    "  ON (r.wiki_db = p.wiki_db AND r.revision_parent_id = p.rev_id)\n",
    "\"\"\"\n",
    "\n",
    "if do_execute:\n",
    "    spark_session.sql(query)"
   ]
  },
  {
   "cell_type": "code",
   "execution_count": 47,
   "id": "3d971e97-44fe-4bdd-9d0e-1400a1caf6ea",
   "metadata": {},
   "outputs": [],
   "source": [
    "image_edits_query = \"\"\"\n",
    "\n",
    "SELECT\n",
    "      m.wiki_db,\n",
    "      event_timestamp,\n",
    "      m.user_text,\n",
    "      m.user_id,\n",
    "      revision_id,\n",
    "      page_id,\n",
    "      revision_is_identity_reverted,\n",
    "      revision_is_identity_revert,\n",
    "      revision_seconds_to_identity_revert,\n",
    "      revision_tags,\n",
    "      u.user_editcount,\n",
    "      INLINE(compareMediaLists(cur_rev_media_array, par_rev_media_array)),\n",
    "      SIZE(par_rev_media_array) AS illustrated\n",
    "    FROM {media_list_table} m\n",
    "    LEFT JOIN wmf_raw.mediawiki_user u \n",
    "      ON (m.user_text = u.user_name AND m.wiki_db = u.wiki_db)\n",
    "    WHERE revision_id IS NOT NULL\n",
    "      AND m.wiki_db IN {wiki_db_str}\n",
    "      AND u.snapshot = '{mw_snapshot}'\n",
    "      \n",
    "\"\"\""
   ]
  },
  {
   "cell_type": "code",
   "execution_count": 48,
   "id": "3c0e56d0-2f5b-4f93-9c8e-ca4e54bb88d7",
   "metadata": {},
   "outputs": [
    {
     "name": "stderr",
     "output_type": "stream",
     "text": [
      "                                                                                \r"
     ]
    }
   ],
   "source": [
    "image_edits_data = spark.run( \n",
    "        image_edits_query.format(\n",
    "          media_list_table = media_list_table,\n",
    "          wiki_db_str = wiki_dbs,\n",
    "          mw_snapshot = mw_snapshot\n",
    "        )\n",
    "    )"
   ]
  },
  {
   "cell_type": "code",
   "execution_count": 49,
   "id": "a10059e5-43c4-4786-aef9-f0dce21c2e7b",
   "metadata": {},
   "outputs": [],
   "source": [
    "image_edits_sdf = spark_session.createDataFrame(image_edits_data)\n",
    "image_edits_sdf.createGlobalTempView(\"image_edit_temp\")"
   ]
  },
  {
   "cell_type": "code",
   "execution_count": 50,
   "id": "b9975ab6-edfb-4547-8085-995c1f9208c8",
   "metadata": {},
   "outputs": [],
   "source": [
    "match_image_query = \"\"\"\n",
    "\n",
    "WITH image_edits AS (\n",
    "    SELECT\n",
    "        wiki_db,\n",
    "        event_timestamp,\n",
    "        revision_id,\n",
    "        user_id,\n",
    "        page_id,\n",
    "        revision_is_identity_reverted,\n",
    "        revision_seconds_to_identity_revert,\n",
    "        REPLACE(filename, ' ', '_') AS filename\n",
    "    FROM global_temp.image_edit_temp\n",
    "    WHERE action = 1\n",
    "      AND ! revision_is_identity_revert\n",
    "      AND ! ARRAY_CONTAINS(revision_tags, 'newcomer task')\n",
    "), \n",
    "noti_type_one AS (\n",
    "    SELECT \n",
    "        wiki_db,\n",
    "        notification_user,\n",
    "        notification_bundle_hash,\n",
    "        MIN(notification_timestamp) AS send_ts,\n",
    "        MIN(notification_read_timestamp) AS read_ts,\n",
    "        SUM(CASE WHEN is_article_level THEN 1 ELSE 0 END) AS noti_type, \n",
    "        COUNT(*) AS count\n",
    "    FROM global_temp.notification_data\n",
    "    GROUP BY wiki_db, notification_user,notification_bundle_hash\n",
    "),\n",
    "noti_type_two AS (\n",
    "    SELECT\n",
    "        wiki_db,\n",
    "        notification_user,\n",
    "        notification_bundle_hash,\n",
    "        send_ts,\n",
    "        read_ts,\n",
    "        CASE WHEN noti_type = 1 AND count = 1 THEN 'article_level'\n",
    "             WHEN noti_type = 0 THEN 'section_level'\n",
    "             WHEN noti_type = 1 AND count > 1 THEN 'combined'\n",
    "        END AS noti_type\n",
    "    FROM noti_type_one\n",
    "),\n",
    "    suggested_images AS (\n",
    "    SELECT\n",
    "        d.wiki_db,\n",
    "        d.notification_bundle_hash,\n",
    "        n.send_ts,\n",
    "        n.read_ts, \n",
    "        noti_type,\n",
    "        event_page_id,\n",
    "        d.notification_user,\n",
    "        suggested_image\n",
    "    FROM global_temp.notification_data d LEFT JOIN noti_type_two n \n",
    "       ON (d.wiki_db = n.wiki_db AND d.notification_user= n.notification_user AND d.notification_bundle_hash = n.notification_bundle_hash)\n",
    ")\n",
    "SELECT \n",
    "    i.wiki_db,\n",
    "    revision_id,\n",
    "    user_id,\n",
    "    noti_type,\n",
    "    filename,\n",
    "    IF(revision_is_identity_reverted AND revision_seconds_to_identity_revert <= 172800, TRUE, FALSE) AS reverted\n",
    "FROM image_edits i\n",
    "LEFT JOIN suggested_images s \n",
    "    ON (i.wiki_db = s.wiki_db AND i.page_id = s.event_page_id AND i.user_id = s.notification_user AND i.filename = s.suggested_image)\n",
    "WHERE notification_bundle_hash IS NOT NULL\n",
    "  AND read_ts IS NOT NULL\n",
    "\n",
    "\"\"\"\n"
   ]
  },
  {
   "cell_type": "markdown",
   "id": "4dd8fdcb-c0d9-43e0-92a5-0700f17b8f5c",
   "metadata": {},
   "source": [
    "# Caculation"
   ]
  },
  {
   "cell_type": "markdown",
   "id": "531afd93-af05-4b1d-916b-4dc168fccb15",
   "metadata": {},
   "source": [
    "## Number of Notifications\n"
   ]
  },
  {
   "cell_type": "code",
   "execution_count": 19,
   "id": "b6d5390f-34d9-4fda-b784-1ebf2b3b2f18",
   "metadata": {},
   "outputs": [],
   "source": [
    "daily_notification_query = \"\"\"\n",
    "\n",
    "WITH noti AS (\n",
    "    SELECT \n",
    "        wiki_db,\n",
    "        notification_user,\n",
    "        notification_bundle_hash,\n",
    "        MIN(notification_timestamp) AS send_ts,\n",
    "        MIN(notification_read_timestamp) AS read_ts,\n",
    "        SUM(CASE WHEN is_article_level THEN 1 ELSE 0 END) AS noti_type, \n",
    "        COUNT(*) AS count\n",
    "    FROM global_temp.notification_data\n",
    "    WHERE notification_timestamp >= {noti_timestamp}\n",
    "    GROUP BY wiki_db, notification_user,notification_bundle_hash\n",
    ")\n",
    "\n",
    "SELECT \n",
    "   wiki_db,\n",
    "   FROM_UNIXTIME(UNIX_TIMESTAMP(SUBSTR(send_ts,0,8), 'yyyyMMdd')) AS date,\n",
    "   COUNT(1) AS all_noti,\n",
    "   COUNT(read_ts) AS all_noti_read,\n",
    "   COUNT(CASE WHEN noti_type = 1 AND count = 1 THEN 1 END) AS article_noti,\n",
    "   COUNT(CASE WHEN noti_type = 1 AND count = 1 THEN read_ts END) AS article_noti_read,\n",
    "   COUNT(CASE WHEN noti_type = 0  THEN 1 END) AS section_noti,\n",
    "   COUNT(CASE WHEN noti_type = 0  THEN read_ts END) AS section_read,\n",
    "   COUNT(CASE WHEN noti_type = 1 AND count > 1 THEN 1 END) AS combined_noti,\n",
    "   COUNT(CASE WHEN noti_type = 1 AND count > 1 THEN read_ts END) AS combined_noti_read\n",
    "FROM noti\n",
    "GROUP BY wiki_db, FROM_UNIXTIME(UNIX_TIMESTAMP(SUBSTR(send_ts,0,8), 'yyyyMMdd'))\n",
    "   \n",
    "\"\"\""
   ]
  },
  {
   "cell_type": "code",
   "execution_count": 21,
   "id": "6b54f469-af90-4ef2-8861-b74fa36440bf",
   "metadata": {},
   "outputs": [
    {
     "name": "stderr",
     "output_type": "stream",
     "text": [
      "23/08/01 05:20:01 WARN TaskSetManager: Stage 0 contains a task of very large size (11947 KiB). The maximum recommended task size is 1000 KiB.\n",
      "                                                                                \r"
     ]
    }
   ],
   "source": [
    "daily_notification = spark.run(\n",
    "        daily_notification_query.format(\n",
    "            noti_timestamp = m_start_timestamp))"
   ]
  },
  {
   "cell_type": "code",
   "execution_count": 22,
   "id": "5d60630e-faea-488f-b908-7cfef9769cd3",
   "metadata": {},
   "outputs": [],
   "source": [
    "notification_stats = daily_notification.groupby('wiki_db').agg(\n",
    "     notification_sent = ('all_noti', 'sum'),\n",
    "     notification_read = ('all_noti_read', 'sum'),\n",
    "     article_sent = ('article_noti', 'sum'),\n",
    "     article_read = ('article_noti_read', 'sum'),\n",
    "     section_sent = ('section_noti', 'sum'),\n",
    "     section_read = ('section_read', 'sum'),\n",
    "     combined_sent = ('combined_noti', 'sum'),\n",
    "     combined_read = ('combined_noti_read', 'sum')\n",
    ").reset_index()"
   ]
  },
  {
   "cell_type": "code",
   "execution_count": 23,
   "id": "94191247-0a15-4696-b0b7-61b73481b16c",
   "metadata": {},
   "outputs": [
    {
     "data": {
      "text/html": [
       "<div>\n",
       "<style scoped>\n",
       "    .dataframe tbody tr th:only-of-type {\n",
       "        vertical-align: middle;\n",
       "    }\n",
       "\n",
       "    .dataframe tbody tr th {\n",
       "        vertical-align: top;\n",
       "    }\n",
       "\n",
       "    .dataframe thead th {\n",
       "        text-align: right;\n",
       "    }\n",
       "</style>\n",
       "<table border=\"1\" class=\"dataframe\">\n",
       "  <thead>\n",
       "    <tr style=\"text-align: right;\">\n",
       "      <th></th>\n",
       "      <th>wiki_db</th>\n",
       "      <th>notification_sent</th>\n",
       "      <th>notification_read</th>\n",
       "      <th>article_sent</th>\n",
       "      <th>article_read</th>\n",
       "      <th>section_sent</th>\n",
       "      <th>section_read</th>\n",
       "      <th>combined_sent</th>\n",
       "      <th>combined_read</th>\n",
       "    </tr>\n",
       "  </thead>\n",
       "  <tbody>\n",
       "    <tr>\n",
       "      <th>0</th>\n",
       "      <td>cawiki</td>\n",
       "      <td>4007</td>\n",
       "      <td>1066</td>\n",
       "      <td>96</td>\n",
       "      <td>41</td>\n",
       "      <td>3889</td>\n",
       "      <td>1019</td>\n",
       "      <td>22</td>\n",
       "      <td>6</td>\n",
       "    </tr>\n",
       "    <tr>\n",
       "      <th>1</th>\n",
       "      <td>fiwiki</td>\n",
       "      <td>1217</td>\n",
       "      <td>277</td>\n",
       "      <td>1217</td>\n",
       "      <td>277</td>\n",
       "      <td>0</td>\n",
       "      <td>0</td>\n",
       "      <td>0</td>\n",
       "      <td>0</td>\n",
       "    </tr>\n",
       "    <tr>\n",
       "      <th>2</th>\n",
       "      <td>huwiki</td>\n",
       "      <td>6205</td>\n",
       "      <td>1173</td>\n",
       "      <td>221</td>\n",
       "      <td>77</td>\n",
       "      <td>5934</td>\n",
       "      <td>1081</td>\n",
       "      <td>50</td>\n",
       "      <td>15</td>\n",
       "    </tr>\n",
       "    <tr>\n",
       "      <th>3</th>\n",
       "      <td>idwiki</td>\n",
       "      <td>3843</td>\n",
       "      <td>802</td>\n",
       "      <td>101</td>\n",
       "      <td>51</td>\n",
       "      <td>3690</td>\n",
       "      <td>738</td>\n",
       "      <td>52</td>\n",
       "      <td>13</td>\n",
       "    </tr>\n",
       "    <tr>\n",
       "      <th>4</th>\n",
       "      <td>nowiki</td>\n",
       "      <td>4070</td>\n",
       "      <td>647</td>\n",
       "      <td>138</td>\n",
       "      <td>30</td>\n",
       "      <td>3886</td>\n",
       "      <td>609</td>\n",
       "      <td>46</td>\n",
       "      <td>8</td>\n",
       "    </tr>\n",
       "    <tr>\n",
       "      <th>5</th>\n",
       "      <td>ptwiki</td>\n",
       "      <td>13950</td>\n",
       "      <td>2213</td>\n",
       "      <td>570</td>\n",
       "      <td>181</td>\n",
       "      <td>13233</td>\n",
       "      <td>2000</td>\n",
       "      <td>147</td>\n",
       "      <td>32</td>\n",
       "    </tr>\n",
       "    <tr>\n",
       "      <th>6</th>\n",
       "      <td>ruwiki</td>\n",
       "      <td>32994</td>\n",
       "      <td>7075</td>\n",
       "      <td>1070</td>\n",
       "      <td>346</td>\n",
       "      <td>31590</td>\n",
       "      <td>6636</td>\n",
       "      <td>334</td>\n",
       "      <td>93</td>\n",
       "    </tr>\n",
       "  </tbody>\n",
       "</table>\n",
       "</div>"
      ],
      "text/plain": [
       "  wiki_db  notification_sent  notification_read  article_sent  article_read  \\\n",
       "0  cawiki               4007               1066            96            41   \n",
       "1  fiwiki               1217                277          1217           277   \n",
       "2  huwiki               6205               1173           221            77   \n",
       "3  idwiki               3843                802           101            51   \n",
       "4  nowiki               4070                647           138            30   \n",
       "5  ptwiki              13950               2213           570           181   \n",
       "6  ruwiki              32994               7075          1070           346   \n",
       "\n",
       "   section_sent  section_read  combined_sent  combined_read  \n",
       "0          3889          1019             22              6  \n",
       "1             0             0              0              0  \n",
       "2          5934          1081             50             15  \n",
       "3          3690           738             52             13  \n",
       "4          3886           609             46              8  \n",
       "5         13233          2000            147             32  \n",
       "6         31590          6636            334             93  "
      ]
     },
     "execution_count": 23,
     "metadata": {},
     "output_type": "execute_result"
    }
   ],
   "source": [
    "notification_stats"
   ]
  },
  {
   "cell_type": "markdown",
   "id": "95c0cbc5-46b3-4abf-ac26-63de320f074a",
   "metadata": {},
   "source": [
    "## Number of opt-outs"
   ]
  },
  {
   "cell_type": "code",
   "execution_count": 24,
   "id": "73bd920b-a544-4454-b31d-1b64a9f0ce28",
   "metadata": {},
   "outputs": [],
   "source": [
    "pref_type_list = (\"push\", \"web\")"
   ]
  },
  {
   "cell_type": "code",
   "execution_count": 25,
   "id": "689954a3-bb70-40be-8fd5-b767e7ed85db",
   "metadata": {},
   "outputs": [],
   "source": [
    "pref_query = \"\"\"\n",
    "\n",
    "WITH noti_users AS ( --total notification users\n",
    "\n",
    "SELECT \n",
    "    wiki_db,\n",
    "    notification_user\n",
    "FROM global_temp.notification_user_data\n",
    "GROUP BY wiki_db, notification_user\n",
    "\n",
    "), local_pref AS ( -- local preference \n",
    "\n",
    "SELECT\n",
    "    wiki_db,\n",
    "    local_user_id,\n",
    "    up_value AS local_pref\n",
    "FROM global_temp.local_pref_temp\n",
    "WHERE up_property = \"echo-subscriptions-{type}-image-suggestions\"\n",
    "  and up_value != ''\n",
    "\n",
    "), global_pref AS ( -- global preference\n",
    "\n",
    "SELECT\n",
    "    lu_wiki,\n",
    "    lu_local_id,\n",
    "    gp_value AS global_pref\n",
    "FROM global_temp.global_pref_temp\n",
    "WHERE gp_property  = \"echo-subscriptions-{type}-image-suggestions\"\n",
    "  and gp_value != ''\n",
    "\n",
    "), local_ex AS ( -- local exceptions\n",
    "\n",
    "SELECT\n",
    "    wiki_db,\n",
    "    local_user_id,\n",
    "    up_value AS local_ex   \n",
    "FROM global_temp.local_pref_temp\n",
    "WHERE up_property = \"echo-subscriptions-{type}-image-suggestions-local-exception\"\n",
    "  and up_value != ''\n",
    "\n",
    "), global_all_pref AS ( -- compare local exception and global preference\n",
    "\n",
    "SELECT \n",
    "    COALESCE(lu_wiki,wiki_db) AS wiki,\n",
    "    COALESCE(lu_local_id,local_user_id) AS user_id,\n",
    "    COALESCE(local_ex,global_pref) AS all_pref\n",
    "FROM global_pref gp FULL OUTER JOIN local_ex le ON (gp.lu_wiki = le.wiki_db AND gp.lu_local_id = le.local_user_id)\n",
    "\n",
    ")\n",
    "\n",
    "SELECT \n",
    "    nu.wiki_db,\n",
    "    nu.notification_user,\n",
    "    gp.all_pref,\n",
    "    lp.local_pref\n",
    "FROM noti_users nu \n",
    "    LEFT JOIN local_pref lp ON (nu.wiki_db = lp.wiki_db AND nu.notification_user = lp.local_user_id)\n",
    "    LEFT JOIN global_all_pref gp ON (nu.wiki_db = gp.wiki AND nu.notification_user = gp.user_id)\n",
    "\"\"\""
   ]
  },
  {
   "cell_type": "code",
   "execution_count": 26,
   "id": "715dbbfa-68af-4ef2-91c8-c006e894abcc",
   "metadata": {},
   "outputs": [
    {
     "name": "stderr",
     "output_type": "stream",
     "text": [
      "23/08/01 05:20:11 WARN TaskSetManager: Stage 4 contains a task of very large size (2486 KiB). The maximum recommended task size is 1000 KiB.\n",
      "23/08/01 05:20:17 WARN TaskSetManager: Stage 13 contains a task of very large size (2486 KiB). The maximum recommended task size is 1000 KiB.\n",
      "                                                                                \r"
     ]
    }
   ],
   "source": [
    "pref_stats = pd.DataFrame()\n",
    "\n",
    "for i in range(len(pref_type_list)):\n",
    "               \n",
    "    pref_result = spark.run(pref_query.format(\n",
    "                           type = pref_type_list[i]\n",
    "                        ))\n",
    "    \n",
    "    pref_result.insert(0, 'type', pref_type_list[i])\n",
    "    \n",
    "    pref_stats = pd.concat([pref_stats, pref_result], sort=False)"
   ]
  },
  {
   "cell_type": "code",
   "execution_count": 27,
   "id": "ece36959-5fad-407e-8ae0-55b87c6fcab5",
   "metadata": {},
   "outputs": [],
   "source": [
    "## total number of users received notifications\n",
    "total_users = pref_stats[(pref_stats['type'] == \"web\")].groupby(\n",
    "    ['wiki_db']\n",
    ").agg(\n",
    "    total_users = ('notification_user', 'count')\n",
    ").reset_index()"
   ]
  },
  {
   "cell_type": "code",
   "execution_count": 28,
   "id": "8b02479e-bf63-44b1-a856-37389d71a823",
   "metadata": {},
   "outputs": [],
   "source": [
    "## opt-out for push notifications and web notifications\n",
    "pref = pref_stats.groupby(\n",
    "    ['wiki_db','type', 'all_pref', 'local_pref']\n",
    ").agg(\n",
    "    optout_users = ('wiki_db', 'count')\n",
    ").reset_index()\n",
    "\n",
    "pref = pref[(pref['all_pref'] == '0')|(pref['local_pref'] == '0')]"
   ]
  },
  {
   "cell_type": "code",
   "execution_count": 29,
   "id": "d4605383-b0fd-4415-af36-b12b49ddbc03",
   "metadata": {},
   "outputs": [],
   "source": [
    "mobile_optout = pref_stats[(pref_stats['type'] == \"push\")]\n",
    "\n",
    "mobile_optout= mobile_optout[(mobile_optout['all_pref'] == '0')|(mobile_optout['local_pref'] == '0')].groupby(\n",
    "    ['wiki_db']\n",
    ").agg(\n",
    "    mobile_optouts = ( 'wiki_db','count')\n",
    ").reset_index()"
   ]
  },
  {
   "cell_type": "code",
   "execution_count": 30,
   "id": "c0ec1455-ce96-4d31-83aa-a4acd0ddebb5",
   "metadata": {},
   "outputs": [],
   "source": [
    "desktop_optout = pref_stats[(pref_stats['type'] == \"web\")]\n",
    "\n",
    "desktop_optout= desktop_optout[(desktop_optout['all_pref'] == '0')|(desktop_optout['local_pref'] == '0')].groupby(\n",
    "    ['wiki_db']\n",
    ").agg(\n",
    "    desktop_optout = ( 'wiki_db','count')\n",
    ").reset_index()"
   ]
  },
  {
   "cell_type": "code",
   "execution_count": 31,
   "id": "d7dd83c5-516d-440c-b544-0ddefee30456",
   "metadata": {},
   "outputs": [
    {
     "data": {
      "text/html": [
       "<div>\n",
       "<style scoped>\n",
       "    .dataframe tbody tr th:only-of-type {\n",
       "        vertical-align: middle;\n",
       "    }\n",
       "\n",
       "    .dataframe tbody tr th {\n",
       "        vertical-align: top;\n",
       "    }\n",
       "\n",
       "    .dataframe thead th {\n",
       "        text-align: right;\n",
       "    }\n",
       "</style>\n",
       "<table border=\"1\" class=\"dataframe\">\n",
       "  <thead>\n",
       "    <tr style=\"text-align: right;\">\n",
       "      <th></th>\n",
       "      <th>wiki_db</th>\n",
       "      <th>total_users</th>\n",
       "      <th>mobile_optouts</th>\n",
       "      <th>desktop_optout</th>\n",
       "    </tr>\n",
       "  </thead>\n",
       "  <tbody>\n",
       "    <tr>\n",
       "      <th>0</th>\n",
       "      <td>cawiki</td>\n",
       "      <td>789</td>\n",
       "      <td>7</td>\n",
       "      <td>5</td>\n",
       "    </tr>\n",
       "    <tr>\n",
       "      <th>1</th>\n",
       "      <td>fiwiki</td>\n",
       "      <td>1059</td>\n",
       "      <td>38</td>\n",
       "      <td>44</td>\n",
       "    </tr>\n",
       "    <tr>\n",
       "      <th>2</th>\n",
       "      <td>huwiki</td>\n",
       "      <td>1278</td>\n",
       "      <td>21</td>\n",
       "      <td>26</td>\n",
       "    </tr>\n",
       "    <tr>\n",
       "      <th>3</th>\n",
       "      <td>idwiki</td>\n",
       "      <td>959</td>\n",
       "      <td>13</td>\n",
       "      <td>14</td>\n",
       "    </tr>\n",
       "    <tr>\n",
       "      <th>4</th>\n",
       "      <td>nowiki</td>\n",
       "      <td>817</td>\n",
       "      <td>21</td>\n",
       "      <td>21</td>\n",
       "    </tr>\n",
       "    <tr>\n",
       "      <th>5</th>\n",
       "      <td>ptwiki</td>\n",
       "      <td>3990</td>\n",
       "      <td>36</td>\n",
       "      <td>38</td>\n",
       "    </tr>\n",
       "    <tr>\n",
       "      <th>6</th>\n",
       "      <td>ruwiki</td>\n",
       "      <td>7299</td>\n",
       "      <td>162</td>\n",
       "      <td>171</td>\n",
       "    </tr>\n",
       "  </tbody>\n",
       "</table>\n",
       "</div>"
      ],
      "text/plain": [
       "  wiki_db  total_users  mobile_optouts  desktop_optout\n",
       "0  cawiki          789               7               5\n",
       "1  fiwiki         1059              38              44\n",
       "2  huwiki         1278              21              26\n",
       "3  idwiki          959              13              14\n",
       "4  nowiki          817              21              21\n",
       "5  ptwiki         3990              36              38\n",
       "6  ruwiki         7299             162             171"
      ]
     },
     "execution_count": 31,
     "metadata": {},
     "output_type": "execute_result"
    }
   ],
   "source": [
    "pd.merge(pd.merge(total_users,mobile_optout,on='wiki_db'),desktop_optout,on='wiki_db')"
   ]
  },
  {
   "cell_type": "markdown",
   "id": "1dcf650a-0e96-4f12-a4b5-a4ef1c1f29cf",
   "metadata": {},
   "source": [
    "## Number of imgages added"
   ]
  },
  {
   "cell_type": "code",
   "execution_count": 51,
   "id": "7e6fc655-3b36-4875-9dee-610749379763",
   "metadata": {},
   "outputs": [],
   "source": [
    "match_image_query = \"\"\"\n",
    "\n",
    "WITH image_edits AS (\n",
    "    SELECT\n",
    "        wiki_db,\n",
    "        event_timestamp,\n",
    "        revision_id,\n",
    "        user_id,\n",
    "        page_id,\n",
    "        revision_is_identity_reverted,\n",
    "        revision_seconds_to_identity_revert,\n",
    "        REPLACE(filename, ' ', '_') AS filename\n",
    "    FROM global_temp.image_edit_temp\n",
    "    WHERE action = 1\n",
    "      AND ! revision_is_identity_revert\n",
    "      AND ! ARRAY_CONTAINS(revision_tags, 'newcomer task')\n",
    "), \n",
    "noti_type_one AS (\n",
    "    SELECT \n",
    "        wiki_db,\n",
    "        notification_user,\n",
    "        notification_bundle_hash,\n",
    "        MIN(notification_timestamp) AS send_ts,\n",
    "        MIN(notification_read_timestamp) AS read_ts,\n",
    "        SUM(CASE WHEN is_article_level THEN 1 ELSE 0 END) AS noti_type, \n",
    "        COUNT(*) AS count\n",
    "    FROM global_temp.notification_data\n",
    "    WHERE notification_timestamp >= {noti_timestamp}\n",
    "    GROUP BY wiki_db, notification_user,notification_bundle_hash\n",
    "),\n",
    "noti_type_two AS (\n",
    "    SELECT\n",
    "        wiki_db,\n",
    "        notification_user,\n",
    "        notification_bundle_hash,\n",
    "        send_ts,\n",
    "        read_ts,\n",
    "        CASE WHEN noti_type = 1 AND count = 1 THEN 'article_level'\n",
    "             WHEN noti_type = 0 THEN 'section_level'\n",
    "             WHEN noti_type = 1 AND count > 1 THEN 'combined'\n",
    "        END AS noti_type\n",
    "    FROM noti_type_one\n",
    "),\n",
    "\n",
    "suggested_images AS (\n",
    "    SELECT\n",
    "        d.wiki_db,\n",
    "        d.notification_bundle_hash,\n",
    "        n.send_ts,\n",
    "        n.read_ts, \n",
    "        noti_type,\n",
    "        event_page_id,\n",
    "        d.notification_user,\n",
    "        suggested_image\n",
    "    FROM global_temp.notification_data d LEFT JOIN noti_type_two n \n",
    "       ON (d.wiki_db = n.wiki_db AND d.notification_user= n.notification_user AND d.notification_bundle_hash = n.notification_bundle_hash)\n",
    "),\n",
    "\n",
    "change_count AS (\n",
    "SELECT \n",
    "    i.wiki_db,\n",
    "    revision_id,\n",
    "    user_id,\n",
    "    noti_type,\n",
    "    filename,\n",
    "    IF(revision_is_identity_reverted AND revision_seconds_to_identity_revert <= 172800, TRUE, FALSE) AS reverted\n",
    "FROM image_edits i\n",
    "LEFT JOIN suggested_images s \n",
    "    ON (i.wiki_db = s.wiki_db AND i.page_id = s.event_page_id AND i.user_id = s.notification_user AND i.filename = s.suggested_image)\n",
    "WHERE notification_bundle_hash IS NOT NULL\n",
    "  AND read_ts IS NOT NULL\n",
    ")\n",
    "\n",
    "SELECT \n",
    "    wiki_db,\n",
    "    noti_type,\n",
    "    COUNT(DISTINCT(revision_id)) AS num_edits,\n",
    "    COUNT(DISTINCT(filename)) AS image_added,\n",
    "    COUNT(DISTINCT(CASE WHEN reverted THEN revision_id ELSE NULL END)) reverted\n",
    "FROM change_count c\n",
    "GROUP BY wiki_db,noti_type\n",
    "\n",
    "\"\"\""
   ]
  },
  {
   "cell_type": "code",
   "execution_count": 52,
   "id": "a7fede03-cc0c-41e7-af39-2dab749c9ae8",
   "metadata": {},
   "outputs": [
    {
     "name": "stderr",
     "output_type": "stream",
     "text": [
      "23/09/05 05:15:17 WARN TaskSetManager: Stage 63 contains a task of very large size (11968 KiB). The maximum recommended task size is 1000 KiB.\n",
      "23/09/05 05:15:17 WARN TaskSetManager: Stage 64 contains a task of very large size (11968 KiB). The maximum recommended task size is 1000 KiB.\n",
      "23/09/05 05:15:18 WARN TaskSetManager: Stage 66 contains a task of very large size (8938 KiB). The maximum recommended task size is 1000 KiB.\n",
      "                                                                                \r"
     ]
    }
   ],
   "source": [
    "img_data = spark.run( \n",
    "        match_image_query.format(\n",
    "          media_list_table = media_list_table,\n",
    "          noti_timestamp = m_start_timestamp\n",
    "        )\n",
    "    )"
   ]
  },
  {
   "cell_type": "code",
   "execution_count": 54,
   "id": "efb840d2-2561-4090-8a72-00d7696f63b4",
   "metadata": {},
   "outputs": [
    {
     "name": "stderr",
     "output_type": "stream",
     "text": [
      "/tmp/ipykernel_5570/3568323437.py:2: FutureWarning: Indexing with multiple keys (implicitly converted to a tuple of keys) will be deprecated, use a list instead.\n",
      "  img_data.groupby(['wiki_db'])['image_added','reverted'].sum()\n"
     ]
    },
    {
     "data": {
      "text/html": [
       "<div>\n",
       "<style scoped>\n",
       "    .dataframe tbody tr th:only-of-type {\n",
       "        vertical-align: middle;\n",
       "    }\n",
       "\n",
       "    .dataframe tbody tr th {\n",
       "        vertical-align: top;\n",
       "    }\n",
       "\n",
       "    .dataframe thead th {\n",
       "        text-align: right;\n",
       "    }\n",
       "</style>\n",
       "<table border=\"1\" class=\"dataframe\">\n",
       "  <thead>\n",
       "    <tr style=\"text-align: right;\">\n",
       "      <th></th>\n",
       "      <th>image_added</th>\n",
       "      <th>reverted</th>\n",
       "    </tr>\n",
       "    <tr>\n",
       "      <th>wiki_db</th>\n",
       "      <th></th>\n",
       "      <th></th>\n",
       "    </tr>\n",
       "  </thead>\n",
       "  <tbody>\n",
       "    <tr>\n",
       "      <th>cawiki</th>\n",
       "      <td>61</td>\n",
       "      <td>0</td>\n",
       "    </tr>\n",
       "    <tr>\n",
       "      <th>fiwiki</th>\n",
       "      <td>24</td>\n",
       "      <td>0</td>\n",
       "    </tr>\n",
       "    <tr>\n",
       "      <th>huwiki</th>\n",
       "      <td>51</td>\n",
       "      <td>0</td>\n",
       "    </tr>\n",
       "    <tr>\n",
       "      <th>idwiki</th>\n",
       "      <td>19</td>\n",
       "      <td>0</td>\n",
       "    </tr>\n",
       "    <tr>\n",
       "      <th>nowiki</th>\n",
       "      <td>10</td>\n",
       "      <td>1</td>\n",
       "    </tr>\n",
       "    <tr>\n",
       "      <th>ptwiki</th>\n",
       "      <td>52</td>\n",
       "      <td>0</td>\n",
       "    </tr>\n",
       "    <tr>\n",
       "      <th>ruwiki</th>\n",
       "      <td>160</td>\n",
       "      <td>1</td>\n",
       "    </tr>\n",
       "  </tbody>\n",
       "</table>\n",
       "</div>"
      ],
      "text/plain": [
       "         image_added  reverted\n",
       "wiki_db                       \n",
       "cawiki            61         0\n",
       "fiwiki            24         0\n",
       "huwiki            51         0\n",
       "idwiki            19         0\n",
       "nowiki            10         1\n",
       "ptwiki            52         0\n",
       "ruwiki           160         1"
      ]
     },
     "execution_count": 54,
     "metadata": {},
     "output_type": "execute_result"
    }
   ],
   "source": [
    "##overall \n",
    "img_data.groupby(['wiki_db'])['image_added','reverted'].sum()\n"
   ]
  },
  {
   "cell_type": "code",
   "execution_count": 57,
   "id": "efea931a-c723-4e50-a704-326d2af67084",
   "metadata": {},
   "outputs": [
    {
     "data": {
      "text/html": [
       "<div>\n",
       "<style scoped>\n",
       "    .dataframe tbody tr th:only-of-type {\n",
       "        vertical-align: middle;\n",
       "    }\n",
       "\n",
       "    .dataframe tbody tr th {\n",
       "        vertical-align: top;\n",
       "    }\n",
       "\n",
       "    .dataframe thead th {\n",
       "        text-align: right;\n",
       "    }\n",
       "</style>\n",
       "<table border=\"1\" class=\"dataframe\">\n",
       "  <thead>\n",
       "    <tr style=\"text-align: right;\">\n",
       "      <th></th>\n",
       "      <th>wiki_db</th>\n",
       "      <th>noti_type</th>\n",
       "      <th>num_edits</th>\n",
       "      <th>image_added</th>\n",
       "      <th>reverted</th>\n",
       "    </tr>\n",
       "  </thead>\n",
       "  <tbody>\n",
       "    <tr>\n",
       "      <th>14</th>\n",
       "      <td>cawiki</td>\n",
       "      <td>article_level</td>\n",
       "      <td>1</td>\n",
       "      <td>1</td>\n",
       "      <td>0</td>\n",
       "    </tr>\n",
       "    <tr>\n",
       "      <th>2</th>\n",
       "      <td>cawiki</td>\n",
       "      <td>combined</td>\n",
       "      <td>1</td>\n",
       "      <td>1</td>\n",
       "      <td>0</td>\n",
       "    </tr>\n",
       "    <tr>\n",
       "      <th>1</th>\n",
       "      <td>cawiki</td>\n",
       "      <td>section_level</td>\n",
       "      <td>59</td>\n",
       "      <td>59</td>\n",
       "      <td>0</td>\n",
       "    </tr>\n",
       "    <tr>\n",
       "      <th>11</th>\n",
       "      <td>fiwiki</td>\n",
       "      <td>article_level</td>\n",
       "      <td>24</td>\n",
       "      <td>24</td>\n",
       "      <td>0</td>\n",
       "    </tr>\n",
       "    <tr>\n",
       "      <th>15</th>\n",
       "      <td>huwiki</td>\n",
       "      <td>article_level</td>\n",
       "      <td>8</td>\n",
       "      <td>8</td>\n",
       "      <td>0</td>\n",
       "    </tr>\n",
       "    <tr>\n",
       "      <th>9</th>\n",
       "      <td>huwiki</td>\n",
       "      <td>section_level</td>\n",
       "      <td>43</td>\n",
       "      <td>43</td>\n",
       "      <td>0</td>\n",
       "    </tr>\n",
       "    <tr>\n",
       "      <th>8</th>\n",
       "      <td>idwiki</td>\n",
       "      <td>article_level</td>\n",
       "      <td>3</td>\n",
       "      <td>3</td>\n",
       "      <td>0</td>\n",
       "    </tr>\n",
       "    <tr>\n",
       "      <th>16</th>\n",
       "      <td>idwiki</td>\n",
       "      <td>combined</td>\n",
       "      <td>2</td>\n",
       "      <td>2</td>\n",
       "      <td>0</td>\n",
       "    </tr>\n",
       "    <tr>\n",
       "      <th>4</th>\n",
       "      <td>idwiki</td>\n",
       "      <td>section_level</td>\n",
       "      <td>14</td>\n",
       "      <td>14</td>\n",
       "      <td>0</td>\n",
       "    </tr>\n",
       "    <tr>\n",
       "      <th>10</th>\n",
       "      <td>nowiki</td>\n",
       "      <td>article_level</td>\n",
       "      <td>2</td>\n",
       "      <td>2</td>\n",
       "      <td>0</td>\n",
       "    </tr>\n",
       "    <tr>\n",
       "      <th>5</th>\n",
       "      <td>nowiki</td>\n",
       "      <td>section_level</td>\n",
       "      <td>8</td>\n",
       "      <td>8</td>\n",
       "      <td>1</td>\n",
       "    </tr>\n",
       "    <tr>\n",
       "      <th>7</th>\n",
       "      <td>ptwiki</td>\n",
       "      <td>article_level</td>\n",
       "      <td>5</td>\n",
       "      <td>5</td>\n",
       "      <td>0</td>\n",
       "    </tr>\n",
       "    <tr>\n",
       "      <th>13</th>\n",
       "      <td>ptwiki</td>\n",
       "      <td>combined</td>\n",
       "      <td>1</td>\n",
       "      <td>1</td>\n",
       "      <td>0</td>\n",
       "    </tr>\n",
       "    <tr>\n",
       "      <th>3</th>\n",
       "      <td>ptwiki</td>\n",
       "      <td>section_level</td>\n",
       "      <td>45</td>\n",
       "      <td>46</td>\n",
       "      <td>0</td>\n",
       "    </tr>\n",
       "    <tr>\n",
       "      <th>12</th>\n",
       "      <td>ruwiki</td>\n",
       "      <td>article_level</td>\n",
       "      <td>4</td>\n",
       "      <td>4</td>\n",
       "      <td>0</td>\n",
       "    </tr>\n",
       "    <tr>\n",
       "      <th>0</th>\n",
       "      <td>ruwiki</td>\n",
       "      <td>combined</td>\n",
       "      <td>8</td>\n",
       "      <td>9</td>\n",
       "      <td>0</td>\n",
       "    </tr>\n",
       "    <tr>\n",
       "      <th>6</th>\n",
       "      <td>ruwiki</td>\n",
       "      <td>section_level</td>\n",
       "      <td>150</td>\n",
       "      <td>147</td>\n",
       "      <td>1</td>\n",
       "    </tr>\n",
       "  </tbody>\n",
       "</table>\n",
       "</div>"
      ],
      "text/plain": [
       "   wiki_db      noti_type  num_edits  image_added  reverted\n",
       "14  cawiki  article_level          1            1         0\n",
       "2   cawiki       combined          1            1         0\n",
       "1   cawiki  section_level         59           59         0\n",
       "11  fiwiki  article_level         24           24         0\n",
       "15  huwiki  article_level          8            8         0\n",
       "9   huwiki  section_level         43           43         0\n",
       "8   idwiki  article_level          3            3         0\n",
       "16  idwiki       combined          2            2         0\n",
       "4   idwiki  section_level         14           14         0\n",
       "10  nowiki  article_level          2            2         0\n",
       "5   nowiki  section_level          8            8         1\n",
       "7   ptwiki  article_level          5            5         0\n",
       "13  ptwiki       combined          1            1         0\n",
       "3   ptwiki  section_level         45           46         0\n",
       "12  ruwiki  article_level          4            4         0\n",
       "0   ruwiki       combined          8            9         0\n",
       "6   ruwiki  section_level        150          147         1"
      ]
     },
     "execution_count": 57,
     "metadata": {},
     "output_type": "execute_result"
    }
   ],
   "source": [
    "# by notification type \n",
    "\n",
    "img_data.sort_values(by=['wiki_db','noti_type'])\n"
   ]
  }
 ],
 "metadata": {
  "kernelspec": {
   "display_name": "Python 3 (ipykernel)",
   "language": "python",
   "name": "python3"
  },
  "language_info": {
   "codemirror_mode": {
    "name": "ipython",
    "version": 3
   },
   "file_extension": ".py",
   "mimetype": "text/x-python",
   "name": "python",
   "nbconvert_exporter": "python",
   "pygments_lexer": "ipython3",
   "version": "3.10.8"
  }
 },
 "nbformat": 4,
 "nbformat_minor": 5
}
