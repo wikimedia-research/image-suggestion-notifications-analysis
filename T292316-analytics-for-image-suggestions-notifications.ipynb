{
 "cells": [
  {
   "cell_type": "markdown",
   "id": "00558091-f979-41c8-b50f-0ece17625986",
   "metadata": {},
   "source": [
    "# Analytics for Image Suggestions Notifications"
   ]
  },
  {
   "cell_type": "markdown",
   "id": "fce0031f-5036-4f69-9289-410b392332db",
   "metadata": {},
   "source": [
    "[T292316](https://phabricator.wikimedia.org/T292316)"
   ]
  },
  {
   "cell_type": "markdown",
   "id": "9d442d73-0964-447b-99cf-ac94dc31db98",
   "metadata": {
    "tags": []
   },
   "source": [
    "# Purpose"
   ]
  },
  {
   "cell_type": "markdown",
   "id": "9e03c307-3d1b-46a9-89e7-c30fb8ff29fb",
   "metadata": {},
   "source": [
    "More Experienced Contributors are interested in specific articles that they watch and edit. MVP of Image Suggestions is to recommend images to them for the articles they are watching or recently edited. The image suggestion notification started from July 20th, 2022 in three test wikis: idwiki, ptwiki and ruwiki.\n",
    "\n",
    "Structured Data team wants to understand how the image suggestions notifications feature is being used and how it relates to other notifications behavior, so that I can make decisions about how to build and/or make changes to the feature going forward, and determine its success.\n",
    "\n",
    "In this analysis, we are looking at data from 07/20/2022 - 08/31/2022 to answer follwing questions:\n",
    "\n",
    "- Number of notifications sent (To get a sense of the scope of our work and whether we should increase or decrease) \n",
    "- Number of opt-outs (To see whether users are annoyed by our notifications or not interested in them, etc)\n",
    "- How many images on average are added by a user per month\n",
    "- Number of images suggested that are added to the matched article (To see whether the notifications are successful)\n",
    "- Number of suggested images not reverted from their matched article (low revert rate to show that the matches are good)\n",
    "- Number of image added to unillustrated articles by experienced editors"
   ]
  },
  {
   "cell_type": "markdown",
   "id": "4bd15deb-5eef-4bf3-b60a-a4279c2be63c",
   "metadata": {
    "tags": []
   },
   "source": [
    "# Data Preparation"
   ]
  },
  {
   "cell_type": "code",
   "execution_count": 3,
   "id": "db9c85a9-9897-4f8a-8a07-288dac1cc4d2",
   "metadata": {},
   "outputs": [],
   "source": [
    "import re\n",
    "\n",
    "from wmfdata import hive, mariadb, spark\n",
    "import wmfdata \n",
    "\n",
    "import math\n",
    "import pandas as pd\n",
    "import numpy as np\n",
    "\n",
    "from datetime import datetime, timedelta, date"
   ]
  },
  {
   "cell_type": "code",
   "execution_count": 4,
   "id": "3f786a4f-977b-42b0-9be7-4262b4643219",
   "metadata": {},
   "outputs": [
    {
     "name": "stderr",
     "output_type": "stream",
     "text": [
      "PySpark executors will use /usr/lib/anaconda-wmf/bin/python3.\n"
     ]
    }
   ],
   "source": [
    "spark_session = wmfdata.spark.get_session(app_name='pyspark regular; media-changes',\n",
    "                                  type='yarn-large', # local, yarn-regular, yarn-large\n",
    "                                 )  "
   ]
  },
  {
   "cell_type": "markdown",
   "id": "7807b81c-6689-4f2e-a45c-f956e0923625",
   "metadata": {},
   "source": [
    "## Parameters"
   ]
  },
  {
   "cell_type": "code",
   "execution_count": 5,
   "id": "d03f0d6e-e0e9-468f-8dd6-7dd2d38c4330",
   "metadata": {},
   "outputs": [],
   "source": [
    "mw_snapshot = '2022-08'  \n",
    "wiki_dbs = ('ptwiki', 'ruwiki', 'idwiki')\n",
    "wiki_db_str = \"('\" + \"','\".join(wiki_dbs) + \"')\"  # otherwise single wiki leads to confusing syntax errors\n",
    "wiki_db_list = list(wiki_dbs)\n",
    "\n",
    "#notification ts\n",
    "n_start_timestamp = 20220720000000\n",
    "n_end_timestamp = 20220901000000\n",
    "\n",
    "##edits ts\n",
    "start_timestamp = '2022-07-20' \n",
    "end_timestamp = '2022-09-01'\n",
    "\n",
    "media_list_table = 'cchen.media_jul_aug_2022'"
   ]
  },
  {
   "cell_type": "markdown",
   "id": "be098e44-cfb0-4c4c-a5b8-d0f0573b6d69",
   "metadata": {},
   "source": [
    "## Notification Data"
   ]
  },
  {
   "cell_type": "code",
   "execution_count": 6,
   "id": "5e7f29df-b6eb-4854-a1a6-40e982bfcd90",
   "metadata": {},
   "outputs": [],
   "source": [
    "notification_query = \"\"\"\n",
    "\n",
    "SELECT \n",
    "   notification_event,\n",
    "   notification_user,\n",
    "   notification_timestamp,\n",
    "   notification_read_timestamp,\n",
    "   event_extra,\n",
    "   event_page_id\n",
    "FROM echo_notification\n",
    "JOIN echo_event on event_id = notification_event\n",
    "WHERE notification_timestamp >= {start_timestamp}\n",
    "  AND notification_timestamp < {end_timestamp}\n",
    "  AND event_type = 'image-suggestions'\n",
    "\n",
    "\"\"\""
   ]
  },
  {
   "cell_type": "code",
   "execution_count": 7,
   "id": "e615e007-91ee-403d-9d91-e74d4d2cbcc8",
   "metadata": {},
   "outputs": [
    {
     "name": "stdout",
     "output_type": "stream",
     "text": [
      "getting data for ptwiki\n",
      "getting data for ruwiki\n",
      "getting data for idwiki\n"
     ]
    }
   ],
   "source": [
    "notification_data = pd.DataFrame()\n",
    "\n",
    "for i in range(len(wiki_db_list)):\n",
    "        \n",
    "    print('getting data for %s' % wiki_db_list[i])\n",
    "    \n",
    "    \n",
    "    noti_result = mariadb.run( \n",
    "        notification_query.format(\n",
    "            start_timestamp = n_start_timestamp,\n",
    "            end_timestamp = n_end_timestamp\n",
    "        ),wiki_db_list[i],'wikishared','pandas'\n",
    "    )\n",
    "    \n",
    "    noti_result.insert(0, 'wiki_db', wiki_db_list[i])\n",
    "    \n",
    "    notification_data = notification_data.append(noti_result)\n",
    "    "
   ]
  },
  {
   "cell_type": "code",
   "execution_count": 8,
   "id": "52c9f092-1f06-4cd0-b508-767c05631a01",
   "metadata": {},
   "outputs": [],
   "source": [
    "notification_data['event_extra'] = notification_data['event_extra'].astype(str)\n",
    "notification_data['suggested_image'] = notification_data['event_extra'].str.extract(r'(?<=File:)(.*)(?=\\\")')"
   ]
  },
  {
   "cell_type": "code",
   "execution_count": 9,
   "id": "214ed87b-9751-4d36-b596-d856451a7ad2",
   "metadata": {},
   "outputs": [],
   "source": [
    "# store in global temp view\n",
    "notification_sdf = spark_session.createDataFrame(notification_data)\n",
    "notification_sdf.createGlobalTempView(\"notification_data_temp\")"
   ]
  },
  {
   "cell_type": "markdown",
   "id": "bde7df18-9095-4eeb-a319-2fe7d96b182d",
   "metadata": {},
   "source": [
    "## Preference Data"
   ]
  },
  {
   "cell_type": "code",
   "execution_count": 21,
   "id": "d347e891-b43b-4527-a83a-eb5061359960",
   "metadata": {},
   "outputs": [],
   "source": [
    "pref_query = \"\"\"\n",
    "\n",
    "SELECT \n",
    "    up_property,\n",
    "    up_value,\n",
    "    up_user AS local_user_id\n",
    "FROM user_properties\n",
    "WHERE up_property like '%image_suggestions%'\n",
    "\n",
    "\"\"\""
   ]
  },
  {
   "cell_type": "code",
   "execution_count": 22,
   "id": "d2453827-b6a3-4136-8a38-88e8393c2dc2",
   "metadata": {},
   "outputs": [
    {
     "name": "stdout",
     "output_type": "stream",
     "text": [
      "getting data for ptwiki\n",
      "getting data for ruwiki\n",
      "getting data for idwiki\n"
     ]
    }
   ],
   "source": [
    "local_pref_data = pd.DataFrame()\n",
    "\n",
    "for i in range(len(wiki_db_list)):\n",
    "        \n",
    "    print('getting data for %s' % wiki_db_list[i])\n",
    "    \n",
    "    data = pd.DataFrame()\n",
    "    \n",
    "    pref_result = mariadb.run( \n",
    "        pref_query,wiki_db_list[i]\n",
    "    )\n",
    "    \n",
    "    pref_result.insert(0, 'wiki_db', wiki_db_list[i])\n",
    "    \n",
    "    local_pref_data = local_pref_data.append(pref_result)"
   ]
  },
  {
   "cell_type": "code",
   "execution_count": 23,
   "id": "15ca1c22-939f-40c1-9035-f6416e1d25e2",
   "metadata": {},
   "outputs": [],
   "source": [
    "## convert up_value to a string in order to store in GlobalTempView\n",
    "local_pref_data['up_value'] = local_pref_data['up_value'].astype(str)"
   ]
  },
  {
   "cell_type": "code",
   "execution_count": 24,
   "id": "0bcae12a-8b41-4fde-bac9-fd301a158fb9",
   "metadata": {},
   "outputs": [],
   "source": [
    "# store in global temp view\n",
    "local_pref_sdf = spark_session.createDataFrame(local_pref_data)\n",
    "local_pref_sdf.createGlobalTempView(\"local_pref_temp\")"
   ]
  },
  {
   "cell_type": "markdown",
   "id": "1cfc2ddd-b73f-42c3-8902-023883eb2743",
   "metadata": {},
   "source": [
    "We also need to get global preferences data, and compare it with local exception:"
   ]
  },
  {
   "cell_type": "code",
   "execution_count": 29,
   "id": "7b8e878e-1553-4490-89ad-2b5f019e2bca",
   "metadata": {},
   "outputs": [],
   "source": [
    "global_pref_query = \"\"\"\n",
    "\n",
    "SELECT\n",
    "    gp_user,\n",
    "    gp_property,\n",
    "    gp_value,\n",
    "    lu_wiki,\n",
    "    lu_local_id\n",
    "FROM global_preferences gp RIGHT JOIN localuser lu ON gp_user = lu_global_id\n",
    "WHERE gp_property LIKE '%image-suggestions%'\n",
    "  AND lu_wiki IN {wiki_db}\n",
    "  \n",
    "\"\"\""
   ]
  },
  {
   "cell_type": "code",
   "execution_count": 30,
   "id": "4ea8d1ff-62d5-4762-a4f2-c5edcd814b45",
   "metadata": {},
   "outputs": [],
   "source": [
    "global_pref_data = mariadb.run( \n",
    "        global_pref_query.format(\n",
    "          wiki_db = wiki_dbs\n",
    "        ),'centralauth','pandas'\n",
    "    )"
   ]
  },
  {
   "cell_type": "code",
   "execution_count": 31,
   "id": "43ead31c-c6bd-496a-9ccd-37b12f8b20b8",
   "metadata": {},
   "outputs": [],
   "source": [
    "## convert up_value to a string in order to store in GlobalTempView\n",
    "global_pref_data['gp_value'] = global_pref_data['gp_value'].astype(str)"
   ]
  },
  {
   "cell_type": "code",
   "execution_count": 32,
   "id": "98b97f73-23dd-41ed-9fcd-a4330fdafc05",
   "metadata": {},
   "outputs": [],
   "source": [
    "global_pref_sdf = spark_session.createDataFrame(global_pref_data)\n",
    "global_pref_sdf.createGlobalTempView(\"global_pref_temp\")"
   ]
  },
  {
   "cell_type": "markdown",
   "id": "15ae888c-cd56-4233-b724-e47407c31a4e",
   "metadata": {},
   "source": [
    "## Image Edits Data"
   ]
  },
  {
   "cell_type": "markdown",
   "id": "8de72b52-6cbd-40e0-a1ce-5c0b2d8835a9",
   "metadata": {},
   "source": [
    "We use method mentioned in this ticket [T299712](https://phabricator.wikimedia.org/T299712) to find the image edits and corresponding images. "
   ]
  },
  {
   "cell_type": "markdown",
   "id": "5d447aaa-4b1c-4349-9d3d-152e00341afb",
   "metadata": {},
   "source": [
    "### Utils for detecting image edits"
   ]
  },
  {
   "cell_type": "code",
   "execution_count": 12,
   "id": "41b758f8-e7be-4056-a477-a4bccbe7e299",
   "metadata": {},
   "outputs": [],
   "source": [
    "MEDIA_PREFIXES = ['File', 'Image', 'Media']\n",
    "\n",
    "MEDIA_ALIASES= {\n",
    "    \"ar\": [\"ميديا\", \"صورة\", \"وسائط\", \"ملف\"],\n",
    "    \"arc\": [\"ܠܦܦܐ\", \"ܡܝܕܝܐ\"],\n",
    "    \"arz\": [\"ميديا\", \"صورة\", \"وسائط\", \"ملف\"],\n",
    "    \"as\": [\"চিত্ৰ\", \"चित्र\", \"চিত্র\", \"মাধ্যম\"],\n",
    "    \"ast\": [\"Imaxen\", \"Ficheru\", \"Imaxe\", \"Archivu\", \"Imagen\", \"Medios\"],\n",
    "    \"atj\": [\"Tipatcimoctakewin\", \"Natisinahikaniwoc\"],\n",
    "    \"av\": [\"Медиа\", \"Файл\", \"Изображение\"],\n",
    "    \"ay\": [\"Medio\", \"Archivo\", \"Imagen\"],\n",
    "    \"az\": [\"Mediya\", \"Şəkil\", \"Fayl\"],\n",
    "    \"azb\": [\"رسانه\", \"تصویر\", \"مدیا\", \"فایل\", \"رسانه‌ای\"],\n",
    "    \"ba\": [\"Медиа\", \"Рәсем\", \"Файл\", \"Изображение\"],\n",
    "    \"bar\": [\"Medium\", \"Datei\", \"Bild\"],\n",
    "    \"bat-smg\": [\"Vaizdas\", \"Medėjė\", \"Abruozdielis\"],\n",
    "    \"bcl\": [\"Medio\", \"Ladawan\"],\n",
    "    \"be\": [\"Мультымедыя\", \"Файл\", \"Выява\"],\n",
    "    \"be-x-old\": [\"Мэдыя\", \"Файл\", \"Выява\"],\n",
    "    \"bg\": [\"Медия\", \"Файл\", \"Картинка\"],\n",
    "    \"bh\": [\"मीडिया\", \"चित्र\"],\n",
    "    \"bjn\": [\"Barakas\", \"Gambar\", \"Berkas\"],\n",
    "    \"bm\": [\"Média\", \"Fichier\"],\n",
    "    \"bn\": [\"চিত্র\", \"মিডিয়া\"],\n",
    "    \"bpy\": [\"ছবি\", \"মিডিয়া\"],\n",
    "    \"br\": [\"Skeudenn\", \"Restr\"],\n",
    "    \"bs\": [\"Mediji\", \"Slika\", \"Datoteka\", \"Medija\"],\n",
    "    \"bug\": [\"Gambar\", \"Berkas\"],\n",
    "    \"bxr\": [\"Файл\", \"Меди\", \"Изображение\"],\n",
    "    \"ca\": [\"Fitxer\", \"Imatge\"],\n",
    "    \"ce\": [\"Хlум\", \"Медиа\", \"Сурт\", \"Файл\", \"Медйа\", \"Изображение\"],\n",
    "    \"ceb\": [\"Payl\", \"Medya\", \"Imahen\"],\n",
    "    \"ch\": [\"Litratu\"],\n",
    "    \"ckb\": [\"میدیا\", \"پەڕگە\"],\n",
    "    \"co\": [\"Immagine\"],\n",
    "    \"crh\": [\"Медиа\", \"Resim\", \"Файл\", \"Fayl\", \"Ресим\"],\n",
    "    \"cs\": [\"Soubor\", \"Média\", \"Obrázok\"],\n",
    "    \"csb\": [\"Òbrôzk\", \"Grafika\"],\n",
    "    \"cu\": [\"Видъ\", \"Ви́дъ\", \"Дѣло\", \"Срѣдьства\"],\n",
    "    \"cv\": [\"Медиа\", \"Ӳкерчĕк\", \"Изображение\"],\n",
    "    \"cy\": [\"Delwedd\"],\n",
    "    \"da\": [\"Billede\", \"Fil\"],\n",
    "    \"de\": [\"Medium\", \"Datei\", \"Bild\"],\n",
    "    \"din\": [\"Ciɛl\", \"Apamduööt\"],\n",
    "    \"diq\": [\"Medya\", \"Dosya\"],\n",
    "    \"dsb\": [\"Wobraz\", \"Dataja\", \"Bild\", \"Medija\"],\n",
    "    \"dty\": [\"चित्र\", \"मिडिया\"],\n",
    "    \"dv\": [\"ފައިލު\", \"މީޑިއާ\", \"ފައިލް\"],\n",
    "    \"el\": [\"Εικόνα\", \"Αρχείο\", \"Μέσο\", \"Μέσον\"],\n",
    "    \"eml\": [\"Immagine\"],\n",
    "    \"eo\": [\"Dosiero\", \"Aŭdvidaĵo\"],\n",
    "    \"es\": [\"Medio\", \"Archivo\", \"Imagen\"],\n",
    "    \"et\": [\"Pilt\", \"Fail\", \"Meedia\"],\n",
    "    \"eu\": [\"Irudi\", \"Fitxategi\"],\n",
    "    \"ext\": [\"Archivu\", \"Imagen\", \"Mediu\"],\n",
    "    \"fa\": [\"رسانه\", \"تصویر\", \"مدیا\", \"پرونده\", \"رسانه‌ای\"],\n",
    "    \"ff\": [\"Média\", \"Fichier\"],\n",
    "    \"fi\": [\"Kuva\", \"Tiedosto\"],\n",
    "    \"fiu-vro\": [\"Pilt\", \"Meediä\"],\n",
    "    \"fo\": [\"Miðil\", \"Mynd\"],\n",
    "    \"fr\": [\"Média\", \"Fichier\"],\n",
    "    \"frp\": [\"Émâge\", \"Fichiér\", \"Mèdia\"],\n",
    "    \"frr\": [\"Medium\", \"Datei\", \"Bild\"],\n",
    "    \"fur\": [\"Immagine\", \"Figure\"],\n",
    "    \"fy\": [\"Ofbyld\"],\n",
    "    \"ga\": [\"Íomhá\", \"Meán\"],\n",
    "    \"gag\": [\"Mediya\", \"Medya\", \"Resim\", \"Dosya\", \"Dosye\"],\n",
    "    \"gan\": [\"媒体文件\", \"文件\", \"文檔\", \"档案\", \"媒體\", \"图像\", \"圖像\", \"媒体\", \"檔案\"],\n",
    "    \"gd\": [\"Faidhle\", \"Meadhan\"],\n",
    "    \"gl\": [\"Imaxe\", \"Ficheiro\", \"Arquivo\", \"Imagem\"],\n",
    "    \"glk\": [\"رسانه\", \"تصویر\", \"پرونده\", \"فاىل\", \"رسانه‌ای\", \"مديا\"],\n",
    "    \"gn\": [\"Medio\", \"Imagen\", \"Ta'ãnga\"],\n",
    "    \"gom\": [\"माध्यम\", \"मिडिया\", \"फायल\"],\n",
    "    \"gor\": [\"Gambar\", \"Berkas\"],\n",
    "    \"got\": [\"𐍆𐌴𐌹𐌻𐌰\"],\n",
    "    \"gu\": [\"દ્રશ્ય-શ્રાવ્ય (મિડિયા)\", \"દ્રશ્ય-શ્રાવ્ય_(મિડિયા)\", \"ચિત્ર\"],\n",
    "    \"gv\": [\"Coadan\", \"Meanyn\"],\n",
    "    \"hak\": [\"文件\", \"媒體\", \"圖像\", \"檔案\"],\n",
    "    \"haw\": [\"Kiʻi\", \"Waihona\", \"Pāpaho\"],\n",
    "    \"he\": [\"תמונה\", \"קו\", \"מדיה\", \"קובץ\"],\n",
    "    \"hi\": [\"मीडिया\", \"चित्र\"],\n",
    "    \"hif\": [\"file\", \"saadhan\"],\n",
    "    \"hr\": [\"Mediji\", \"DT\", \"Slika\", \"F\", \"Datoteka\"],\n",
    "    \"hsb\": [\"Wobraz\", \"Dataja\", \"Bild\"],\n",
    "    \"ht\": [\"Imaj\", \"Fichye\", \"Medya\"],\n",
    "    \"hu\": [\"Kép\", \"Fájl\", \"Média\"],\n",
    "    \"hy\": [\"Պատկեր\", \"Մեդիա\"],\n",
    "    \"ia\": [\"Imagine\", \"Multimedia\"],\n",
    "    \"id\": [\"Gambar\", \"Berkas\"],\n",
    "    \"ig\": [\"Nká\", \"Midia\", \"Usòrò\", \"Ákwúkwó orünotu\", \"Ákwúkwó_orünotu\"],\n",
    "    \"ii\": [\"媒体文件\", \"文件\", \"档案\", \"图像\", \"媒体\"],\n",
    "    \"ilo\": [\"Midia\", \"Papeles\"],\n",
    "    \"inh\": [\"Медиа\", \"Файл\", \"Изображение\"],\n",
    "    \"io\": [\"Imajo\", \"Arkivo\"],\n",
    "    \"is\": [\"Miðill\", \"Mynd\"],\n",
    "    \"it\": [\"Immagine\"],\n",
    "    \"ja\": [\"メディア\", \"ファイル\", \"画像\"],\n",
    "    \"jbo\": [\"velsku\", \"datnyvei\"],\n",
    "    \"jv\": [\"Barkas\", \"Medhia\", \"Gambar\", \"Médhia\"],\n",
    "    \"ka\": [\"მედია\", \"სურათი\", \"ფაილი\"],\n",
    "    \"kaa\": [\"Swret\", \"Таспа\", \"سۋرەت\", \"Taspa\", \"Su'wret\", \"Сурет\", \"تاسپا\"],\n",
    "    \"kab\": [\"Tugna\"],\n",
    "    \"kbd\": [\"Медиа\", \"Файл\"],\n",
    "    \"kbp\": [\"Média\", \"Fichier\"],\n",
    "    \"kg\": [\"Fisye\"],\n",
    "    \"kk\": [\"Swret\", \"سۋرەت\", \"Таспа\", \"Taspa\", \"Сурет\", \"تاسپا\"],\n",
    "    \"kl\": [\"Billede\", \"Fiileq\", \"Fil\"],\n",
    "    \"km\": [\"ឯកសារ\", \"រូបភាព\", \"មេឌា\", \"មីឌា\"],\n",
    "    \"kn\": [\"ಚಿತ್ರ\", \"ಮೀಡಿಯ\"],\n",
    "    \"ko\": [\"미디어\", \"파일\", \"그림\"],\n",
    "    \"koi\": [\"Медиа\", \"Файл\", \"Изображение\"],\n",
    "    \"krc\": [\"Медиа\", \"Файл\", \"Изображение\"],\n",
    "    \"ks\": [\"میڈیا\", \"فَیِل\"],\n",
    "    \"ksh\": [\"Beld\", \"Meedije\", \"Medie\", \"Belld\", \"Medium\", \"Datei\", \"Meedijum\", \"Bild\"],\n",
    "    \"ku\": [\"میدیا\", \"پەڕگە\", \"Medya\", \"Wêne\"],\n",
    "    \"kv\": [\"Медиа\", \"Файл\", \"Изображение\"],\n",
    "    \"kw\": [\"Restren\"],\n",
    "    \"ky\": [\"Медиа\", \"Файл\"],\n",
    "    \"la\": [\"Imago\", \"Fasciculus\"],\n",
    "    \"lad\": [\"Dossia\", \"Medya\", \"Archivo\", \"Dosya\", \"Imagen\", \"Meddia\"],\n",
    "    \"lb\": [\"Fichier\", \"Bild\"],\n",
    "    \"lbe\": [\"Медиа\", \"Сурат\", \"Изображение\"],\n",
    "    \"lez\": [\"Медиа\", \"Mediya\", \"Файл\", \"Şəkil\", \"Изображение\"],\n",
    "    \"lfn\": [\"Fix\"],\n",
    "    \"li\": [\"Afbeelding\", \"Plaetje\", \"Aafbeilding\"],\n",
    "    \"lij\": [\"Immaggine\", \"Immagine\"],\n",
    "    \"lmo\": [\"Immagine\", \"Imàjine\", \"Archivi\"],\n",
    "    \"ln\": [\"Média\", \"Fichier\"],\n",
    "    \"lo\": [\"ສື່ອ\", \"ສື່\", \"ຮູບ\"],\n",
    "    \"lrc\": [\"رسانه\", \"تصویر\", \"رسانه‌ای\", \"جانیا\", \"أسگ\", \"ڤارئسگأر\"],\n",
    "    \"lt\": [\"Vaizdas\", \"Medija\"],\n",
    "    \"ltg\": [\"Medeja\", \"Fails\"],\n",
    "    \"lv\": [\"Attēls\"],\n",
    "    \"mai\": [\"मेडिया\", \"फाइल\"],\n",
    "    \"map-bms\": [\"Barkas\", \"Medhia\", \"Gambar\", \"Médhia\"],\n",
    "    \"mdf\": [\"Медиа\", \"Няйф\", \"Изображение\"],\n",
    "    \"mg\": [\"Rakitra\", \"Sary\", \"Média\"],\n",
    "    \"mhr\": [\"Медиа\", \"Файл\", \"Изображение\"],\n",
    "    \"min\": [\"Gambar\", \"Berkas\"],\n",
    "    \"mk\": [\"Податотека\", \"Медија\", \"Медиум\", \"Слика\"],\n",
    "    \"ml\": [\"പ്രമാണം\", \"ചി\", \"മീഡിയ\", \"പ്ര\", \"ചിത്രം\"],\n",
    "    \"mn\": [\"Медиа\", \"Файл\", \"Зураг\"],\n",
    "    \"mr\": [\"चित्र\", \"मिडिया\"],\n",
    "    \"mrj\": [\"Медиа\", \"Файл\", \"Изображение\"],\n",
    "    \"ms\": [\"Fail\", \"Imej\"],\n",
    "    \"mt\": [\"Midja\", \"Medja\", \"Stampa\"],\n",
    "    \"mwl\": [\"Multimédia\", \"Fexeiro\", \"Ficheiro\", \"Arquivo\", \"Imagem\"],\n",
    "    \"my\": [\"ဖိုင်\", \"မီဒီယာ\"],\n",
    "    \"myv\": [\"Медия\", \"Артовкс\", \"Изображение\"],\n",
    "    \"mzn\": [\"رسانه\", \"تصویر\", \"مه‌دیا\", \"مدیا\", \"پرونده\", \"رسانه‌ای\"],\n",
    "    \"nah\": [\"Mēdiatl\", \"Īxiptli\", \"Imagen\"],\n",
    "    \"nap\": [\"Fiùra\", \"Immagine\"],\n",
    "    \"nds\": [\"Datei\", \"Bild\"],\n",
    "    \"nds-nl\": [\"Ofbeelding\", \"Afbeelding\", \"Bestaand\"],\n",
    "    \"ne\": [\"मीडिया\", \"चित्र\"],\n",
    "    \"new\": [\"किपा\", \"माध्यम\"],\n",
    "    \"nl\": [\"Bestand\", \"Afbeelding\"],\n",
    "    \"nn\": [\"Fil\", \"Bilde\", \"Filpeikar\"],\n",
    "    \"no\": [\"Fil\", \"Medium\", \"Bilde\"],\n",
    "    \"nov\": [],\n",
    "    \"nrm\": [\"Média\", \"Fichier\"],\n",
    "    \"nso\": [\"Seswantšho\"],\n",
    "    \"nv\": [\"Eʼelyaaígíí\"],\n",
    "    \"oc\": [\"Imatge\", \"Fichièr\", \"Mèdia\"],\n",
    "    \"olo\": [\"Kuva\", \"Medii\", \"Failu\"],\n",
    "    \"or\": [\"ମାଧ୍ୟମ\", \"ଫାଇଲ\"],\n",
    "    \"os\": [\"Ныв\", \"Медиа\", \"Файл\", \"Изображение\"],\n",
    "    \"pa\": [\"ਤਸਵੀਰ\", \"ਮੀਡੀਆ\"],\n",
    "    \"pcd\": [\"Média\", \"Fichier\"],\n",
    "    \"pdc\": [\"Medium\", \"Datei\", \"Bild\", \"Feil\"],\n",
    "    \"pfl\": [\"Dadai\", \"Medium\", \"Datei\", \"Bild\"],\n",
    "    \"pi\": [\"मीडिया\", \"पटिमा\"],\n",
    "    \"pl\": [\"Plik\", \"Grafika\"],\n",
    "    \"pms\": [\"Figura\", \"Immagine\"],\n",
    "    \"pnb\": [\"میڈیا\", \"تصویر\", \"فائل\"],\n",
    "    \"pnt\": [\"Εικόνα\", \"Αρχείον\", \"Εικόναν\", \"Μέσον\"],\n",
    "    \"ps\": [\"انځور\", \"رسنۍ\", \"دوتنه\"],\n",
    "    \"pt\": [\"Multimédia\", \"Ficheiro\", \"Arquivo\", \"Imagem\"],\n",
    "    \"qu\": [\"Midya\", \"Imagen\", \"Rikcha\"],\n",
    "    \"rm\": [\"Multimedia\", \"Datoteca\"],\n",
    "    \"rmy\": [\"Fişier\", \"Mediya\", \"Chitro\", \"Imagine\"],\n",
    "    \"ro\": [\"Fişier\", \"Imagine\", \"Fișier\"],\n",
    "    \"roa-rup\": [\"Fişier\", \"Imagine\", \"Fișier\"],\n",
    "    \"roa-tara\": [\"Immagine\"],\n",
    "    \"ru\": [\"Медиа\", \"Файл\", \"Изображение\"],\n",
    "    \"rue\": [\"Медіа\", \"Медиа\", \"Файл\", \"Изображение\", \"Зображення\"],\n",
    "    \"rw\": [\"Dosiye\", \"Itangazamakuru\"],\n",
    "    \"sa\": [\"चित्रम्\", \"माध्यमम्\", \"सञ्चिका\", \"माध्यम\", \"चित्रं\"],\n",
    "    \"sah\": [\"Миэдьийэ\", \"Ойуу\", \"Билэ\", \"Изображение\"],\n",
    "    \"sat\": [\"ᱨᱮᱫ\", \"ᱢᱤᱰᱤᱭᱟ\"],\n",
    "    \"sc\": [\"Immàgini\"],\n",
    "    \"scn\": [\"Immagine\", \"Mmàggini\", \"Mèdia\"],\n",
    "    \"sd\": [\"عڪس\", \"ذريعات\", \"فائل\"],\n",
    "    \"se\": [\"Fiila\"],\n",
    "    \"sg\": [\"Média\", \"Fichier\"],\n",
    "    \"sh\": [\"Mediji\", \"Slika\", \"Медија\", \"Datoteka\", \"Medija\", \"Слика\"],\n",
    "    \"si\": [\"රූපය\", \"මාධ්‍යය\", \"ගොනුව\"],\n",
    "    \"sk\": [\"Súbor\", \"Obrázok\", \"Médiá\"],\n",
    "    \"sl\": [\"Slika\", \"Datoteka\"],\n",
    "    \"sq\": [\"Figura\", \"Skeda\"],\n",
    "    \"sr\": [\"Датотека\", \"Medij\", \"Slika\", \"Медија\", \"Datoteka\", \"Медиј\", \"Medija\", \"Слика\"],\n",
    "    \"srn\": [\"Afbeelding\", \"Gefre\"],\n",
    "    \"stq\": [\"Bielde\", \"Bild\"],\n",
    "    \"su\": [\"Média\", \"Gambar\"],\n",
    "    \"sv\": [\"Fil\", \"Bild\"],\n",
    "    \"sw\": [\"Faili\", \"Picha\"],\n",
    "    \"szl\": [\"Plik\", \"Grafika\"],\n",
    "    \"ta\": [\"படிமம்\", \"ஊடகம்\"],\n",
    "    \"tcy\": [\"ಮಾದ್ಯಮೊ\", \"ಫೈಲ್\"],\n",
    "    \"te\": [\"ఫైలు\", \"దస్త్రం\", \"బొమ్మ\", \"మీడియా\"],\n",
    "    \"tet\": [\"Imajen\", \"Arquivo\", \"Imagem\"],\n",
    "    \"tg\": [\"Акс\", \"Медиа\"],\n",
    "    \"th\": [\"ไฟล์\", \"สื่อ\", \"ภาพ\"],\n",
    "    \"ti\": [\"ፋይል\", \"ሜድያ\"],\n",
    "    \"tk\": [\"Faýl\"],\n",
    "    \"tl\": [\"Midya\", \"Talaksan\"],\n",
    "    \"tpi\": [\"Fail\"],\n",
    "    \"tr\": [\"Medya\", \"Resim\", \"Dosya\", \"Ortam\"],\n",
    "    \"tt\": [\"Медиа\", \"Рәсем\", \"Файл\", \"Räsem\", \"Изображение\"],\n",
    "    \"ty\": [\"Média\", \"Fichier\"],\n",
    "    \"tyv\": [\"Медиа\", \"Файл\", \"Изображение\"],\n",
    "    \"udm\": [\"Медиа\", \"Файл\", \"Суред\", \"Изображение\"],\n",
    "    \"ug\": [\"ۋاسىتە\", \"ھۆججەت\"],\n",
    "    \"uk\": [\"Медіа\", \"Медиа\", \"Файл\", \"Изображение\", \"Зображення\"],\n",
    "    \"ur\": [\"میڈیا\", \"تصویر\", \"وسیط\", \"زریعہ\", \"فائل\", \"ملف\"],\n",
    "    \"uz\": [\"Mediya\", \"Tasvir\", \"Fayl\"],\n",
    "    \"vec\": [\"Immagine\", \"Imàjine\", \"Mèdia\"],\n",
    "    \"vep\": [\"Pilt\", \"Fail\"],\n",
    "    \"vi\": [\"Phương_tiện\", \"Tập_tin\", \"Hình\", \"Tập tin\", \"Phương tiện\"],\n",
    "    \"vls\": [\"Afbeelding\", \"Ofbeeldienge\"],\n",
    "}\n",
    "\n",
    "# https://commons.wikimedia.org/wiki/Commons:File_types\n",
    "IMAGE_EXTENSIONS = ['.jpg', '.jpeg', '.png', '.svg', '.gif','.tif', '.bmp', '.webp', '.xcf','.djvu', '.pdf']\n",
    "VIDEO_EXTENSIONS = ['.ogv', '.webm', '.mpg', '.mpeg']\n",
    "AUDIO_EXTENSIONS = ['.ogg', '.mp3', '.mid', '.webm', '.flac', '.wav', '.oga']\n",
    "MEDIA_EXTENSIONS = list(set(IMAGE_EXTENSIONS + VIDEO_EXTENSIONS + AUDIO_EXTENSIONS))"
   ]
  },
  {
   "cell_type": "code",
   "execution_count": 13,
   "id": "21967d05-5ee1-434e-ae8b-29256b29787d",
   "metadata": {},
   "outputs": [
    {
     "data": {
      "text/plain": [
       "<function __main__.getMedia(wikitext, wiki_db='enwiki', max_link_length=240)>"
      ]
     },
     "execution_count": 13,
     "metadata": {},
     "output_type": "execute_result"
    }
   ],
   "source": [
    "exten_regex = ('(' + '|'.join([e + '\\\\b' for e in MEDIA_EXTENSIONS]) + ')').replace('.', '\\.')\n",
    "extension_pattern = re.compile(f'([\\w ,\\(\\)\\.-]+){exten_regex}', flags=re.UNICODE)\n",
    "bracket_pattern = re.compile('(?<=\\[\\[)(.*?)(?=\\]\\])', flags=re.DOTALL)\n",
    "\n",
    "# NOTE: I explored several approaches to this function and how they impacted speed:\n",
    "# * mwparserfromhell parsing substantially increases processing time, even compared to many regexes\n",
    "# * Reducing down the number of extensions considered has a very minimal impact on time\n",
    "# * Removing the first regex that extracts links has a very minimal impact on time. In theory it should be mostly unnecessary but will catch some rare file extensions.\n",
    "# * Ignoring upper-case file extensions (e.g., .JPG) by not lower-casing the wikitext and just doing .findall over the iterative .search has very little impact on time\n",
    "\n",
    "def getMedia(wikitext, wiki_db='enwiki', max_link_length=240):\n",
    "    \"\"\"Gather counts of media files found directly in wikitext.\n",
    "    \n",
    "    See https://phabricator.wikimedia.org/T299712 for more details.\n",
    "    Link length: https://commons.wikimedia.org/wiki/Commons:File_naming#Length\n",
    "    \"\"\"\n",
    "    lang = wiki_db.replace('wiki', '')\n",
    "    try:\n",
    "        # find standard bracket-syntax links -- this likely could be dropped but adds minimal overhead\n",
    "        med_prefixes = MEDIA_PREFIXES + MEDIA_ALIASES.get(lang, [])\n",
    "        links = bracket_pattern.findall(wikitext)\n",
    "        bracket_links = set([l.split(':', maxsplit=1)[1].split('|', maxsplit=1)[0].strip() for l in links if l.split(':', maxsplit=1)[0] in med_prefixes])\n",
    "        \n",
    "        # supplement with links outside brackets as determined via known file extensions\n",
    "        # lower-case to handle e.g., .JPG instead of .jpg when searching for file extensions\n",
    "        lc_wt = wikitext.lower()\n",
    "        exten_links = []\n",
    "        end = 0\n",
    "        while True:\n",
    "            m = extension_pattern.search(lc_wt, pos=end)\n",
    "            if m is None:\n",
    "                break\n",
    "            start, end = m.span()\n",
    "            exten_links.append(wikitext[start:end].strip())\n",
    "        return [l.replace('\\n', ' ') for l in bracket_links.union(exten_links) if len(l) <= max_link_length]\n",
    "    except Exception:\n",
    "        return None\n",
    "    \n",
    "spark_session.udf.register('getMedia', getMedia, 'ARRAY<String>')"
   ]
  },
  {
   "cell_type": "code",
   "execution_count": 14,
   "id": "414b57f3-c5c2-4692-88f0-9fe7ec1c5c93",
   "metadata": {},
   "outputs": [
    {
     "data": {
      "text/plain": [
       "<function __main__.compareMediaLists(curr_media, prev_media)>"
      ]
     },
     "execution_count": 14,
     "metadata": {},
     "output_type": "execute_result"
    }
   ],
   "source": [
    "def compareMediaLists(curr_media, prev_media):\n",
    "    \"\"\"Compare two media lists to determine what changed.\"\"\"\n",
    "    try:\n",
    "        changes = []\n",
    "        unaligned = set(curr_media) ^ set(prev_media)\n",
    "        for m in unaligned:\n",
    "            if m in curr_media:\n",
    "                changes.append((m, 1))\n",
    "            elif m in prev_media:\n",
    "                changes.append((m, -1))\n",
    "        return changes\n",
    "    except Exception:\n",
    "        return None\n",
    "    \n",
    "spark_session.udf.register('compareMediaLists', compareMediaLists, 'ARRAY<STRUCT<filename:STRING, action:INT>>')"
   ]
  },
  {
   "cell_type": "markdown",
   "id": "68347b31-5a18-4d71-a44a-fe644a5dc8a9",
   "metadata": {},
   "source": [
    "#### Generate Media List for Image Edits"
   ]
  },
  {
   "cell_type": "code",
   "execution_count": 8,
   "id": "11cf864f-56fe-45de-b81e-cea47fbc69bb",
   "metadata": {},
   "outputs": [
    {
     "data": {
      "text/plain": [
       "DataFrame[]"
      ]
     },
     "execution_count": 8,
     "metadata": {},
     "output_type": "execute_result"
    }
   ],
   "source": [
    "create_table_query = f\"\"\"\n",
    "    CREATE TABLE IF NOT EXISTS {media_list_table} (\n",
    "        wiki_db                         STRING         COMMENT 'Wiki -- e.g., enwiki for English',\n",
    "        event_timestamp                 STRING         COMMENT 'When the edits occurred',\n",
    "        page_id                         INT            COMMENT 'Article page ID',\n",
    "        user_id                         INT         COMMENT 'User id of who made edit',\n",
    "        user_text                       STRING         COMMENT 'User name of who made edit',\n",
    "        revision_id                     BIGINT         COMMENT 'Revision ID',\n",
    "        revision_parent_id              BIGINT         COMMENT 'Revision ID of parent revision',\n",
    "        revision_is_identity_reverted   BOOLEAN        COMMENT 'Was revision reverted?',\n",
    "        revision_is_identity_revert     BOOLEAN        COMMENT 'Did revision restore a previous revision?',\n",
    "        revision_seconds_to_identity_revert    BIGINT        COMMENT 'seconds elapsed between revision posting and its revert',\n",
    "        revision_tags                   ARRAY<STRING>  COMMENT 'Edit tags associated with revision',\n",
    "        cur_rev_media_array             ARRAY<STRING>  COMMENT 'List of images in current revision',\n",
    "        par_rev_media_array             ARRAY<STRING>  COMMENT 'List of images in parent revision'\n",
    "    )\n",
    "    \"\"\"\n",
    "\n",
    "spark_session.sql(create_table_query)"
   ]
  },
  {
   "cell_type": "code",
   "execution_count": null,
   "id": "9ec514c8-7505-4b9d-a20b-7fd672780d62",
   "metadata": {},
   "outputs": [],
   "source": [
    "\"\"\"\n",
    "Explanation of CTEs:\n",
    "* revisions: get all revisions + metadata from desired wikis / timeframe.\n",
    "  * only main articles and filter out bots / anonymous users\n",
    "* all_revision_ids: build deduplicated lists of all revision + parent revision IDs\n",
    "* media_lists: for each revision ID, extract images from associated wikitext\n",
    "* INSERT OVERWRITE...: join back in media lists with revisions + metadata\n",
    "\n",
    "# TODO: are newlines in revision_text causing NULLs?\n",
    "\"\"\"\n",
    "\n",
    "query = f\"\"\"\n",
    "WITH revisions AS (\n",
    "    SELECT\n",
    "      wiki_db,\n",
    "      event_timestamp,\n",
    "      page_id,\n",
    "      event_user_id AS user_id,\n",
    "      event_user_text AS user_text,\n",
    "      revision_id,\n",
    "      revision_parent_id,\n",
    "      revision_is_identity_reverted,\n",
    "      revision_is_identity_revert,\n",
    "      revision_seconds_to_identity_revert,\n",
    "      revision_tags\n",
    "    FROM wmf.mediawiki_history\n",
    "    WHERE\n",
    "      snapshot = '{mw_snapshot}'\n",
    "      AND wiki_db IN {wiki_db_str}\n",
    "      AND page_namespace = 0\n",
    "      AND event_type = 'create'\n",
    "      AND event_entity = 'revision'\n",
    "      AND event_timestamp >= '{start_timestamp}'\n",
    "      AND event_timestamp < '{end_timestamp}'\n",
    "      AND SIZE(event_user_is_bot_by) < 1\n",
    "      AND SIZE(event_user_is_bot_by_historical) < 1\n",
    "      AND NOT event_user_is_anonymous\n",
    "      AND NOT page_is_redirect\n",
    "),\n",
    "all_revision_ids AS (\n",
    "    SELECT DISTINCT\n",
    "      wiki_db,\n",
    "      rev_id\n",
    "    FROM (\n",
    "        SELECT\n",
    "          wiki_db,\n",
    "          revision_id AS rev_id\n",
    "        FROM revisions\n",
    "        UNION ALL\n",
    "        SELECT\n",
    "          wiki_db,\n",
    "          revision_parent_id AS rev_id\n",
    "        FROM revisions\n",
    "    ) r\n",
    "),\n",
    "media_lists AS (\n",
    "    SELECT\n",
    "      r.wiki_db,\n",
    "      r.rev_id,\n",
    "      getMedia(revision_text, wt.wiki_db) AS media_array\n",
    "    FROM wmf.mediawiki_wikitext_history wt\n",
    "    INNER JOIN all_revision_ids r\n",
    "      ON (wt.wiki_db = r.wiki_db\n",
    "          AND wt.revision_id = r.rev_id)\n",
    "    WHERE\n",
    "      snapshot = '{mw_snapshot}'\n",
    "      AND wt.wiki_db IN {wiki_db_str}\n",
    ")\n",
    "\n",
    "INSERT INTO TABLE {media_list_table}     \n",
    "SELECT\n",
    "  r.wiki_db,\n",
    "  event_timestamp,\n",
    "  page_id,\n",
    "  user_id,\n",
    "  user_text,\n",
    "  revision_id,\n",
    "  revision_parent_id,\n",
    "  revision_is_identity_reverted,\n",
    "  revision_is_identity_revert,\n",
    "  revision_seconds_to_identity_revert,\n",
    "  revision_tags,\n",
    "  c.media_array AS cur_rev_media_array,\n",
    "  p.media_array AS par_rev_media_array\n",
    "FROM revisions r\n",
    "LEFT JOIN media_lists c\n",
    "  ON (r.wiki_db = c.wiki_db AND r.revision_id = c.rev_id)\n",
    "LEFT JOIN media_lists p\n",
    "  ON (r.wiki_db = p.wiki_db AND r.revision_parent_id = p.rev_id)\n",
    "\"\"\"\n",
    "\n",
    "if do_execute:\n",
    "    spark_session.sql(query)\n"
   ]
  },
  {
   "cell_type": "markdown",
   "id": "42f17c35-ced6-4f2f-9ac2-c2c9100a4adf",
   "metadata": {},
   "source": [
    "### Get image edits data and corresponding imgaes from media list"
   ]
  },
  {
   "cell_type": "code",
   "execution_count": 15,
   "id": "4d172fa2-6c16-41c0-bb82-eaa7be7f9fea",
   "metadata": {},
   "outputs": [],
   "source": [
    "image_edits_query = \"\"\"\n",
    "\n",
    "SELECT\n",
    "      m.wiki_db,\n",
    "      event_timestamp,\n",
    "      m.user_text,\n",
    "      m.user_id,\n",
    "      revision_id,\n",
    "      page_id,\n",
    "      revision_is_identity_reverted,\n",
    "      revision_is_identity_revert,\n",
    "      revision_seconds_to_identity_revert,\n",
    "      revision_tags,\n",
    "      u.user_editcount,\n",
    "      INLINE(compareMediaLists(cur_rev_media_array, par_rev_media_array)),\n",
    "      SIZE(par_rev_media_array) AS illustrated\n",
    "    FROM {media_list_table} m\n",
    "    LEFT JOIN wmf_raw.mediawiki_user u \n",
    "      ON (m.user_text = u.user_name AND m.wiki_db = u.wiki_db)\n",
    "    WHERE revision_id IS NOT NULL\n",
    "      AND m.wiki_db IN {wiki_db_str}\n",
    "      AND u.snapshot = '{mw_snapshot}'\n",
    "      \n",
    "\"\"\""
   ]
  },
  {
   "cell_type": "code",
   "execution_count": 16,
   "id": "723e9e42-c566-4880-8b4e-a941e0afe3bc",
   "metadata": {},
   "outputs": [
    {
     "name": "stderr",
     "output_type": "stream",
     "text": [
      "PySpark executors will use /usr/lib/anaconda-wmf/bin/python3.\n",
      "                                                                                \r"
     ]
    }
   ],
   "source": [
    "image_edits_data = spark.run( \n",
    "        image_edits_query.format(\n",
    "          media_list_table = media_list_table,\n",
    "          wiki_db_str = wiki_dbs,\n",
    "          mw_snapshot = mw_snapshot\n",
    "        )\n",
    "    )"
   ]
  },
  {
   "cell_type": "code",
   "execution_count": 17,
   "id": "23a30340-f9e6-4fec-ae6c-c2b8440bbdb1",
   "metadata": {},
   "outputs": [
    {
     "name": "stderr",
     "output_type": "stream",
     "text": [
      "22/10/05 07:36:53 WARN TransportChannelHandler: Exception in connection from /10.64.5.12:48584\n",
      "java.io.IOException: Connection reset by peer\n",
      "\tat sun.nio.ch.FileDispatcherImpl.read0(Native Method)\n",
      "\tat sun.nio.ch.SocketDispatcher.read(SocketDispatcher.java:39)\n",
      "\tat sun.nio.ch.IOUtil.readIntoNativeBuffer(IOUtil.java:223)\n",
      "\tat sun.nio.ch.IOUtil.read(IOUtil.java:192)\n",
      "\tat sun.nio.ch.SocketChannelImpl.read(SocketChannelImpl.java:379)\n",
      "\tat io.netty.buffer.PooledUnsafeDirectByteBuf.setBytes(PooledUnsafeDirectByteBuf.java:288)\n",
      "\tat io.netty.buffer.AbstractByteBuf.writeBytes(AbstractByteBuf.java:1106)\n",
      "\tat io.netty.channel.socket.nio.NioSocketChannel.doReadBytes(NioSocketChannel.java:343)\n",
      "\tat io.netty.channel.nio.AbstractNioByteChannel$NioByteUnsafe.read(AbstractNioByteChannel.java:123)\n",
      "\tat io.netty.channel.nio.NioEventLoop.processSelectedKey(NioEventLoop.java:645)\n",
      "\tat io.netty.channel.nio.NioEventLoop.processSelectedKeysOptimized(NioEventLoop.java:580)\n",
      "\tat io.netty.channel.nio.NioEventLoop.processSelectedKeys(NioEventLoop.java:497)\n",
      "\tat io.netty.channel.nio.NioEventLoop.run(NioEventLoop.java:459)\n",
      "\tat io.netty.util.concurrent.SingleThreadEventExecutor$5.run(SingleThreadEventExecutor.java:858)\n",
      "\tat io.netty.util.concurrent.DefaultThreadFactory$DefaultRunnableDecorator.run(DefaultThreadFactory.java:138)\n",
      "\tat java.lang.Thread.run(Thread.java:750)\n"
     ]
    }
   ],
   "source": [
    "image_edits_sdf = spark_session.createDataFrame(image_edits_data)\n",
    "image_edits_sdf.createGlobalTempView(\"image_edit_temp\")"
   ]
  },
  {
   "cell_type": "markdown",
   "id": "38f37a12-d379-47c5-a85c-6b25aa7e7f02",
   "metadata": {},
   "source": [
    "# Number of Notifications"
   ]
  },
  {
   "cell_type": "markdown",
   "id": "d2d1a698-159e-48d2-8429-e0665ed961d8",
   "metadata": {},
   "source": [
    "In `echo_notification` table, there are two types of timestamps: **notification_timestamp** and **notification_read_timestamp**. The first one is thetimestamp when the notification was created, the later on is the timestamp when the user read the notification (null if unread). For some of notifications, they may be read by users, but marked as unread. \n",
    "\n",
    "We want to take a look at both of the timestamps here, to see the number of notification sent and the number of notifications read by users. "
   ]
  },
  {
   "cell_type": "code",
   "execution_count": 16,
   "id": "34a938e4-8cbe-46e1-8427-cdfac91f1795",
   "metadata": {},
   "outputs": [],
   "source": [
    "daily_notification_query = \"\"\"\n",
    "\n",
    "SELECT \n",
    "   wiki_db,\n",
    "   FROM_UNIXTIME(UNIX_TIMESTAMP(SUBSTR(notification_timestamp,0,8), 'yyyyMMdd')) AS date,\n",
    "   COUNT(notification_event) AS notification_sent,\n",
    "   COUNT(notification_read_timestamp) AS notification_read\n",
    "FROM global_temp.notification_data_temp\n",
    "GROUP BY wiki_db, FROM_UNIXTIME(UNIX_TIMESTAMP(SUBSTR(notification_timestamp,0,8), 'yyyyMMdd'))\n",
    "   \n",
    "\"\"\""
   ]
  },
  {
   "cell_type": "code",
   "execution_count": 17,
   "id": "a6fe6ec3-b80d-4331-8014-ced9ba4a509a",
   "metadata": {},
   "outputs": [
    {
     "name": "stderr",
     "output_type": "stream",
     "text": [
      "PySpark executors will use /usr/lib/anaconda-wmf/bin/python3.\n",
      "[Stage 4:>                                                          (0 + 0) / 2]22/09/20 16:36:01 WARN TaskSetManager: Stage 4 contains a task of very large size (7559 KB). The maximum recommended task size is 100 KB.\n",
      "                                                                                \r"
     ]
    }
   ],
   "source": [
    "daily_notification = spark.run(daily_notification_query)"
   ]
  },
  {
   "cell_type": "code",
   "execution_count": 18,
   "id": "d623b0a9-5ed1-4901-99ad-6a45fda28925",
   "metadata": {},
   "outputs": [],
   "source": [
    "notification_stats = daily_notification.groupby('wiki_db').agg(\n",
    "     notification_sent = ('notification_sent', 'sum'),\n",
    "     notification_read = ('notification_read', 'sum')\n",
    ").reset_index()"
   ]
  },
  {
   "cell_type": "code",
   "execution_count": 19,
   "id": "b2237cdb-af05-4179-aa2e-eb719a1017c3",
   "metadata": {},
   "outputs": [],
   "source": [
    "notification_stats['read_pct'] = 100 * notification_stats['notification_read']/notification_stats['notification_sent']"
   ]
  },
  {
   "cell_type": "markdown",
   "id": "8f45a47b-c158-445d-b7b1-b0b9663a1d8a",
   "metadata": {},
   "source": [
    "Total notifications sent and read during 2022-07-20 to 2022-08-31 is as below. Less than 30% of the notifications sent was read. "
   ]
  },
  {
   "cell_type": "code",
   "execution_count": 20,
   "id": "1b49a306-9775-4ea9-a77b-81a0ff307e38",
   "metadata": {},
   "outputs": [
    {
     "data": {
      "text/html": [
       "<div>\n",
       "<style scoped>\n",
       "    .dataframe tbody tr th:only-of-type {\n",
       "        vertical-align: middle;\n",
       "    }\n",
       "\n",
       "    .dataframe tbody tr th {\n",
       "        vertical-align: top;\n",
       "    }\n",
       "\n",
       "    .dataframe thead th {\n",
       "        text-align: right;\n",
       "    }\n",
       "</style>\n",
       "<table border=\"1\" class=\"dataframe\">\n",
       "  <thead>\n",
       "    <tr style=\"text-align: right;\">\n",
       "      <th></th>\n",
       "      <th>wiki_db</th>\n",
       "      <th>notification_sent</th>\n",
       "      <th>notification_read</th>\n",
       "      <th>read_pct</th>\n",
       "    </tr>\n",
       "  </thead>\n",
       "  <tbody>\n",
       "    <tr>\n",
       "      <th>0</th>\n",
       "      <td>idwiki</td>\n",
       "      <td>5913</td>\n",
       "      <td>1674</td>\n",
       "      <td>28.310502</td>\n",
       "    </tr>\n",
       "    <tr>\n",
       "      <th>1</th>\n",
       "      <td>ptwiki</td>\n",
       "      <td>18988</td>\n",
       "      <td>4329</td>\n",
       "      <td>22.798610</td>\n",
       "    </tr>\n",
       "    <tr>\n",
       "      <th>2</th>\n",
       "      <td>ruwiki</td>\n",
       "      <td>45264</td>\n",
       "      <td>13376</td>\n",
       "      <td>29.551078</td>\n",
       "    </tr>\n",
       "  </tbody>\n",
       "</table>\n",
       "</div>"
      ],
      "text/plain": [
       "  wiki_db  notification_sent  notification_read   read_pct\n",
       "0  idwiki               5913               1674  28.310502\n",
       "1  ptwiki              18988               4329  22.798610\n",
       "2  ruwiki              45264              13376  29.551078"
      ]
     },
     "execution_count": 20,
     "metadata": {},
     "output_type": "execute_result"
    }
   ],
   "source": [
    "notification_stats"
   ]
  },
  {
   "cell_type": "markdown",
   "id": "59880132-da86-4411-8b04-3ebc5aaa4ee1",
   "metadata": {},
   "source": [
    "# Number of opt-outs"
   ]
  },
  {
   "cell_type": "markdown",
   "id": "e5879f92-182e-4eac-bcbf-6c32657655c2",
   "metadata": {},
   "source": [
    "For image suggestion notification, by default, we set web notification and push notification on and email notification off. To look for opt_outs we will take a look at how many users turn off `echo-subscriptions-<type>-image-suggestions` for web and app in `user_preferences` table for each wikis. \n",
    "\n",
    "We also need to check users' global preference settings. In addition, compare the global preferences with `echo-subscriptions-<type>-image-suggestions-local-exception`. If there's a local exception, it will over-write the global preferences. \n",
    "\n",
    "Opt-out Rate = Number of opt-outs / Number of users who received image suggestion notifications"
   ]
  },
  {
   "cell_type": "code",
   "execution_count": 25,
   "id": "f48a58e4-a078-4f0e-862f-2f5c57a2d344",
   "metadata": {},
   "outputs": [],
   "source": [
    "pref_type_list = (\"push\", \"web\")"
   ]
  },
  {
   "cell_type": "code",
   "execution_count": 26,
   "id": "56a20557-d03b-4c3a-a2ad-e673e69e806b",
   "metadata": {},
   "outputs": [],
   "source": [
    "pref_query = \"\"\"\n",
    "\n",
    "WITH noti_users AS ( --total notification users\n",
    "\n",
    "SELECT \n",
    "    wiki_db,\n",
    "    notification_user\n",
    "FROM global_temp.notification_data_temp\n",
    "GROUP BY wiki_db, notification_user\n",
    "\n",
    "), local_pref AS ( -- local preference \n",
    "\n",
    "SELECT\n",
    "    wiki_db,\n",
    "    local_user_id,\n",
    "    up_value AS local_pref\n",
    "FROM global_temp.local_pref_temp\n",
    "WHERE up_property = \"echo-subscriptions-{type}-image-suggestions\"\n",
    "\n",
    "), global_pref AS ( -- global preference\n",
    "\n",
    "SELECT\n",
    "    lu_wiki,\n",
    "    lu_local_id,\n",
    "    gp_value AS global_pref\n",
    "FROM global_temp.global_pref_temp\n",
    "WHERE gp_property  = \"echo-subscriptions-{type}-image-suggestions\"\n",
    "\n",
    "), local_ex AS ( -- local exceptions\n",
    "\n",
    "SELECT\n",
    "    wiki_db,\n",
    "    local_user_id,\n",
    "    up_value AS local_ex   \n",
    "FROM global_temp.local_pref_temp\n",
    "WHERE up_property = \"echo-subscriptions-{type}-image-suggestions-local-exception\"\n",
    "\n",
    "), global_all_pref AS ( -- compare local exception and global preference\n",
    "\n",
    "SELECT \n",
    "    COALESCE(lu_wiki,wiki_db) AS wiki,\n",
    "    COALESCE(lu_local_id,local_user_id) AS user_id,\n",
    "    COALESCE(local_ex,global_pref) AS all_pref\n",
    "FROM global_pref gp FULL OUTER JOIN local_ex le ON (gp.lu_wiki = le.wiki_db AND gp.lu_local_id = le.local_user_id)\n",
    "\n",
    ")\n",
    "\n",
    "SELECT \n",
    "    nu.wiki_db,\n",
    "    nu.notification_user,\n",
    "    COALESCE(gp.all_pref, lp.local_pref) AS preference\n",
    "FROM noti_users nu \n",
    "    LEFT JOIN local_pref lp ON (nu.wiki_db = lp.wiki_db AND nu.notification_user = lp.local_user_id)\n",
    "    LEFT JOIN global_all_pref gp ON (nu.wiki_db = gp.wiki AND nu.notification_user = gp.user_id)\n",
    "\n",
    "\"\"\""
   ]
  },
  {
   "cell_type": "code",
   "execution_count": 33,
   "id": "3514eb78-0f2e-4fc1-9322-39b6a4b7dae8",
   "metadata": {},
   "outputs": [
    {
     "name": "stderr",
     "output_type": "stream",
     "text": [
      "PySpark executors will use /usr/lib/anaconda-wmf/bin/python3.\n",
      "[Stage 6:>    (0 + 0) / 2][Stage 7:>    (0 + 0) / 2][Stage 8:>    (0 + 0) / 2]22/09/20 16:39:24 WARN TaskSetManager: Stage 6 contains a task of very large size (7559 KB). The maximum recommended task size is 100 KB.\n",
      "PySpark executors will use /usr/lib/anaconda-wmf/bin/python3.                   \n",
      "22/09/20 16:39:31 WARN TaskSetManager: Stage 13 contains a task of very large size (7559 KB). The maximum recommended task size is 100 KB.\n",
      "                                                                                \r"
     ]
    }
   ],
   "source": [
    "pref_stats = pd.DataFrame()\n",
    "\n",
    "for i in range(len(pref_type_list)):\n",
    "               \n",
    "    pref_result = spark.run(pref_query.format(\n",
    "                           type = pref_type_list[i]\n",
    "                        ))\n",
    "    \n",
    "    pref_result.insert(0, 'type', pref_type_list[i])\n",
    "    \n",
    "    pref_stats = pref_stats.append(pref_result)\n"
   ]
  },
  {
   "cell_type": "code",
   "execution_count": 38,
   "id": "33b20b7a-ad14-478f-be08-7f9f8634769c",
   "metadata": {},
   "outputs": [],
   "source": [
    "## total number of users received notifications\n",
    "total_users = pref_stats[(pref_stats['type'] == \"web\")].groupby(\n",
    "    ['wiki_db']\n",
    ").agg(\n",
    "    total_users = ('notification_user', 'count')\n",
    ").reset_index()"
   ]
  },
  {
   "cell_type": "code",
   "execution_count": 40,
   "id": "3e344d72-7e1a-4adb-99b6-1e41a6339e6d",
   "metadata": {},
   "outputs": [],
   "source": [
    "## opt-out for push notifications and web notifications\n",
    "pref = pref_stats.groupby(\n",
    "    ['wiki_db','type', 'preference']\n",
    ").agg(\n",
    "    optout_users = ('preference', 'count')\n",
    ").reset_index()\n",
    "\n",
    "pref = pref.merge(total_users, on='wiki_db', how='left')"
   ]
  },
  {
   "cell_type": "code",
   "execution_count": 41,
   "id": "b71bf187-550f-441a-8710-39eb4c6e4667",
   "metadata": {},
   "outputs": [
    {
     "data": {
      "text/html": [
       "<div>\n",
       "<style scoped>\n",
       "    .dataframe tbody tr th:only-of-type {\n",
       "        vertical-align: middle;\n",
       "    }\n",
       "\n",
       "    .dataframe tbody tr th {\n",
       "        vertical-align: top;\n",
       "    }\n",
       "\n",
       "    .dataframe thead th {\n",
       "        text-align: right;\n",
       "    }\n",
       "</style>\n",
       "<table border=\"1\" class=\"dataframe\">\n",
       "  <thead>\n",
       "    <tr style=\"text-align: right;\">\n",
       "      <th></th>\n",
       "      <th>wiki_db</th>\n",
       "      <th>type</th>\n",
       "      <th>preference</th>\n",
       "      <th>optout_users</th>\n",
       "      <th>total_users</th>\n",
       "      <th>opt_out_pct</th>\n",
       "    </tr>\n",
       "  </thead>\n",
       "  <tbody>\n",
       "    <tr>\n",
       "      <th>0</th>\n",
       "      <td>idwiki</td>\n",
       "      <td>push</td>\n",
       "      <td>b'0'</td>\n",
       "      <td>9</td>\n",
       "      <td>802</td>\n",
       "      <td>1.122195</td>\n",
       "    </tr>\n",
       "    <tr>\n",
       "      <th>2</th>\n",
       "      <td>idwiki</td>\n",
       "      <td>web</td>\n",
       "      <td>b'0'</td>\n",
       "      <td>10</td>\n",
       "      <td>802</td>\n",
       "      <td>1.246883</td>\n",
       "    </tr>\n",
       "    <tr>\n",
       "      <th>4</th>\n",
       "      <td>ptwiki</td>\n",
       "      <td>push</td>\n",
       "      <td>b'0'</td>\n",
       "      <td>20</td>\n",
       "      <td>2516</td>\n",
       "      <td>0.794913</td>\n",
       "    </tr>\n",
       "    <tr>\n",
       "      <th>6</th>\n",
       "      <td>ptwiki</td>\n",
       "      <td>web</td>\n",
       "      <td>b'0'</td>\n",
       "      <td>23</td>\n",
       "      <td>2516</td>\n",
       "      <td>0.914149</td>\n",
       "    </tr>\n",
       "    <tr>\n",
       "      <th>8</th>\n",
       "      <td>ruwiki</td>\n",
       "      <td>push</td>\n",
       "      <td>b'0'</td>\n",
       "      <td>106</td>\n",
       "      <td>6010</td>\n",
       "      <td>1.763727</td>\n",
       "    </tr>\n",
       "    <tr>\n",
       "      <th>10</th>\n",
       "      <td>ruwiki</td>\n",
       "      <td>web</td>\n",
       "      <td>b'0'</td>\n",
       "      <td>112</td>\n",
       "      <td>6010</td>\n",
       "      <td>1.863561</td>\n",
       "    </tr>\n",
       "  </tbody>\n",
       "</table>\n",
       "</div>"
      ],
      "text/plain": [
       "   wiki_db  type preference  optout_users  total_users  opt_out_pct\n",
       "0   idwiki  push       b'0'             9          802     1.122195\n",
       "2   idwiki   web       b'0'            10          802     1.246883\n",
       "4   ptwiki  push       b'0'            20         2516     0.794913\n",
       "6   ptwiki   web       b'0'            23         2516     0.914149\n",
       "8   ruwiki  push       b'0'           106         6010     1.763727\n",
       "10  ruwiki   web       b'0'           112         6010     1.863561"
      ]
     },
     "execution_count": 41,
     "metadata": {},
     "output_type": "execute_result"
    }
   ],
   "source": [
    "pref['opt_out_pct'] = 100 * pref['optout_users']/pref['total_users']\n",
    "pref[(pref['preference'] == \"b'0'\")]"
   ]
  },
  {
   "cell_type": "markdown",
   "id": "204857b1-392c-4504-b719-ae44d99dea20",
   "metadata": {},
   "source": [
    "# Number of Images Added by Users in August"
   ]
  },
  {
   "cell_type": "code",
   "execution_count": 14,
   "id": "1c7e3e88-e599-41a2-bf61-a9766fcf490e",
   "metadata": {},
   "outputs": [
    {
     "name": "stderr",
     "output_type": "stream",
     "text": [
      "                                                                                \r"
     ]
    },
    {
     "name": "stdout",
     "output_type": "stream",
     "text": [
      "+-------+---------+---------------+---------+-----------+-----------------+-----------+------------+--------------+\n",
      "|wiki_db|num_edits|total_num_edits|pct_edits|num_editors|total_num_editors|pct_editors|images_added|average_images|\n",
      "+-------+---------+---------------+---------+-----------+-----------------+-----------+------------+--------------+\n",
      "|ptwiki |6891     |91356          |7.543    |1346       |6063             |22.2       |9264        |1.5           |\n",
      "|idwiki |4853     |60324          |8.045    |737        |2510             |29.363     |7203        |2.9           |\n",
      "|ruwiki |15035    |265604         |5.661    |2152       |8271             |26.019     |22005       |2.7           |\n",
      "+-------+---------+---------------+---------+-----------+-----------------+-----------+------------+--------------+\n",
      "\n"
     ]
    }
   ],
   "source": [
    "#stats on all editors in August\n",
    "#excluding all the edits reverted within 48 hours\n",
    "\n",
    "do_execute = True\n",
    "\n",
    "query = f\"\"\"\n",
    "WITH num_edits AS (\n",
    "    SELECT\n",
    "      wiki_db,\n",
    "      COUNT(1) AS total_num_edits,\n",
    "      COUNT(DISTINCT(user_text)) AS total_num_editors\n",
    "    FROM {media_list_table}\n",
    "    WHERE\n",
    "      revision_id IS NOT NULL\n",
    "    AND event_timestamp >= '2022-08-01'\n",
    "    AND event_timestamp < '2022-09-01'\n",
    "    AND !(revision_is_identity_reverted AND revision_seconds_to_identity_revert <= 172800)\n",
    "    AND ! revision_is_identity_revert\n",
    "    GROUP BY\n",
    "      wiki_db\n",
    "),\n",
    "changes AS (\n",
    "    SELECT\n",
    "      *\n",
    "    FROM global_temp.image_edit_temp\n",
    "    WHERE\n",
    "      revision_id IS NOT NULL\n",
    "    AND event_timestamp >= '2022-08-01'\n",
    "    AND event_timestamp < '2022-09-01'\n",
    "    AND !(revision_is_identity_reverted AND revision_seconds_to_identity_revert <= 172800)\n",
    "    AND ! revision_is_identity_revert\n",
    "),\n",
    "change_counts AS (\n",
    "    SELECT\n",
    "      wiki_db,\n",
    "      COUNT(DISTINCT(revision_id)) AS num_edits,\n",
    "      COUNT(DISTINCT(user_text)) AS num_editors,\n",
    "      SUM(IF(action = 1, 1, 0)) AS images_added\n",
    "    FROM changes\n",
    "    GROUP BY\n",
    "      wiki_db\n",
    ")\n",
    "\n",
    "SELECT\n",
    "  c.wiki_db,\n",
    "  num_edits,\n",
    "  total_num_edits,\n",
    "  ROUND(100 * num_edits / total_num_edits, 3) AS pct_edits,\n",
    "  num_editors,\n",
    "  total_num_editors,\n",
    "  ROUND(100 * num_editors / total_num_editors, 3) AS pct_editors,\n",
    "  images_added,\n",
    "  ROUND(images_added / total_num_editors,1) AS average_images\n",
    "FROM change_counts c\n",
    "INNER JOIN num_edits t\n",
    "  ON (c.wiki_db = t.wiki_db)\n",
    "\"\"\"\n",
    "\n",
    "if do_execute:\n",
    "    spark_session.sql(query).show(500, False)"
   ]
  },
  {
   "cell_type": "code",
   "execution_count": null,
   "id": "3f1cf81a-72bf-4079-812a-c1063563f45d",
   "metadata": {},
   "outputs": [
    {
     "name": "stderr",
     "output_type": "stream",
     "text": [
      "                                                                                ]\r"
     ]
    },
    {
     "name": "stdout",
     "output_type": "stream",
     "text": [
      "+-------+---------+---------------+---------+-----------+-----------------+-----------+------------+--------------+\n",
      "|wiki_db|num_edits|total_num_edits|pct_edits|num_editors|total_num_editors|pct_editors|images_added|average_images|\n",
      "+-------+---------+---------------+---------+-----------+-----------------+-----------+------------+--------------+\n",
      "|ptwiki |4572     |68128          |6.711    |473        |957              |49.425     |6318        |6.6           |\n",
      "|idwiki |3083     |43252          |7.128    |230        |386              |59.585     |4619        |12.0          |\n",
      "|ruwiki |11926    |231313         |5.156    |1099       |2392             |45.945     |17895       |7.5           |\n",
      "+-------+---------+---------------+---------+-----------+-----------------+-----------+------------+--------------+\n",
      "\n"
     ]
    }
   ],
   "source": [
    "#Stats on edits made by editors who made over 500 edits \n",
    "#editors who made over 500 edits as ex_editors\n",
    "#excluding all the edits reverted within 48 hours\n",
    "\n",
    "do_execute = True\n",
    "\n",
    "query = f\"\"\"\n",
    "WITH num_edits AS (\n",
    "    SELECT\n",
    "      a.wiki_db,\n",
    "      COUNT(1) AS total_num_edits,\n",
    "      COUNT(DISTINCT(user_text)) AS total_num_editors\n",
    "    FROM {media_list_table} a\n",
    "        LEFT JOIN wmf_raw.mediawiki_user u ON (a.user_text = u.user_name AND a.wiki_db = u.wiki_db)\n",
    "    WHERE\n",
    "      revision_id IS NOT NULL\n",
    "    AND a.wiki_db in {wiki_db_str}\n",
    "    AND u.snapshot = '{mw_snapshot}'\n",
    "    AND event_timestamp >= '2022-08-01'\n",
    "    AND event_timestamp < '2022-09-01'\n",
    "    AND !(revision_is_identity_reverted AND revision_seconds_to_identity_revert <= 172800)\n",
    "    AND ! revision_is_identity_revert\n",
    "    AND user_editcount > 500\n",
    "    GROUP BY\n",
    "      a.wiki_db\n",
    "),\n",
    "changes AS (\n",
    "    SELECT\n",
    "      *\n",
    "    FROM global_temp.image_edit_temp \n",
    "    WHERE revision_id IS NOT NULL\n",
    "    AND event_timestamp >= '2022-08-01'\n",
    "    AND event_timestamp < '2022-09-01'   \n",
    "    AND !(revision_is_identity_reverted AND revision_seconds_to_identity_revert <= 172800)\n",
    "    AND ! revision_is_identity_revert\n",
    "    AND user_editcount > 500\n",
    "),\n",
    "change_counts AS (\n",
    "    SELECT\n",
    "      wiki_db,\n",
    "      COUNT(DISTINCT(revision_id)) AS num_edits,\n",
    "      COUNT(DISTINCT(user_text)) AS num_editors,\n",
    "      SUM(IF(action = 1, 1, 0)) AS images_added\n",
    "    FROM changes\n",
    "    GROUP BY\n",
    "      wiki_db\n",
    ")\n",
    "\n",
    "SELECT\n",
    "  c.wiki_db,\n",
    "  num_edits,\n",
    "  total_num_edits,\n",
    "  ROUND(100 * num_edits / total_num_edits, 3) AS pct_edits,\n",
    "  num_editors,\n",
    "  total_num_editors,\n",
    "  ROUND(100 * num_editors / total_num_editors, 3) AS pct_editors,\n",
    "  images_added,\n",
    "  ROUND(images_added / total_num_editors,1) AS average_images\n",
    "FROM change_counts c\n",
    "INNER JOIN num_edits t\n",
    "  ON (c.wiki_db = t.wiki_db)\n",
    "\"\"\"\n",
    "\n",
    "if do_execute:\n",
    "    spark_session.sql(query).show(500, False)"
   ]
  },
  {
   "cell_type": "markdown",
   "id": "d6e077d8-a537-42a3-b5cc-77d7e65cebe2",
   "metadata": {},
   "source": [
    "# Number of image added to unillustrated articles by experienced editors in August"
   ]
  },
  {
   "cell_type": "code",
   "execution_count": 21,
   "id": "9114ad1e-27a3-4b6d-8e4b-942db34c72b0",
   "metadata": {},
   "outputs": [],
   "source": [
    "image_edits_query = \"\"\"\n",
    "\n",
    "WITH aug_image_edits AS (\n",
    "    \n",
    "    SELECT\n",
    "      m.wiki_db,\n",
    "      m.user_text,\n",
    "      revision_id,\n",
    "      revision_is_identity_reverted,\n",
    "      revision_seconds_to_identity_revert,\n",
    "      INLINE(compareMediaLists(cur_rev_media_array, par_rev_media_array)),\n",
    "      size(par_rev_media_array) AS illustrated\n",
    "    FROM {media_list_table} m\n",
    "    LEFT JOIN wmf_raw.mediawiki_user u ON (m.user_text = u.user_name AND m.wiki_db = u.wiki_db)\n",
    "    WHERE revision_id IS NOT NULL\n",
    "    AND m.wiki_db in {wiki_db_str}\n",
    "    AND u.snapshot = '2022-08'\n",
    "    AND ! revision_is_identity_revert\n",
    "    AND user_editcount > 500\n",
    ")\n",
    "\n",
    "\n",
    "    SELECT\n",
    "      wiki_db,\n",
    "      COUNT(DISTINCT(revision_id)) AS num_edits,\n",
    "      COUNT(DISTINCT(user_text)) AS num_editors,\n",
    "      SUM(IF(action = 1, 1, 0)) AS images_added\n",
    "    FROM aug_image_edits\n",
    "    WHERE illustrated = 0\n",
    "      AND  !(revision_is_identity_reverted AND revision_seconds_to_identity_revert <= 172800)\n",
    "    GROUP BY\n",
    "      wiki_db\n",
    "    \n",
    "\"\"\""
   ]
  },
  {
   "cell_type": "code",
   "execution_count": null,
   "id": "36c57420-04db-41cf-af51-08042c3f622e",
   "metadata": {},
   "outputs": [],
   "source": [
    "spark.run(image_edits_query )"
   ]
  },
  {
   "cell_type": "markdown",
   "id": "aa9bc63c-1171-47b7-80d2-600e91d8c5a2",
   "metadata": {},
   "source": [
    "# Number of Images Suggested that are Added to the Matched Article"
   ]
  },
  {
   "cell_type": "markdown",
   "id": "b1e71e18-4854-434c-8334-c340d86f7f41",
   "metadata": {},
   "source": [
    "To find the image edits to the matched articles, we are looking for image edits timestamp after notification read timestamp. We also want to exclude image edits from Newcomer Tasks."
   ]
  },
  {
   "cell_type": "code",
   "execution_count": 47,
   "id": "c47eaab9-73c0-42c1-8081-2755e35ea521",
   "metadata": {},
   "outputs": [],
   "source": [
    "match_image_query = \"\"\"\n",
    "\n",
    "WITH image_edits AS (\n",
    "    SELECT\n",
    "        wiki_db,\n",
    "        event_timestamp,\n",
    "        revision_id,\n",
    "        page_id,\n",
    "        user_id,\n",
    "        revision_is_identity_reverted,\n",
    "        revision_seconds_to_identity_revert,\n",
    "        REPLACE(filename, ' ', '_') AS filename\n",
    "    FROM global_temp.image_edit_temp\n",
    "    WHERE action = 1\n",
    "      AND ! revision_is_identity_revert\n",
    "      AND ! ARRAY_CONTAINS(revision_tags, 'newcomer task')\n",
    "), \n",
    "suggested_images AS (\n",
    "    SELECT\n",
    "        wiki_db,\n",
    "        notification_event,\n",
    "        FROM_UNIXTIME(UNIX_TIMESTAMP(notification_timestamp, 'yyyyMMddHHmmss')) AS notification_timestamp,\n",
    "        IFNULL(NULL, FROM_UNIXTIME(UNIX_TIMESTAMP(notification_read_timestamp, 'yyyyMMddHHmmss'))) AS notification_read_timestamp,\n",
    "        event_page_id,\n",
    "        notification_user,\n",
    "        suggested_image\n",
    "    FROM global_temp.notification_data_temp\n",
    ")\n",
    "\n",
    "SELECT \n",
    "    i.wiki_db,\n",
    "    revision_id,\n",
    "    page_id,\n",
    "    user_id,\n",
    "    filename,\n",
    "    IF(revision_is_identity_reverted AND revision_seconds_to_identity_revert <= 172800, TRUE, FALSE) AS reverted\n",
    "FROM image_edits i\n",
    "LEFT JOIN suggested_images s \n",
    "    ON (i.wiki_db = s.wiki_db AND i.page_id = s.event_page_id AND i.user_id = s.notification_user AND i.filename = s.suggested_image)\n",
    "WHERE notification_event IS NOT NULL\n",
    "  AND notification_read_timestamp IS NOT NULL\n",
    "  AND notification_read_timestamp < event_timestamp \n",
    "\n",
    "\"\"\"\n"
   ]
  },
  {
   "cell_type": "code",
   "execution_count": null,
   "id": "2fcda9e2-68e2-4897-b8f3-f7870731e966",
   "metadata": {},
   "outputs": [],
   "source": [
    "matched_image = spark.run(match_image_query)"
   ]
  },
  {
   "cell_type": "code",
   "execution_count": 49,
   "id": "9e8d1bca-b496-4bff-9a61-4f162a7878f8",
   "metadata": {},
   "outputs": [
    {
     "data": {
      "text/html": [
       "<div>\n",
       "<style scoped>\n",
       "    .dataframe tbody tr th:only-of-type {\n",
       "        vertical-align: middle;\n",
       "    }\n",
       "\n",
       "    .dataframe tbody tr th {\n",
       "        vertical-align: top;\n",
       "    }\n",
       "\n",
       "    .dataframe thead th {\n",
       "        text-align: right;\n",
       "    }\n",
       "</style>\n",
       "<table border=\"1\" class=\"dataframe\">\n",
       "  <thead>\n",
       "    <tr style=\"text-align: right;\">\n",
       "      <th></th>\n",
       "      <th>wiki_db</th>\n",
       "      <th>images_added</th>\n",
       "      <th>related_pages</th>\n",
       "      <th>related_users</th>\n",
       "    </tr>\n",
       "  </thead>\n",
       "  <tbody>\n",
       "    <tr>\n",
       "      <th>0</th>\n",
       "      <td>idwiki</td>\n",
       "      <td>56</td>\n",
       "      <td>56</td>\n",
       "      <td>37</td>\n",
       "    </tr>\n",
       "    <tr>\n",
       "      <th>1</th>\n",
       "      <td>ptwiki</td>\n",
       "      <td>125</td>\n",
       "      <td>125</td>\n",
       "      <td>79</td>\n",
       "    </tr>\n",
       "    <tr>\n",
       "      <th>2</th>\n",
       "      <td>ruwiki</td>\n",
       "      <td>324</td>\n",
       "      <td>320</td>\n",
       "      <td>208</td>\n",
       "    </tr>\n",
       "  </tbody>\n",
       "</table>\n",
       "</div>"
      ],
      "text/plain": [
       "  wiki_db  images_added  related_pages  related_users\n",
       "0  idwiki            56             56             37\n",
       "1  ptwiki           125            125             79\n",
       "2  ruwiki           324            320            208"
      ]
     },
     "execution_count": 49,
     "metadata": {},
     "output_type": "execute_result"
    }
   ],
   "source": [
    "# Images Suggested that are Added to the Matched Article\n",
    "matched_image.groupby(\n",
    "    ['wiki_db']\n",
    ").agg(\n",
    "    images_added = ('filename', 'count'),\n",
    "    related_pages = ('page_id', 'nunique'),\n",
    "    related_users = ('user_id', 'nunique')\n",
    ").reset_index()"
   ]
  },
  {
   "cell_type": "code",
   "execution_count": 50,
   "id": "f984bc29-bf3a-48f0-9aa9-67ed1c4b33e3",
   "metadata": {},
   "outputs": [
    {
     "data": {
      "text/html": [
       "<div>\n",
       "<style scoped>\n",
       "    .dataframe tbody tr th:only-of-type {\n",
       "        vertical-align: middle;\n",
       "    }\n",
       "\n",
       "    .dataframe tbody tr th {\n",
       "        vertical-align: top;\n",
       "    }\n",
       "\n",
       "    .dataframe thead th {\n",
       "        text-align: right;\n",
       "    }\n",
       "</style>\n",
       "<table border=\"1\" class=\"dataframe\">\n",
       "  <thead>\n",
       "    <tr style=\"text-align: right;\">\n",
       "      <th></th>\n",
       "      <th>wiki_db</th>\n",
       "      <th>images_added</th>\n",
       "      <th>related_pages</th>\n",
       "      <th>related_users</th>\n",
       "    </tr>\n",
       "  </thead>\n",
       "  <tbody>\n",
       "    <tr>\n",
       "      <th>0</th>\n",
       "      <td>idwiki</td>\n",
       "      <td>56</td>\n",
       "      <td>56</td>\n",
       "      <td>37</td>\n",
       "    </tr>\n",
       "    <tr>\n",
       "      <th>1</th>\n",
       "      <td>ptwiki</td>\n",
       "      <td>125</td>\n",
       "      <td>125</td>\n",
       "      <td>79</td>\n",
       "    </tr>\n",
       "    <tr>\n",
       "      <th>2</th>\n",
       "      <td>ruwiki</td>\n",
       "      <td>324</td>\n",
       "      <td>320</td>\n",
       "      <td>208</td>\n",
       "    </tr>\n",
       "  </tbody>\n",
       "</table>\n",
       "</div>"
      ],
      "text/plain": [
       "  wiki_db  images_added  related_pages  related_users\n",
       "0  idwiki            56             56             37\n",
       "1  ptwiki           125            125             79\n",
       "2  ruwiki           324            320            208"
      ]
     },
     "execution_count": 50,
     "metadata": {},
     "output_type": "execute_result"
    }
   ],
   "source": [
    "# Suggested Images not Reverted from Matched Article\n",
    "\n",
    "matched_image[(matched_image['reverted'] == False)].groupby(\n",
    "    ['wiki_db']\n",
    ").agg(\n",
    "    images_added = ('filename', 'count'),\n",
    "    related_pages = ('page_id', 'nunique'),\n",
    "    related_users = ('user_id', 'nunique')\n",
    ").reset_index()"
   ]
  },
  {
   "cell_type": "markdown",
   "id": "48e0af3f-9fc3-41f7-b283-e2c1e6b95bdb",
   "metadata": {},
   "source": [
    "There are 504 images added to the matched articles from 7/20/2022 - 8/31/2022. And all of the image edits for these images are not reverted within 48 hours. "
   ]
  },
  {
   "cell_type": "markdown",
   "id": "f13bd6fb-e67f-4158-bff8-3731306f72a7",
   "metadata": {},
   "source": [
    "# (to do) time to add images"
   ]
  },
  {
   "cell_type": "code",
   "execution_count": null,
   "id": "1e546396-6478-4d7e-b828-f9c9cb2ad04f",
   "metadata": {},
   "outputs": [],
   "source": []
  },
  {
   "cell_type": "code",
   "execution_count": null,
   "id": "550a1513-f568-41bd-8e97-291374c3ed8c",
   "metadata": {},
   "outputs": [],
   "source": []
  }
 ],
 "metadata": {
  "kernelspec": {
   "display_name": "Python 3 (ipykernel)",
   "language": "python",
   "name": "python3"
  },
  "language_info": {
   "codemirror_mode": {
    "name": "ipython",
    "version": 3
   },
   "file_extension": ".py",
   "mimetype": "text/x-python",
   "name": "python",
   "nbconvert_exporter": "python",
   "pygments_lexer": "ipython3",
   "version": "3.7.11"
  }
 },
 "nbformat": 4,
 "nbformat_minor": 5
}
