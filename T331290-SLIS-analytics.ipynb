{
 "cells": [
  {
   "cell_type": "markdown",
   "id": "f2f95862-1b5d-4633-97d5-000e7e6e4e26",
   "metadata": {},
   "source": [
    "# Analytics for Section Level Image Suggestions Notifications¶"
   ]
  },
  {
   "cell_type": "markdown",
   "id": "6b438e86-829d-4903-8ecc-be5129ac6e5a",
   "metadata": {},
   "source": [
    "[T331290](https://phabricator.wikimedia.org/T331290)"
   ]
  },
  {
   "cell_type": "markdown",
   "id": "8bae2bf0-642f-46fe-b1e7-0ec87b0a0b0a",
   "metadata": {},
   "source": [
    "# Purpose"
   ]
  },
  {
   "cell_type": "markdown",
   "id": "6dac997c-7185-44b5-bc0c-8c66367abd9d",
   "metadata": {},
   "source": [
    "Section-level image suggestion were sent out on July 5th, 2023. These suggestions are sent weekly as notifications to experienced contributors for pages on their watchlist and are page level, section level or bundled together.\n",
    "\n",
    "In this report, we will take a look at data in July 2023 from Structured Content's pilot wikis: CA, PT, RU, ID, NO, HU, FI wikis and answer the following question:\n",
    "\n",
    "- Number of notifications sent\n",
    "    - Filtered by article vs section-level suggestion\n",
    "- Percentage of notifications read\n",
    "    - Filtered by article vs section-level suggestion\n",
    "- Notificaton opt out rate\n",
    "- Number of images suggested that are added to the matched article within a month of receiving the notification\n",
    "    - Filtered by article vs section-level suggestion\n",
    "- Revert rate for image additions\n",
    "    - Filtered by article vs section-level suggestion"
   ]
  },
  {
   "cell_type": "markdown",
   "id": "bc4094b1-64cd-44ee-8c5f-611aba3552b0",
   "metadata": {},
   "source": [
    "# Data Preparation"
   ]
  },
  {
   "cell_type": "code",
   "execution_count": 1,
   "id": "d471377b-ff7e-4e8f-b68b-4c3843a56dce",
   "metadata": {},
   "outputs": [],
   "source": [
    "import re\n",
    "\n",
    "from wmfdata import hive, mariadb, spark\n",
    "import wmfdata \n",
    "\n",
    "import math\n",
    "import pandas as pd\n",
    "import numpy as np\n",
    "\n",
    "from datetime import datetime, timedelta, date"
   ]
  },
  {
   "cell_type": "code",
   "execution_count": 3,
   "id": "472eab1b-49a6-4113-83ee-fbe4aa64176b",
   "metadata": {},
   "outputs": [
    {
     "name": "stdout",
     "output_type": "stream",
     "text": [
      "SPARK_HOME: /usr/lib/spark3\n",
      "Using Hadoop client lib jars at 3.2.0, provided by Spark.\n",
      "PYSPARK_PYTHON=/opt/conda-analytics/bin/python3\n"
     ]
    },
    {
     "name": "stderr",
     "output_type": "stream",
     "text": [
      "Setting default log level to \"WARN\".\n",
      "To adjust logging level use sc.setLogLevel(newLevel). For SparkR, use setLogLevel(newLevel).\n",
      "23/08/01 05:17:28 WARN SparkConf: Note that spark.local.dir will be overridden by the value set by the cluster manager (via SPARK_LOCAL_DIRS in mesos/standalone/kubernetes and LOCAL_DIRS in YARN).\n",
      "23/08/01 05:17:28 WARN Utils: Service 'sparkDriver' could not bind on port 12000. Attempting port 12001.\n",
      "23/08/01 05:17:28 WARN Utils: Service 'sparkDriver' could not bind on port 12001. Attempting port 12002.\n",
      "23/08/01 05:17:28 WARN Utils: Service 'sparkDriver' could not bind on port 12002. Attempting port 12003.\n",
      "23/08/01 05:17:29 WARN Utils: Service 'SparkUI' could not bind on port 4040. Attempting port 4041.\n",
      "23/08/01 05:17:29 WARN Utils: Service 'SparkUI' could not bind on port 4041. Attempting port 4042.\n",
      "23/08/01 05:17:29 WARN Utils: Service 'SparkUI' could not bind on port 4042. Attempting port 4043.\n",
      "23/08/01 05:17:36 WARN Utils: Service 'org.apache.spark.network.netty.NettyBlockTransferService' could not bind on port 13000. Attempting port 13001.\n",
      "23/08/01 05:17:36 WARN Utils: Service 'org.apache.spark.network.netty.NettyBlockTransferService' could not bind on port 13001. Attempting port 13002.\n",
      "23/08/01 05:17:36 WARN Utils: Service 'org.apache.spark.network.netty.NettyBlockTransferService' could not bind on port 13002. Attempting port 13003.\n",
      "23/08/01 05:17:37 WARN YarnSchedulerBackend$YarnSchedulerEndpoint: Attempted to request executors before the AM has registered!\n"
     ]
    }
   ],
   "source": [
    "spark_session = wmfdata.spark.create_session(app_name='pyspark regular; media-changes',\n",
    "                                  type='yarn-large')  "
   ]
  },
  {
   "cell_type": "markdown",
   "id": "9dc6b532-60a2-43c0-84f5-f0ba016a7a85",
   "metadata": {},
   "source": [
    "## Parameters"
   ]
  },
  {
   "cell_type": "code",
   "execution_count": 4,
   "id": "c9081fb1-5391-44d1-9b7b-a31f97e9e1e0",
   "metadata": {},
   "outputs": [],
   "source": [
    "mw_snapshot = '2023-07'  \n",
    "wiki_dbs = ('ptwiki', 'ruwiki', 'idwiki','fiwiki', 'huwiki','cawiki', 'nowiki')\n",
    "\n",
    "wiki_db_str = \"('\" + \"','\".join(wiki_dbs) + \"')\"  # otherwise single wiki leads to confusing syntax errors\n",
    "wiki_db_list = list(wiki_dbs)\n",
    "\n",
    "notification_timestamp = 20220720000000\n",
    "\n",
    "#notification ts\n",
    "m_start_timestamp = 20230701000000\n",
    "n_start_timestamp = 20230601000000\n",
    "n_end_timestamp = 20230801000000\n",
    "\n",
    "##edits ts\n",
    "start_timestamp = '2023-07-01' \n",
    "end_timestamp = '2023-08-01'\n",
    "\n",
    "media_list_table = 'cchen.media_jul_2023'"
   ]
  },
  {
   "cell_type": "markdown",
   "id": "c091cfe4-a82a-4b71-b309-a5909192a6e5",
   "metadata": {},
   "source": [
    "## Notification Data"
   ]
  },
  {
   "cell_type": "code",
   "execution_count": 5,
   "id": "d852bb7c-d292-4ce8-a630-b4f7432feb07",
   "metadata": {},
   "outputs": [],
   "source": [
    "notification_query = \"\"\"\n",
    "\n",
    "SELECT\n",
    "   notification_event,\n",
    "   notification_bundle_hash,\n",
    "   notification_user,\n",
    "   notification_timestamp,\n",
    "   notification_read_timestamp,\n",
    "   event_extra,\n",
    "   event_page_id\n",
    "FROM echo_notification\n",
    "JOIN echo_event on event_id = notification_event\n",
    "WHERE notification_timestamp >= {start_timestamp}\n",
    "  AND notification_timestamp < {end_timestamp}\n",
    "  AND event_type = 'image-suggestions'\n",
    "\n",
    "\"\"\""
   ]
  },
  {
   "cell_type": "code",
   "execution_count": 6,
   "id": "eb1147f0-4fa2-44ed-9865-636e7f542cdb",
   "metadata": {},
   "outputs": [
    {
     "name": "stdout",
     "output_type": "stream",
     "text": [
      "getting data for ptwiki\n"
     ]
    },
    {
     "name": "stderr",
     "output_type": "stream",
     "text": [
      "/home/conniecc1/.conda/envs/2023-03-15T06.34.12_conniecc1/lib/python3.10/site-packages/pandas/io/sql.py:761: UserWarning: pandas only support SQLAlchemy connectable(engine/connection) ordatabase string URI or sqlite3 DBAPI2 connectionother DBAPI2 objects are not tested, please consider using SQLAlchemy\n",
      "  warnings.warn(\n"
     ]
    },
    {
     "name": "stdout",
     "output_type": "stream",
     "text": [
      "getting data for ruwiki\n"
     ]
    },
    {
     "name": "stderr",
     "output_type": "stream",
     "text": [
      "/home/conniecc1/.conda/envs/2023-03-15T06.34.12_conniecc1/lib/python3.10/site-packages/pandas/io/sql.py:761: UserWarning: pandas only support SQLAlchemy connectable(engine/connection) ordatabase string URI or sqlite3 DBAPI2 connectionother DBAPI2 objects are not tested, please consider using SQLAlchemy\n",
      "  warnings.warn(\n"
     ]
    },
    {
     "name": "stdout",
     "output_type": "stream",
     "text": [
      "getting data for idwiki\n"
     ]
    },
    {
     "name": "stderr",
     "output_type": "stream",
     "text": [
      "/home/conniecc1/.conda/envs/2023-03-15T06.34.12_conniecc1/lib/python3.10/site-packages/pandas/io/sql.py:761: UserWarning: pandas only support SQLAlchemy connectable(engine/connection) ordatabase string URI or sqlite3 DBAPI2 connectionother DBAPI2 objects are not tested, please consider using SQLAlchemy\n",
      "  warnings.warn(\n"
     ]
    },
    {
     "name": "stdout",
     "output_type": "stream",
     "text": [
      "getting data for fiwiki\n"
     ]
    },
    {
     "name": "stderr",
     "output_type": "stream",
     "text": [
      "/home/conniecc1/.conda/envs/2023-03-15T06.34.12_conniecc1/lib/python3.10/site-packages/pandas/io/sql.py:761: UserWarning: pandas only support SQLAlchemy connectable(engine/connection) ordatabase string URI or sqlite3 DBAPI2 connectionother DBAPI2 objects are not tested, please consider using SQLAlchemy\n",
      "  warnings.warn(\n"
     ]
    },
    {
     "name": "stdout",
     "output_type": "stream",
     "text": [
      "getting data for huwiki\n"
     ]
    },
    {
     "name": "stderr",
     "output_type": "stream",
     "text": [
      "/home/conniecc1/.conda/envs/2023-03-15T06.34.12_conniecc1/lib/python3.10/site-packages/pandas/io/sql.py:761: UserWarning: pandas only support SQLAlchemy connectable(engine/connection) ordatabase string URI or sqlite3 DBAPI2 connectionother DBAPI2 objects are not tested, please consider using SQLAlchemy\n",
      "  warnings.warn(\n"
     ]
    },
    {
     "name": "stdout",
     "output_type": "stream",
     "text": [
      "getting data for cawiki\n"
     ]
    },
    {
     "name": "stderr",
     "output_type": "stream",
     "text": [
      "/home/conniecc1/.conda/envs/2023-03-15T06.34.12_conniecc1/lib/python3.10/site-packages/pandas/io/sql.py:761: UserWarning: pandas only support SQLAlchemy connectable(engine/connection) ordatabase string URI or sqlite3 DBAPI2 connectionother DBAPI2 objects are not tested, please consider using SQLAlchemy\n",
      "  warnings.warn(\n"
     ]
    },
    {
     "name": "stdout",
     "output_type": "stream",
     "text": [
      "getting data for nowiki\n"
     ]
    },
    {
     "name": "stderr",
     "output_type": "stream",
     "text": [
      "/home/conniecc1/.conda/envs/2023-03-15T06.34.12_conniecc1/lib/python3.10/site-packages/pandas/io/sql.py:761: UserWarning: pandas only support SQLAlchemy connectable(engine/connection) ordatabase string URI or sqlite3 DBAPI2 connectionother DBAPI2 objects are not tested, please consider using SQLAlchemy\n",
      "  warnings.warn(\n"
     ]
    }
   ],
   "source": [
    "notification_data = pd.DataFrame()\n",
    "\n",
    "for i in range(len(wiki_db_list)):\n",
    "        \n",
    "    print('getting data for %s' % wiki_db_list[i])\n",
    "    \n",
    "    \n",
    "    noti_result = mariadb.run( \n",
    "        notification_query.format(\n",
    "            start_timestamp = n_start_timestamp,\n",
    "            end_timestamp = n_end_timestamp\n",
    "        ),wiki_db_list[i],'wikishared','pandas'\n",
    "    )\n",
    "    \n",
    "    noti_result.insert(0, 'wiki_db', wiki_db_list[i])\n",
    "    \n",
    "    notification_data = pd.concat([notification_data, noti_result], sort=False)"
   ]
  },
  {
   "cell_type": "code",
   "execution_count": 7,
   "id": "5078cc33-1d31-4ad3-9f86-f9abbe8d4bb9",
   "metadata": {},
   "outputs": [],
   "source": [
    "notification_data['event_extra'] = notification_data['event_extra'].astype(str)\n",
    "# extract name of suggested images from data\n",
    "notification_data['suggested_image'] = notification_data['event_extra'].str.extract(r'(?<=File:)(.+?)(?=\\\")')\n",
    "# filtering article level image suggestion notifications\n",
    "notification_data['is_article_level'] = notification_data['event_extra'].str.endswith(\";N;}\")"
   ]
  },
  {
   "cell_type": "code",
   "execution_count": 8,
   "id": "060c458f-bf0b-4e5b-819f-6dee42b1d269",
   "metadata": {},
   "outputs": [],
   "source": [
    "# store in global temp view\n",
    "notification_sdf = spark_session.createDataFrame(notification_data)\n",
    "notification_sdf.createGlobalTempView(\"notification_data\")"
   ]
  },
  {
   "cell_type": "markdown",
   "id": "a080ac85-92fc-4dc5-aca9-57a56d9cfd75",
   "metadata": {},
   "source": [
    "## User Pref Data¶"
   ]
  },
  {
   "cell_type": "code",
   "execution_count": 9,
   "id": "3b535d87-c362-4ecc-95a9-4761410ad17f",
   "metadata": {},
   "outputs": [],
   "source": [
    "pref_query = \"\"\"\n",
    "\n",
    "SELECT \n",
    "    up_property,\n",
    "    up_value,\n",
    "    up_user AS local_user_id\n",
    "FROM user_properties\n",
    "WHERE up_property like '%image_suggestions%'\n",
    "\n",
    "\"\"\""
   ]
  },
  {
   "cell_type": "code",
   "execution_count": 10,
   "id": "5c49a32c-ad79-41ee-939b-0416982e55b5",
   "metadata": {},
   "outputs": [
    {
     "name": "stdout",
     "output_type": "stream",
     "text": [
      "getting data for ptwiki\n"
     ]
    },
    {
     "name": "stderr",
     "output_type": "stream",
     "text": [
      "/home/conniecc1/.conda/envs/2023-03-15T06.34.12_conniecc1/lib/python3.10/site-packages/pandas/io/sql.py:761: UserWarning: pandas only support SQLAlchemy connectable(engine/connection) ordatabase string URI or sqlite3 DBAPI2 connectionother DBAPI2 objects are not tested, please consider using SQLAlchemy\n",
      "  warnings.warn(\n"
     ]
    },
    {
     "name": "stdout",
     "output_type": "stream",
     "text": [
      "getting data for ruwiki\n"
     ]
    },
    {
     "name": "stderr",
     "output_type": "stream",
     "text": [
      "/home/conniecc1/.conda/envs/2023-03-15T06.34.12_conniecc1/lib/python3.10/site-packages/pandas/io/sql.py:761: UserWarning: pandas only support SQLAlchemy connectable(engine/connection) ordatabase string URI or sqlite3 DBAPI2 connectionother DBAPI2 objects are not tested, please consider using SQLAlchemy\n",
      "  warnings.warn(\n"
     ]
    },
    {
     "name": "stdout",
     "output_type": "stream",
     "text": [
      "getting data for idwiki\n"
     ]
    },
    {
     "name": "stderr",
     "output_type": "stream",
     "text": [
      "/home/conniecc1/.conda/envs/2023-03-15T06.34.12_conniecc1/lib/python3.10/site-packages/pandas/io/sql.py:761: UserWarning: pandas only support SQLAlchemy connectable(engine/connection) ordatabase string URI or sqlite3 DBAPI2 connectionother DBAPI2 objects are not tested, please consider using SQLAlchemy\n",
      "  warnings.warn(\n"
     ]
    },
    {
     "name": "stdout",
     "output_type": "stream",
     "text": [
      "getting data for fiwiki\n"
     ]
    },
    {
     "name": "stderr",
     "output_type": "stream",
     "text": [
      "/home/conniecc1/.conda/envs/2023-03-15T06.34.12_conniecc1/lib/python3.10/site-packages/pandas/io/sql.py:761: UserWarning: pandas only support SQLAlchemy connectable(engine/connection) ordatabase string URI or sqlite3 DBAPI2 connectionother DBAPI2 objects are not tested, please consider using SQLAlchemy\n",
      "  warnings.warn(\n"
     ]
    },
    {
     "name": "stdout",
     "output_type": "stream",
     "text": [
      "getting data for huwiki\n"
     ]
    },
    {
     "name": "stderr",
     "output_type": "stream",
     "text": [
      "/home/conniecc1/.conda/envs/2023-03-15T06.34.12_conniecc1/lib/python3.10/site-packages/pandas/io/sql.py:761: UserWarning: pandas only support SQLAlchemy connectable(engine/connection) ordatabase string URI or sqlite3 DBAPI2 connectionother DBAPI2 objects are not tested, please consider using SQLAlchemy\n",
      "  warnings.warn(\n"
     ]
    },
    {
     "name": "stdout",
     "output_type": "stream",
     "text": [
      "getting data for cawiki\n"
     ]
    },
    {
     "name": "stderr",
     "output_type": "stream",
     "text": [
      "/home/conniecc1/.conda/envs/2023-03-15T06.34.12_conniecc1/lib/python3.10/site-packages/pandas/io/sql.py:761: UserWarning: pandas only support SQLAlchemy connectable(engine/connection) ordatabase string URI or sqlite3 DBAPI2 connectionother DBAPI2 objects are not tested, please consider using SQLAlchemy\n",
      "  warnings.warn(\n"
     ]
    },
    {
     "name": "stdout",
     "output_type": "stream",
     "text": [
      "getting data for nowiki\n"
     ]
    },
    {
     "name": "stderr",
     "output_type": "stream",
     "text": [
      "/home/conniecc1/.conda/envs/2023-03-15T06.34.12_conniecc1/lib/python3.10/site-packages/pandas/io/sql.py:761: UserWarning: pandas only support SQLAlchemy connectable(engine/connection) ordatabase string URI or sqlite3 DBAPI2 connectionother DBAPI2 objects are not tested, please consider using SQLAlchemy\n",
      "  warnings.warn(\n"
     ]
    }
   ],
   "source": [
    "local_pref_data = pd.DataFrame()\n",
    "\n",
    "for i in range(len(wiki_db_list)):\n",
    "        \n",
    "    print('getting data for %s' % wiki_db_list[i])\n",
    "    \n",
    "    data = pd.DataFrame()\n",
    "    \n",
    "    pref_result = mariadb.run( \n",
    "        pref_query,wiki_db_list[i]\n",
    "    )\n",
    "    \n",
    "    pref_result.insert(0, 'wiki_db', wiki_db_list[i])\n",
    "    \n",
    "    local_pref_data = pd.concat([local_pref_data, pref_result], sort=False)"
   ]
  },
  {
   "cell_type": "code",
   "execution_count": 11,
   "id": "4dc3b79c-d9d0-434b-9958-2c8d85b9700a",
   "metadata": {},
   "outputs": [],
   "source": [
    "## convert up_value to a string in order to store in GlobalTempView\n",
    "local_pref_data['up_value'] = local_pref_data['up_value'].astype(str)"
   ]
  },
  {
   "cell_type": "code",
   "execution_count": 12,
   "id": "f46b5433-d87b-49cf-bb48-f0bcf4810010",
   "metadata": {},
   "outputs": [],
   "source": [
    "# store in global temp view\n",
    "local_pref_sdf = spark_session.createDataFrame(local_pref_data)\n",
    "local_pref_sdf.createGlobalTempView(\"local_pref_temp\")"
   ]
  },
  {
   "cell_type": "code",
   "execution_count": 13,
   "id": "8d2c1e20-ac7c-40f3-bb72-0a246f6210fd",
   "metadata": {},
   "outputs": [],
   "source": [
    "global_pref_query = \"\"\"\n",
    "\n",
    "SELECT\n",
    "    gp_user,\n",
    "    gp_property,\n",
    "    gp_value,\n",
    "    lu_wiki,\n",
    "    lu_local_id\n",
    "FROM global_preferences gp RIGHT JOIN localuser lu ON gp_user = lu_global_id\n",
    "WHERE gp_property LIKE '%image-suggestions%'\n",
    "  AND lu_wiki IN {wiki_db}\n",
    "  \n",
    "\"\"\""
   ]
  },
  {
   "cell_type": "code",
   "execution_count": 14,
   "id": "e6c3b803-5912-4df7-97a7-2cc0b320d9d3",
   "metadata": {},
   "outputs": [
    {
     "name": "stderr",
     "output_type": "stream",
     "text": [
      "/home/conniecc1/.conda/envs/2023-03-15T06.34.12_conniecc1/lib/python3.10/site-packages/pandas/io/sql.py:761: UserWarning: pandas only support SQLAlchemy connectable(engine/connection) ordatabase string URI or sqlite3 DBAPI2 connectionother DBAPI2 objects are not tested, please consider using SQLAlchemy\n",
      "  warnings.warn(\n"
     ]
    }
   ],
   "source": [
    "global_pref_data = mariadb.run( \n",
    "        global_pref_query.format(\n",
    "          wiki_db = wiki_dbs\n",
    "        ),'centralauth','pandas'\n",
    "    )"
   ]
  },
  {
   "cell_type": "code",
   "execution_count": 15,
   "id": "d5f99214-084a-4b04-854f-7bd7355cb9fd",
   "metadata": {},
   "outputs": [],
   "source": [
    "## convert up_value to a string in order to store in GlobalTempView\n",
    "global_pref_data['gp_value'] = global_pref_data['gp_value'].astype(str)"
   ]
  },
  {
   "cell_type": "code",
   "execution_count": 16,
   "id": "d1a5ea02-2d73-4632-8d38-622e1cb3ed63",
   "metadata": {},
   "outputs": [],
   "source": [
    "global_pref_sdf = spark_session.createDataFrame(global_pref_data)\n",
    "global_pref_sdf.createGlobalTempView(\"global_pref_temp\")"
   ]
  },
  {
   "cell_type": "markdown",
   "id": "a615548b-0e6c-49df-ac5b-bc8c2805d04a",
   "metadata": {},
   "source": [
    "## Notification User Data"
   ]
  },
  {
   "cell_type": "code",
   "execution_count": 17,
   "id": "533e2743-b1e4-4e11-9bf8-2fb5f3352a30",
   "metadata": {},
   "outputs": [],
   "source": [
    "notification_user_query = \"\"\"\n",
    "SELECT \n",
    "   notification_event,\n",
    "   notification_user\n",
    "FROM echo_notification\n",
    "JOIN echo_event on event_id = notification_event\n",
    "WHERE notification_timestamp >= {start_timestamp}\n",
    "  AND notification_timestamp < {end_timestamp}\n",
    "  AND event_type = 'image-suggestions'\n",
    "\"\"\""
   ]
  },
  {
   "cell_type": "code",
   "execution_count": 18,
   "id": "40f93681-93b4-459e-9bf3-955c2441eda4",
   "metadata": {},
   "outputs": [
    {
     "name": "stdout",
     "output_type": "stream",
     "text": [
      "getting data for ptwiki\n"
     ]
    },
    {
     "name": "stderr",
     "output_type": "stream",
     "text": [
      "/home/conniecc1/.conda/envs/2023-03-15T06.34.12_conniecc1/lib/python3.10/site-packages/pandas/io/sql.py:761: UserWarning: pandas only support SQLAlchemy connectable(engine/connection) ordatabase string URI or sqlite3 DBAPI2 connectionother DBAPI2 objects are not tested, please consider using SQLAlchemy\n",
      "  warnings.warn(\n"
     ]
    },
    {
     "name": "stdout",
     "output_type": "stream",
     "text": [
      "getting data for ruwiki\n"
     ]
    },
    {
     "name": "stderr",
     "output_type": "stream",
     "text": [
      "/home/conniecc1/.conda/envs/2023-03-15T06.34.12_conniecc1/lib/python3.10/site-packages/pandas/io/sql.py:761: UserWarning: pandas only support SQLAlchemy connectable(engine/connection) ordatabase string URI or sqlite3 DBAPI2 connectionother DBAPI2 objects are not tested, please consider using SQLAlchemy\n",
      "  warnings.warn(\n"
     ]
    },
    {
     "name": "stdout",
     "output_type": "stream",
     "text": [
      "getting data for idwiki\n"
     ]
    },
    {
     "name": "stderr",
     "output_type": "stream",
     "text": [
      "/home/conniecc1/.conda/envs/2023-03-15T06.34.12_conniecc1/lib/python3.10/site-packages/pandas/io/sql.py:761: UserWarning: pandas only support SQLAlchemy connectable(engine/connection) ordatabase string URI or sqlite3 DBAPI2 connectionother DBAPI2 objects are not tested, please consider using SQLAlchemy\n",
      "  warnings.warn(\n"
     ]
    },
    {
     "name": "stdout",
     "output_type": "stream",
     "text": [
      "getting data for fiwiki\n"
     ]
    },
    {
     "name": "stderr",
     "output_type": "stream",
     "text": [
      "/home/conniecc1/.conda/envs/2023-03-15T06.34.12_conniecc1/lib/python3.10/site-packages/pandas/io/sql.py:761: UserWarning: pandas only support SQLAlchemy connectable(engine/connection) ordatabase string URI or sqlite3 DBAPI2 connectionother DBAPI2 objects are not tested, please consider using SQLAlchemy\n",
      "  warnings.warn(\n"
     ]
    },
    {
     "name": "stdout",
     "output_type": "stream",
     "text": [
      "getting data for huwiki\n"
     ]
    },
    {
     "name": "stderr",
     "output_type": "stream",
     "text": [
      "/home/conniecc1/.conda/envs/2023-03-15T06.34.12_conniecc1/lib/python3.10/site-packages/pandas/io/sql.py:761: UserWarning: pandas only support SQLAlchemy connectable(engine/connection) ordatabase string URI or sqlite3 DBAPI2 connectionother DBAPI2 objects are not tested, please consider using SQLAlchemy\n",
      "  warnings.warn(\n"
     ]
    },
    {
     "name": "stdout",
     "output_type": "stream",
     "text": [
      "getting data for cawiki\n"
     ]
    },
    {
     "name": "stderr",
     "output_type": "stream",
     "text": [
      "/home/conniecc1/.conda/envs/2023-03-15T06.34.12_conniecc1/lib/python3.10/site-packages/pandas/io/sql.py:761: UserWarning: pandas only support SQLAlchemy connectable(engine/connection) ordatabase string URI or sqlite3 DBAPI2 connectionother DBAPI2 objects are not tested, please consider using SQLAlchemy\n",
      "  warnings.warn(\n"
     ]
    },
    {
     "name": "stdout",
     "output_type": "stream",
     "text": [
      "getting data for nowiki\n"
     ]
    },
    {
     "name": "stderr",
     "output_type": "stream",
     "text": [
      "/home/conniecc1/.conda/envs/2023-03-15T06.34.12_conniecc1/lib/python3.10/site-packages/pandas/io/sql.py:761: UserWarning: pandas only support SQLAlchemy connectable(engine/connection) ordatabase string URI or sqlite3 DBAPI2 connectionother DBAPI2 objects are not tested, please consider using SQLAlchemy\n",
      "  warnings.warn(\n"
     ]
    }
   ],
   "source": [
    "notification_user_data = pd.DataFrame()\n",
    "\n",
    "for i in range(len(wiki_db_list)):\n",
    "        \n",
    "    print('getting data for %s' % wiki_db_list[i])\n",
    "    \n",
    "    \n",
    "    noti_result = mariadb.run( \n",
    "        notification_user_query.format(\n",
    "            start_timestamp = notification_timestamp,\n",
    "            end_timestamp = n_end_timestamp\n",
    "        ),wiki_db_list[i],'wikishared','pandas'\n",
    "    )\n",
    "    \n",
    "    noti_result.insert(0, 'wiki_db', wiki_db_list[i])\n",
    "    \n",
    "    notification_user_data = pd.concat([notification_user_data, noti_result], sort=False)"
   ]
  },
  {
   "cell_type": "code",
   "execution_count": 19,
   "id": "1f06891f-6bef-4ffb-98fc-e62603c29314",
   "metadata": {},
   "outputs": [],
   "source": [
    "# store in global temp view\n",
    "notification_user_sdf = spark_session.createDataFrame(notification_user_data)\n",
    "notification_user_sdf.createGlobalTempView(\"notification_user_data\")"
   ]
  },
  {
   "cell_type": "markdown",
   "id": "4dd8fdcb-c0d9-43e0-92a5-0700f17b8f5c",
   "metadata": {},
   "source": [
    "# Caculation"
   ]
  },
  {
   "cell_type": "markdown",
   "id": "531afd93-af05-4b1d-916b-4dc168fccb15",
   "metadata": {},
   "source": [
    "## Number of Notifications\n"
   ]
  },
  {
   "cell_type": "code",
   "execution_count": 20,
   "id": "b6d5390f-34d9-4fda-b784-1ebf2b3b2f18",
   "metadata": {},
   "outputs": [],
   "source": [
    "daily_notification_query = \"\"\"\n",
    "\n",
    "WITH noti AS (\n",
    "    SELECT \n",
    "        wiki_db,\n",
    "        notification_user,\n",
    "        notification_bundle_hash,\n",
    "        MIN(notification_timestamp) AS send_ts,\n",
    "        MIN(notification_read_timestamp) AS read_ts,\n",
    "        SUM(CASE WHEN is_article_level THEN 1 ELSE 0 END) AS noti_type, \n",
    "        COUNT(*) AS count\n",
    "    FROM global_temp.notification_data\n",
    "    WHERE notification_timestamp >= {noti_timestamp}\n",
    "    GROUP BY wiki_db, notification_user,notification_bundle_hash\n",
    ")\n",
    "\n",
    "SELECT \n",
    "   wiki_db,\n",
    "   FROM_UNIXTIME(UNIX_TIMESTAMP(SUBSTR(send_ts,0,8), 'yyyyMMdd')) AS date,\n",
    "   COUNT(1) AS all_noti,\n",
    "   COUNT(read_ts) AS all_noti_read,\n",
    "   COUNT(CASE WHEN noti_type = 1 AND count = 1 THEN 1 END) AS article_noti,\n",
    "   COUNT(CASE WHEN noti_type = 1 AND count = 1 THEN read_ts END) AS article_noti_read,\n",
    "   COUNT(CASE WHEN noti_type = 0  THEN 1 END) AS section_noti,\n",
    "   COUNT(CASE WHEN noti_type = 0  THEN read_ts END) AS section_read,\n",
    "   COUNT(CASE WHEN noti_type = 1 AND count > 1 THEN 1 END) AS combined_noti,\n",
    "   COUNT(CASE WHEN noti_type = 1 AND count > 1 THEN read_ts END) AS combined_noti_read\n",
    "FROM noti\n",
    "GROUP BY wiki_db, FROM_UNIXTIME(UNIX_TIMESTAMP(SUBSTR(send_ts,0,8), 'yyyyMMdd'))\n",
    "   \n",
    "\"\"\""
   ]
  },
  {
   "cell_type": "code",
   "execution_count": 21,
   "id": "6b54f469-af90-4ef2-8861-b74fa36440bf",
   "metadata": {},
   "outputs": [
    {
     "name": "stderr",
     "output_type": "stream",
     "text": [
      "23/08/01 05:20:01 WARN TaskSetManager: Stage 0 contains a task of very large size (11947 KiB). The maximum recommended task size is 1000 KiB.\n",
      "                                                                                \r"
     ]
    }
   ],
   "source": [
    "daily_notification = spark.run(\n",
    "        daily_notification_query.format(\n",
    "            noti_timestamp = m_start_timestamp))"
   ]
  },
  {
   "cell_type": "code",
   "execution_count": 22,
   "id": "5d60630e-faea-488f-b908-7cfef9769cd3",
   "metadata": {},
   "outputs": [],
   "source": [
    "notification_stats = daily_notification.groupby('wiki_db').agg(\n",
    "     notification_sent = ('all_noti', 'sum'),\n",
    "     notification_read = ('all_noti_read', 'sum'),\n",
    "     article_sent = ('article_noti', 'sum'),\n",
    "     article_read = ('article_noti_read', 'sum'),\n",
    "     section_sent = ('section_noti', 'sum'),\n",
    "     section_read = ('section_read', 'sum'),\n",
    "     combined_sent = ('combined_noti', 'sum'),\n",
    "     combined_read = ('combined_noti_read', 'sum')\n",
    ").reset_index()"
   ]
  },
  {
   "cell_type": "code",
   "execution_count": 23,
   "id": "94191247-0a15-4696-b0b7-61b73481b16c",
   "metadata": {},
   "outputs": [
    {
     "data": {
      "text/html": [
       "<div>\n",
       "<style scoped>\n",
       "    .dataframe tbody tr th:only-of-type {\n",
       "        vertical-align: middle;\n",
       "    }\n",
       "\n",
       "    .dataframe tbody tr th {\n",
       "        vertical-align: top;\n",
       "    }\n",
       "\n",
       "    .dataframe thead th {\n",
       "        text-align: right;\n",
       "    }\n",
       "</style>\n",
       "<table border=\"1\" class=\"dataframe\">\n",
       "  <thead>\n",
       "    <tr style=\"text-align: right;\">\n",
       "      <th></th>\n",
       "      <th>wiki_db</th>\n",
       "      <th>notification_sent</th>\n",
       "      <th>notification_read</th>\n",
       "      <th>article_sent</th>\n",
       "      <th>article_read</th>\n",
       "      <th>section_sent</th>\n",
       "      <th>section_read</th>\n",
       "      <th>combined_sent</th>\n",
       "      <th>combined_read</th>\n",
       "    </tr>\n",
       "  </thead>\n",
       "  <tbody>\n",
       "    <tr>\n",
       "      <th>0</th>\n",
       "      <td>cawiki</td>\n",
       "      <td>4007</td>\n",
       "      <td>1066</td>\n",
       "      <td>96</td>\n",
       "      <td>41</td>\n",
       "      <td>3889</td>\n",
       "      <td>1019</td>\n",
       "      <td>22</td>\n",
       "      <td>6</td>\n",
       "    </tr>\n",
       "    <tr>\n",
       "      <th>1</th>\n",
       "      <td>fiwiki</td>\n",
       "      <td>1217</td>\n",
       "      <td>277</td>\n",
       "      <td>1217</td>\n",
       "      <td>277</td>\n",
       "      <td>0</td>\n",
       "      <td>0</td>\n",
       "      <td>0</td>\n",
       "      <td>0</td>\n",
       "    </tr>\n",
       "    <tr>\n",
       "      <th>2</th>\n",
       "      <td>huwiki</td>\n",
       "      <td>6205</td>\n",
       "      <td>1173</td>\n",
       "      <td>221</td>\n",
       "      <td>77</td>\n",
       "      <td>5934</td>\n",
       "      <td>1081</td>\n",
       "      <td>50</td>\n",
       "      <td>15</td>\n",
       "    </tr>\n",
       "    <tr>\n",
       "      <th>3</th>\n",
       "      <td>idwiki</td>\n",
       "      <td>3843</td>\n",
       "      <td>802</td>\n",
       "      <td>101</td>\n",
       "      <td>51</td>\n",
       "      <td>3690</td>\n",
       "      <td>738</td>\n",
       "      <td>52</td>\n",
       "      <td>13</td>\n",
       "    </tr>\n",
       "    <tr>\n",
       "      <th>4</th>\n",
       "      <td>nowiki</td>\n",
       "      <td>4070</td>\n",
       "      <td>647</td>\n",
       "      <td>138</td>\n",
       "      <td>30</td>\n",
       "      <td>3886</td>\n",
       "      <td>609</td>\n",
       "      <td>46</td>\n",
       "      <td>8</td>\n",
       "    </tr>\n",
       "    <tr>\n",
       "      <th>5</th>\n",
       "      <td>ptwiki</td>\n",
       "      <td>13950</td>\n",
       "      <td>2213</td>\n",
       "      <td>570</td>\n",
       "      <td>181</td>\n",
       "      <td>13233</td>\n",
       "      <td>2000</td>\n",
       "      <td>147</td>\n",
       "      <td>32</td>\n",
       "    </tr>\n",
       "    <tr>\n",
       "      <th>6</th>\n",
       "      <td>ruwiki</td>\n",
       "      <td>32994</td>\n",
       "      <td>7075</td>\n",
       "      <td>1070</td>\n",
       "      <td>346</td>\n",
       "      <td>31590</td>\n",
       "      <td>6636</td>\n",
       "      <td>334</td>\n",
       "      <td>93</td>\n",
       "    </tr>\n",
       "  </tbody>\n",
       "</table>\n",
       "</div>"
      ],
      "text/plain": [
       "  wiki_db  notification_sent  notification_read  article_sent  article_read  \\\n",
       "0  cawiki               4007               1066            96            41   \n",
       "1  fiwiki               1217                277          1217           277   \n",
       "2  huwiki               6205               1173           221            77   \n",
       "3  idwiki               3843                802           101            51   \n",
       "4  nowiki               4070                647           138            30   \n",
       "5  ptwiki              13950               2213           570           181   \n",
       "6  ruwiki              32994               7075          1070           346   \n",
       "\n",
       "   section_sent  section_read  combined_sent  combined_read  \n",
       "0          3889          1019             22              6  \n",
       "1             0             0              0              0  \n",
       "2          5934          1081             50             15  \n",
       "3          3690           738             52             13  \n",
       "4          3886           609             46              8  \n",
       "5         13233          2000            147             32  \n",
       "6         31590          6636            334             93  "
      ]
     },
     "execution_count": 23,
     "metadata": {},
     "output_type": "execute_result"
    }
   ],
   "source": [
    "notification_stats"
   ]
  },
  {
   "cell_type": "markdown",
   "id": "95c0cbc5-46b3-4abf-ac26-63de320f074a",
   "metadata": {},
   "source": [
    "## Number of opt-outs"
   ]
  },
  {
   "cell_type": "code",
   "execution_count": 24,
   "id": "73bd920b-a544-4454-b31d-1b64a9f0ce28",
   "metadata": {},
   "outputs": [],
   "source": [
    "pref_type_list = (\"push\", \"web\")"
   ]
  },
  {
   "cell_type": "code",
   "execution_count": 25,
   "id": "689954a3-bb70-40be-8fd5-b767e7ed85db",
   "metadata": {},
   "outputs": [],
   "source": [
    "pref_query = \"\"\"\n",
    "\n",
    "WITH noti_users AS ( --total notification users\n",
    "\n",
    "SELECT \n",
    "    wiki_db,\n",
    "    notification_user\n",
    "FROM global_temp.notification_user_data\n",
    "GROUP BY wiki_db, notification_user\n",
    "\n",
    "), local_pref AS ( -- local preference \n",
    "\n",
    "SELECT\n",
    "    wiki_db,\n",
    "    local_user_id,\n",
    "    up_value AS local_pref\n",
    "FROM global_temp.local_pref_temp\n",
    "WHERE up_property = \"echo-subscriptions-{type}-image-suggestions\"\n",
    "  and up_value != ''\n",
    "\n",
    "), global_pref AS ( -- global preference\n",
    "\n",
    "SELECT\n",
    "    lu_wiki,\n",
    "    lu_local_id,\n",
    "    gp_value AS global_pref\n",
    "FROM global_temp.global_pref_temp\n",
    "WHERE gp_property  = \"echo-subscriptions-{type}-image-suggestions\"\n",
    "  and gp_value != ''\n",
    "\n",
    "), local_ex AS ( -- local exceptions\n",
    "\n",
    "SELECT\n",
    "    wiki_db,\n",
    "    local_user_id,\n",
    "    up_value AS local_ex   \n",
    "FROM global_temp.local_pref_temp\n",
    "WHERE up_property = \"echo-subscriptions-{type}-image-suggestions-local-exception\"\n",
    "  and up_value != ''\n",
    "\n",
    "), global_all_pref AS ( -- compare local exception and global preference\n",
    "\n",
    "SELECT \n",
    "    COALESCE(lu_wiki,wiki_db) AS wiki,\n",
    "    COALESCE(lu_local_id,local_user_id) AS user_id,\n",
    "    COALESCE(local_ex,global_pref) AS all_pref\n",
    "FROM global_pref gp FULL OUTER JOIN local_ex le ON (gp.lu_wiki = le.wiki_db AND gp.lu_local_id = le.local_user_id)\n",
    "\n",
    ")\n",
    "\n",
    "SELECT \n",
    "    nu.wiki_db,\n",
    "    nu.notification_user,\n",
    "    gp.all_pref,\n",
    "    lp.local_pref\n",
    "FROM noti_users nu \n",
    "    LEFT JOIN local_pref lp ON (nu.wiki_db = lp.wiki_db AND nu.notification_user = lp.local_user_id)\n",
    "    LEFT JOIN global_all_pref gp ON (nu.wiki_db = gp.wiki AND nu.notification_user = gp.user_id)\n",
    "\"\"\""
   ]
  },
  {
   "cell_type": "code",
   "execution_count": 26,
   "id": "715dbbfa-68af-4ef2-91c8-c006e894abcc",
   "metadata": {},
   "outputs": [
    {
     "name": "stderr",
     "output_type": "stream",
     "text": [
      "23/08/01 05:20:11 WARN TaskSetManager: Stage 4 contains a task of very large size (2486 KiB). The maximum recommended task size is 1000 KiB.\n",
      "23/08/01 05:20:17 WARN TaskSetManager: Stage 13 contains a task of very large size (2486 KiB). The maximum recommended task size is 1000 KiB.\n",
      "                                                                                \r"
     ]
    }
   ],
   "source": [
    "pref_stats = pd.DataFrame()\n",
    "\n",
    "for i in range(len(pref_type_list)):\n",
    "               \n",
    "    pref_result = spark.run(pref_query.format(\n",
    "                           type = pref_type_list[i]\n",
    "                        ))\n",
    "    \n",
    "    pref_result.insert(0, 'type', pref_type_list[i])\n",
    "    \n",
    "    pref_stats = pd.concat([pref_stats, pref_result], sort=False)"
   ]
  },
  {
   "cell_type": "code",
   "execution_count": 27,
   "id": "ece36959-5fad-407e-8ae0-55b87c6fcab5",
   "metadata": {},
   "outputs": [],
   "source": [
    "## total number of users received notifications\n",
    "total_users = pref_stats[(pref_stats['type'] == \"web\")].groupby(\n",
    "    ['wiki_db']\n",
    ").agg(\n",
    "    total_users = ('notification_user', 'count')\n",
    ").reset_index()"
   ]
  },
  {
   "cell_type": "code",
   "execution_count": 28,
   "id": "8b02479e-bf63-44b1-a856-37389d71a823",
   "metadata": {},
   "outputs": [],
   "source": [
    "## opt-out for push notifications and web notifications\n",
    "pref = pref_stats.groupby(\n",
    "    ['wiki_db','type', 'all_pref', 'local_pref']\n",
    ").agg(\n",
    "    optout_users = ('wiki_db', 'count')\n",
    ").reset_index()\n",
    "\n",
    "pref = pref[(pref['all_pref'] == '0')|(pref['local_pref'] == '0')]"
   ]
  },
  {
   "cell_type": "code",
   "execution_count": 29,
   "id": "d4605383-b0fd-4415-af36-b12b49ddbc03",
   "metadata": {},
   "outputs": [],
   "source": [
    "mobile_optout = pref_stats[(pref_stats['type'] == \"push\")]\n",
    "\n",
    "mobile_optout= mobile_optout[(mobile_optout['all_pref'] == '0')|(mobile_optout['local_pref'] == '0')].groupby(\n",
    "    ['wiki_db']\n",
    ").agg(\n",
    "    mobile_optouts = ( 'wiki_db','count')\n",
    ").reset_index()"
   ]
  },
  {
   "cell_type": "code",
   "execution_count": 30,
   "id": "c0ec1455-ce96-4d31-83aa-a4acd0ddebb5",
   "metadata": {},
   "outputs": [],
   "source": [
    "desktop_optout = pref_stats[(pref_stats['type'] == \"web\")]\n",
    "\n",
    "desktop_optout= desktop_optout[(desktop_optout['all_pref'] == '0')|(desktop_optout['local_pref'] == '0')].groupby(\n",
    "    ['wiki_db']\n",
    ").agg(\n",
    "    desktop_optout = ( 'wiki_db','count')\n",
    ").reset_index()"
   ]
  },
  {
   "cell_type": "code",
   "execution_count": 31,
   "id": "d7dd83c5-516d-440c-b544-0ddefee30456",
   "metadata": {},
   "outputs": [
    {
     "data": {
      "text/html": [
       "<div>\n",
       "<style scoped>\n",
       "    .dataframe tbody tr th:only-of-type {\n",
       "        vertical-align: middle;\n",
       "    }\n",
       "\n",
       "    .dataframe tbody tr th {\n",
       "        vertical-align: top;\n",
       "    }\n",
       "\n",
       "    .dataframe thead th {\n",
       "        text-align: right;\n",
       "    }\n",
       "</style>\n",
       "<table border=\"1\" class=\"dataframe\">\n",
       "  <thead>\n",
       "    <tr style=\"text-align: right;\">\n",
       "      <th></th>\n",
       "      <th>wiki_db</th>\n",
       "      <th>total_users</th>\n",
       "      <th>mobile_optouts</th>\n",
       "      <th>desktop_optout</th>\n",
       "    </tr>\n",
       "  </thead>\n",
       "  <tbody>\n",
       "    <tr>\n",
       "      <th>0</th>\n",
       "      <td>cawiki</td>\n",
       "      <td>789</td>\n",
       "      <td>7</td>\n",
       "      <td>5</td>\n",
       "    </tr>\n",
       "    <tr>\n",
       "      <th>1</th>\n",
       "      <td>fiwiki</td>\n",
       "      <td>1059</td>\n",
       "      <td>38</td>\n",
       "      <td>44</td>\n",
       "    </tr>\n",
       "    <tr>\n",
       "      <th>2</th>\n",
       "      <td>huwiki</td>\n",
       "      <td>1278</td>\n",
       "      <td>21</td>\n",
       "      <td>26</td>\n",
       "    </tr>\n",
       "    <tr>\n",
       "      <th>3</th>\n",
       "      <td>idwiki</td>\n",
       "      <td>959</td>\n",
       "      <td>13</td>\n",
       "      <td>14</td>\n",
       "    </tr>\n",
       "    <tr>\n",
       "      <th>4</th>\n",
       "      <td>nowiki</td>\n",
       "      <td>817</td>\n",
       "      <td>21</td>\n",
       "      <td>21</td>\n",
       "    </tr>\n",
       "    <tr>\n",
       "      <th>5</th>\n",
       "      <td>ptwiki</td>\n",
       "      <td>3990</td>\n",
       "      <td>36</td>\n",
       "      <td>38</td>\n",
       "    </tr>\n",
       "    <tr>\n",
       "      <th>6</th>\n",
       "      <td>ruwiki</td>\n",
       "      <td>7299</td>\n",
       "      <td>162</td>\n",
       "      <td>171</td>\n",
       "    </tr>\n",
       "  </tbody>\n",
       "</table>\n",
       "</div>"
      ],
      "text/plain": [
       "  wiki_db  total_users  mobile_optouts  desktop_optout\n",
       "0  cawiki          789               7               5\n",
       "1  fiwiki         1059              38              44\n",
       "2  huwiki         1278              21              26\n",
       "3  idwiki          959              13              14\n",
       "4  nowiki          817              21              21\n",
       "5  ptwiki         3990              36              38\n",
       "6  ruwiki         7299             162             171"
      ]
     },
     "execution_count": 31,
     "metadata": {},
     "output_type": "execute_result"
    }
   ],
   "source": [
    "pd.merge(pd.merge(total_users,mobile_optout,on='wiki_db'),desktop_optout,on='wiki_db')"
   ]
  },
  {
   "cell_type": "code",
   "execution_count": null,
   "id": "b06ef2f7-7cb3-47d6-bcab-8ff3fa4d9893",
   "metadata": {},
   "outputs": [],
   "source": []
  }
 ],
 "metadata": {
  "kernelspec": {
   "display_name": "Python 3 (ipykernel)",
   "language": "python",
   "name": "python3"
  },
  "language_info": {
   "codemirror_mode": {
    "name": "ipython",
    "version": 3
   },
   "file_extension": ".py",
   "mimetype": "text/x-python",
   "name": "python",
   "nbconvert_exporter": "python",
   "pygments_lexer": "ipython3",
   "version": "3.10.8"
  }
 },
 "nbformat": 4,
 "nbformat_minor": 5
}
